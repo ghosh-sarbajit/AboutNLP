{
  "cells": [
    {
      "cell_type": "markdown",
      "id": "6c33bce9",
      "metadata": {
        "id": "6c33bce9"
      },
      "source": [
        "# Auditing a Causal Language Model (LM) using the Population Attack"
      ]
    },
    {
      "cell_type": "markdown",
      "id": "3b136388",
      "metadata": {
        "id": "3b136388"
      },
      "source": [
        "[Citation](https://github.com/privacytrustlab/ml_privacy_meter/blob/master/advanced/hf_causal_language_models.ipynb)"
      ]
    },
    {
      "cell_type": "markdown",
      "id": "6b26ec80",
      "metadata": {
        "id": "6b26ec80"
      },
      "source": [
        "## Imports"
      ]
    },
    {
      "cell_type": "code",
      "execution_count": 35,
      "id": "52763e91",
      "metadata": {
        "id": "52763e91"
      },
      "outputs": [],
      "source": [
        "import sys\n",
        "import numpy as np\n",
        "import torch\n",
        "from typing import List, Tuple"
      ]
    },
    {
      "cell_type": "code",
      "execution_count": 36,
      "id": "b234f1c2",
      "metadata": {
        "id": "b234f1c2"
      },
      "outputs": [],
      "source": [
        "!{sys.executable} -m pip install datasets\n",
        "!{sys.executable} -m pip install transformers\n",
        "from datasets import load_dataset\n",
        "from transformers import AutoModelForCausalLM, AutoTokenizer, TrainingArguments, Trainer\n",
        "from IPython.display import clear_output\n",
        "clear_output()"
      ]
    },
    {
      "cell_type": "code",
      "source": [
        "!pip install privacy-meter\n",
        "!pip install opacus\n",
        "from IPython.display import clear_output\n",
        "clear_output()"
      ],
      "metadata": {
        "id": "QqjCqqhfwI6L"
      },
      "id": "QqjCqqhfwI6L",
      "execution_count": 37,
      "outputs": []
    },
    {
      "cell_type": "code",
      "execution_count": 38,
      "id": "03ae357b",
      "metadata": {
        "id": "03ae357b"
      },
      "outputs": [],
      "source": [
        "# !{sys.executable} -m pip install -e ../.\n",
        "from privacy_meter.audit import Audit\n",
        "from privacy_meter.dataset import Dataset\n",
        "from privacy_meter.hypothesis_test import threshold_func\n",
        "from privacy_meter.information_source import InformationSource\n",
        "from privacy_meter.information_source_signal import Signal\n",
        "from privacy_meter.model import Model\n",
        "from privacy_meter.metric import PopulationMetric\n",
        "from privacy_meter.constants import InferenceGame\n",
        "from privacy_meter.audit_report import ROCCurveReport, SignalHistogramReport"
      ]
    },
    {
      "cell_type": "markdown",
      "id": "984f8e98",
      "metadata": {
        "id": "984f8e98"
      },
      "source": [
        "## Hyperparameters"
      ]
    },
    {
      "cell_type": "code",
      "execution_count": 39,
      "id": "2cd43118",
      "metadata": {
        "id": "2cd43118"
      },
      "outputs": [],
      "source": [
        "# a toy example for the population metric\n",
        "num_train_seqs = 25\n",
        "num_test_seqs = 25\n",
        "num_population_seqs = 100\n",
        "fpr_tolerance_list = [0.0, 0.1, 0.5, 0.9, 1.0]"
      ]
    },
    {
      "cell_type": "markdown",
      "id": "1f608226",
      "metadata": {
        "id": "1f608226"
      },
      "source": [
        "## Load dataset and model using HuggingFace"
      ]
    },
    {
      "cell_type": "markdown",
      "id": "51ee6e0d",
      "metadata": {
        "id": "51ee6e0d"
      },
      "source": [
        "### Load and split dataset"
      ]
    },
    {
      "cell_type": "code",
      "execution_count": 40,
      "id": "f6a25579",
      "metadata": {
        "id": "f6a25579"
      },
      "outputs": [],
      "source": [
        "# download dataset from huggingface\n",
        "hf_dataset = load_dataset(\"wikitext\", \"wikitext-2-raw-v1\")\n",
        "\n",
        "# remove empty rows\n",
        "hf_dataset = hf_dataset.filter(lambda elem: len(elem[\"text\"]) > 0)"
      ]
    },
    {
      "cell_type": "markdown",
      "id": "9593e25d",
      "metadata": {
        "id": "9593e25d"
      },
      "source": [
        "### Load and finetune model"
      ]
    },
    {
      "cell_type": "code",
      "execution_count": 41,
      "id": "d7942897",
      "metadata": {
        "id": "d7942897"
      },
      "outputs": [],
      "source": [
        "# load pretrained and tokenizer\n",
        "model_id = \"distilgpt2\"\n",
        "tokenizer = AutoTokenizer.from_pretrained(model_id, use_fast=True)\n",
        "model_obj = AutoModelForCausalLM.from_pretrained(model_id)"
      ]
    },
    {
      "cell_type": "markdown",
      "id": "d3379ea0",
      "metadata": {
        "id": "d3379ea0"
      },
      "source": [
        "We tokenize and group the dataset before finetuning the model:"
      ]
    },
    {
      "cell_type": "code",
      "execution_count": 42,
      "id": "57247626",
      "metadata": {
        "id": "57247626"
      },
      "outputs": [],
      "source": [
        "def tokenize_fn(examples):\n",
        "    return tokenizer(examples[\"text\"])\n",
        "\n",
        "tokenized_hf_dataset = hf_dataset.map(\n",
        "    tokenize_fn, batched=True, num_proc=2, remove_columns=[\"text\"]\n",
        ")"
      ]
    },
    {
      "cell_type": "code",
      "execution_count": 43,
      "id": "814dfdea",
      "metadata": {
        "id": "814dfdea"
      },
      "outputs": [],
      "source": [
        "block_size = 128\n",
        "def group_texts(examples):\n",
        "    # Concatenate all texts.\n",
        "    concatenated_examples = {k: sum(examples[k], []) for k in examples.keys()}\n",
        "    total_length = len(concatenated_examples[list(examples.keys())[0]])\n",
        "\n",
        "    total_length = (total_length // block_size) * block_size\n",
        "\n",
        "    # Split by chunks of max_len.\n",
        "    result = {\n",
        "        k: [t[i : i + block_size] for i in range(0, total_length, block_size)]\n",
        "        for k, t in concatenated_examples.items()\n",
        "    }\n",
        "\n",
        "    result[\"labels\"] = result[\"input_ids\"].copy()\n",
        "    return result\n",
        "\n",
        "lm_hf_dataset = tokenized_hf_dataset.map(\n",
        "    group_texts, batched=True, batch_size=64, num_proc=2\n",
        ")"
      ]
    },
    {
      "cell_type": "code",
      "execution_count": 44,
      "id": "34e017f5",
      "metadata": {
        "id": "34e017f5"
      },
      "outputs": [],
      "source": [
        "finetune_args = TrainingArguments(num_train_epochs=5, output_dir=\"privacy_meter_logs/\")"
      ]
    },
    {
      "cell_type": "code",
      "execution_count": 45,
      "id": "fb784f6d",
      "metadata": {
        "id": "fb784f6d",
        "outputId": "b870410e-1dd8-46bd-edc6-80bee68a212b",
        "colab": {
          "base_uri": "https://localhost:8080/",
          "height": 110
        }
      },
      "outputs": [
        {
          "output_type": "display_data",
          "data": {
            "text/plain": [
              "<IPython.core.display.HTML object>"
            ],
            "text/html": [
              "\n",
              "    <div>\n",
              "      \n",
              "      <progress value='20' max='20' style='width:300px; height:20px; vertical-align: middle;'></progress>\n",
              "      [20/20 00:07, Epoch 5/5]\n",
              "    </div>\n",
              "    <table border=\"1\" class=\"dataframe\">\n",
              "  <thead>\n",
              " <tr style=\"text-align: left;\">\n",
              "      <th>Step</th>\n",
              "      <th>Training Loss</th>\n",
              "    </tr>\n",
              "  </thead>\n",
              "  <tbody>\n",
              "  </tbody>\n",
              "</table><p>"
            ]
          },
          "metadata": {}
        },
        {
          "output_type": "execute_result",
          "data": {
            "text/plain": [
              "TrainOutput(global_step=20, training_loss=3.822214889526367, metrics={'train_runtime': 7.5059, 'train_samples_per_second': 16.653, 'train_steps_per_second': 2.665, 'total_flos': 4082761728000.0, 'train_loss': 3.822214889526367, 'epoch': 5.0})"
            ]
          },
          "metadata": {},
          "execution_count": 45
        }
      ],
      "source": [
        "hf_trainer = Trainer(\n",
        "    model=model_obj,\n",
        "    args=finetune_args,\n",
        "    train_dataset=lm_hf_dataset[\"train\"].select(range(num_train_seqs)),\n",
        "    eval_dataset=lm_hf_dataset[\"validation\"]\n",
        ")\n",
        "\n",
        "hf_trainer.train()"
      ]
    },
    {
      "cell_type": "markdown",
      "id": "0123f22d",
      "metadata": {
        "id": "0123f22d"
      },
      "source": [
        "## Extend Privacy Meter to work with HuggingFace Causal LMs"
      ]
    },
    {
      "cell_type": "markdown",
      "id": "6549eb28",
      "metadata": {
        "id": "6549eb28"
      },
      "source": [
        "### Extend the Model class"
      ]
    },
    {
      "cell_type": "code",
      "execution_count": 46,
      "id": "20f61e9d",
      "metadata": {
        "id": "20f61e9d"
      },
      "outputs": [],
      "source": [
        "class HfCausalLMModel(Model):\n",
        "    \"\"\"Inherits of the Model class, an interface to query a model without any assumption on how it is implemented.\n",
        "    This particular class is to be used with HuggingFace Causal LM models.\n",
        "    \"\"\"\n",
        "\n",
        "    def __init__(self, model_obj, loss_fn, stride=64):\n",
        "        \"\"\"Constructor\n",
        "        Args:\n",
        "            model_obj: model object\n",
        "            loss_fn: loss function\n",
        "            stride: window size that will be used by the fixed length\n",
        "            causal model for processing an input sequence\n",
        "        \"\"\"\n",
        "\n",
        "        # Initializes the parent model\n",
        "        super().__init__(model_obj, loss_fn)\n",
        "\n",
        "        self.stride = stride\n",
        "\n",
        "    def get_outputs(self, batch_samples):\n",
        "        \"\"\"Function to get the model output from a given input.\n",
        "        Args:\n",
        "            batch_samples: Model input\n",
        "        Returns:\n",
        "            Model output\n",
        "        \"\"\"\n",
        "        pass\n",
        "\n",
        "    def get_loss(self, batch_samples, batch_labels):\n",
        "        \"\"\"Function to get the model loss on a given input and an expected output.\n",
        "        Args:\n",
        "            batch_samples: Model input\n",
        "            batch_labels: Model expected output\n",
        "        Returns:\n",
        "            The loss value, as defined by the loss_fn attribute.\n",
        "        \"\"\"\n",
        "        pass\n",
        "\n",
        "    def get_logits(self, batch_samples):\n",
        "        return super().get_logits(batch_samples)\n",
        "    def get_grad(self, batch_samples, batch_labels):\n",
        "        \"\"\"Function to get the gradient of the model loss with respect to the model parameters, on a given input and an\n",
        "        expected output.\n",
        "        Args:\n",
        "            batch_samples: Model input\n",
        "            batch_labels: Model expected output\n",
        "        Returns:\n",
        "            A list of gradients of the model loss (one item per layer) with respect to the model parameters.\n",
        "        \"\"\"\n",
        "        pass\n",
        "\n",
        "    def get_intermediate_outputs(self, layers, batch_samples, forward_pass=True):\n",
        "        \"\"\"Function to get the intermediate output of layers (a.k.a. features), on a given input.\n",
        "        Args:\n",
        "            layers: List of integers and/or strings, indicating which layers values should be returned\n",
        "            batch_samples: Model input\n",
        "            forward_pass: Boolean indicating if a new forward pass should be executed. If True, then a forward pass is\n",
        "                executed on batch_samples. Else, the result is the one of the last forward pass.\n",
        "        Returns:\n",
        "            A list of intermediate outputs of layers.\n",
        "        \"\"\"\n",
        "        pass\n",
        "\n",
        "    def get_perplexity(self, batch_samples):\n",
        "        \"\"\"Function to get the perplexity of the model loss, on a given input sequence.\n",
        "        Args:\n",
        "            batch_samples: Model input\n",
        "        Returns:\n",
        "            A list of perplexity values.\n",
        "        \"\"\"\n",
        "        max_length = self.model_obj.config.n_positions\n",
        "\n",
        "        ppl_values = []\n",
        "        for sample in batch_samples:\n",
        "            sample_length = len(sample)\n",
        "\n",
        "            sample = np.expand_dims(sample, axis=0) # the model takes in a batch of sequences\n",
        "            sample = torch.tensor(sample, dtype=torch.long)\n",
        "\n",
        "            nlls = []\n",
        "            for i in range(0, sample_length, self.stride):\n",
        "                begin_loc = max(i + self.stride - max_length, 0)\n",
        "                end_loc = min(i + self.stride, sample_length)\n",
        "\n",
        "                trg_len = end_loc - i  # may be different from stride on last loop\n",
        "\n",
        "                input_ids = sample[:, begin_loc:end_loc]\n",
        "                target_ids = input_ids.clone()\n",
        "                target_ids[:, :-trg_len] = -100\n",
        "\n",
        "                with torch.no_grad():\n",
        "                    outputs = self.model_obj(input_ids, labels=target_ids)\n",
        "                    neg_log_likelihood = outputs[0] * trg_len\n",
        "\n",
        "                nlls.append(neg_log_likelihood)\n",
        "            ppl = torch.exp(torch.stack(nlls).sum() / end_loc)\n",
        "\n",
        "            ppl_values.append(ppl)\n",
        "\n",
        "        return ppl_values"
      ]
    },
    {
      "cell_type": "markdown",
      "id": "079c7b3d",
      "metadata": {
        "id": "079c7b3d"
      },
      "source": [
        "### Create a new Signal for computing perplexity"
      ]
    },
    {
      "cell_type": "code",
      "execution_count": 47,
      "id": "ec923988",
      "metadata": {
        "id": "ec923988"
      },
      "outputs": [],
      "source": [
        "class ModelPerplexity(Signal):\n",
        "    \"\"\"\n",
        "    Inherits of the Signal class, used to represent any type of signal that can be obtained from a Model and/or a Dataset.\n",
        "    This particular class is used to get the perplexity of a model.\n",
        "    \"\"\"\n",
        "\n",
        "    def __call__(self,\n",
        "                 models: List[Model],\n",
        "                 datasets: List[Dataset],\n",
        "                 model_to_split_mapping: List[Tuple[int, str, str, str]],\n",
        "                 extra: dict\n",
        "                 ):\n",
        "        \"\"\"Built-in call method.\n",
        "        Args:\n",
        "            models: List of models that can be queried.\n",
        "            datasets: List of datasets that can be queried.\n",
        "            model_to_split_mapping: List of tuples, indicating how each model should query the dataset.\n",
        "                More specifically, for model #i:\n",
        "                model_to_split_mapping[i][0] contains the index of the dataset in the list,\n",
        "                model_to_split_mapping[i][1] contains the name of the split,\n",
        "                model_to_split_mapping[i][2] contains the name of the input feature,\n",
        "                model_to_split_mapping[i][3] contains the name of the output feature.\n",
        "                This can also be provided once and for all at the instantiation of InformationSource, through the\n",
        "                default_model_to_split_mapping argument.\n",
        "            extra: Dictionary containing any additional parameter that should be passed to the signal object.\n",
        "        Returns:\n",
        "            The signal value.\n",
        "        \"\"\"\n",
        "\n",
        "        results = []\n",
        "        # Compute the signal for each model\n",
        "        for k, model in enumerate(models):\n",
        "            # Extract the features to be used\n",
        "            dataset_index, split_name, input_feature, output_feature = model_to_split_mapping[k]\n",
        "            x = datasets[dataset_index].get_feature(split_name, input_feature)\n",
        "            # Compute the signal\n",
        "            results.append(model.get_perplexity(x))\n",
        "        return results"
      ]
    },
    {
      "cell_type": "markdown",
      "id": "8f72ac31",
      "metadata": {
        "id": "8f72ac31"
      },
      "source": [
        "### Audit LM using PopulationMetric"
      ]
    },
    {
      "cell_type": "markdown",
      "id": "914d0619",
      "metadata": {
        "id": "914d0619"
      },
      "source": [
        "We first create the target and reference datasets using the `Dataset` class. Since we already processed the dataset before for finetuning, we do not need to pass a preprocessing function while creating the `Dataset` objects:"
      ]
    },
    {
      "cell_type": "code",
      "execution_count": 48,
      "id": "9387580a",
      "metadata": {
        "id": "9387580a"
      },
      "outputs": [],
      "source": [
        "# split data into 'train', 'test', and 'population'\n",
        "train_split = lm_hf_dataset[\"train\"].select(range(num_train_seqs))\n",
        "test_split =  lm_hf_dataset[\"test\"].select(range(num_test_seqs))\n",
        "population_split = lm_hf_dataset[\"train\"].select(\n",
        "    range(num_train_seqs, (num_train_seqs + num_population_seqs))\n",
        ")"
      ]
    },
    {
      "cell_type": "code",
      "execution_count": 49,
      "id": "f3d3181c",
      "metadata": {
        "id": "f3d3181c"
      },
      "outputs": [],
      "source": [
        "# set format of datasets to be compatible with Privacy Meter\n",
        "train_split.set_format(\"numpy\")\n",
        "test_split.set_format(\"numpy\")\n",
        "population_split.set_format(\"numpy\")"
      ]
    },
    {
      "cell_type": "code",
      "execution_count": 50,
      "id": "e53ed773",
      "metadata": {
        "id": "e53ed773"
      },
      "outputs": [],
      "source": [
        "train_ds = {'input': train_split['input_ids']}\n",
        "test_ds = {'input': test_split['input_ids']}\n",
        "population_ds = {'input': population_split['input_ids']}"
      ]
    },
    {
      "cell_type": "code",
      "execution_count": 51,
      "id": "937ea27f",
      "metadata": {
        "id": "937ea27f"
      },
      "outputs": [],
      "source": [
        "target_dataset = Dataset(\n",
        "    data_dict={'train': train_ds, 'test': test_ds},\n",
        "    default_input='input',\n",
        "    default_output=None\n",
        ")"
      ]
    },
    {
      "cell_type": "code",
      "execution_count": 52,
      "id": "87041f73",
      "metadata": {
        "id": "87041f73"
      },
      "outputs": [],
      "source": [
        "reference_dataset = Dataset(\n",
        "    data_dict={'train': population_ds},\n",
        "    default_input='input',\n",
        "    default_output=None\n",
        ")"
      ]
    },
    {
      "cell_type": "markdown",
      "id": "5ef087cb",
      "metadata": {
        "id": "5ef087cb"
      },
      "source": [
        "Then, we wrap the model we finetuned into our custom `HfCausalLMModel` class:"
      ]
    },
    {
      "cell_type": "code",
      "execution_count": 53,
      "id": "ff830896",
      "metadata": {
        "id": "ff830896"
      },
      "outputs": [],
      "source": [
        "stride = 512\n",
        "model_obj.to('cpu')\n",
        "target_model = HfCausalLMModel(\n",
        "    model_obj=model_obj,\n",
        "    loss_fn=None,\n",
        "    stride=stride\n",
        ")"
      ]
    },
    {
      "cell_type": "markdown",
      "id": "7698beec",
      "metadata": {
        "id": "7698beec"
      },
      "source": [
        "Next, we create the target and reference `InformationSource` objects for the audit:"
      ]
    },
    {
      "cell_type": "code",
      "execution_count": 54,
      "id": "00e6519e",
      "metadata": {
        "id": "00e6519e"
      },
      "outputs": [],
      "source": [
        "target_info_source = InformationSource(\n",
        "    models=[target_model],\n",
        "    datasets=[target_dataset]\n",
        ")\n",
        "\n",
        "reference_info_source = InformationSource(\n",
        "    models=[target_model],\n",
        "    datasets=[reference_dataset]\n",
        ")"
      ]
    },
    {
      "cell_type": "markdown",
      "id": "bdeec3dc",
      "metadata": {
        "id": "bdeec3dc"
      },
      "source": [
        "And now we create a `PopulationMetric` object that uses perplexity as the signal:"
      ]
    },
    {
      "cell_type": "code",
      "execution_count": 55,
      "id": "8c42991b",
      "metadata": {
        "id": "8c42991b"
      },
      "outputs": [],
      "source": [
        "population_metric_obj = PopulationMetric(\n",
        "    target_info_source=target_info_source,\n",
        "    reference_info_source=reference_info_source,\n",
        "    signals=[ModelPerplexity()],\n",
        "    hypothesis_test_func=threshold_func,\n",
        ")"
      ]
    },
    {
      "cell_type": "markdown",
      "id": "642a88f6",
      "metadata": {
        "id": "642a88f6"
      },
      "source": [
        "Finally, we create the `Audit` object and run the audit on our finetuned model:"
      ]
    },
    {
      "cell_type": "code",
      "execution_count": 56,
      "id": "7055a3ce",
      "metadata": {
        "id": "7055a3ce",
        "outputId": "0d102ae1-8610-406f-a9fe-ec2c10c50d0f",
        "colab": {
          "base_uri": "https://localhost:8080/"
        }
      },
      "outputs": [
        {
          "output_type": "stream",
          "name": "stdout",
          "text": [
            "Results are stored in: ['/content/log_2024-08-01_07-27-59-000']\n",
            "[<privacy_meter.metric_result.CombinedMetricResult object at 0x78cb3859ff70>]\n"
          ]
        }
      ],
      "source": [
        "audit_obj = Audit(\n",
        "    metrics=population_metric_obj,\n",
        "    target_info_sources=target_info_source,\n",
        "    reference_info_sources=reference_info_source,\n",
        "    fpr_tolerances=fpr_tolerance_list,\n",
        "    inference_game_type=InferenceGame.PRIVACY_LOSS_MODEL\n",
        ")\n",
        "audit_obj.prepare()\n",
        "\n",
        "audit_results = audit_obj.run()\n",
        "for result in audit_results:\n",
        "    print(result)"
      ]
    },
    {
      "cell_type": "code",
      "execution_count": 57,
      "id": "0b4c22bd",
      "metadata": {
        "id": "0b4c22bd"
      },
      "outputs": [],
      "source": [
        "# This instruction won't be needed once the tool is on pip\n",
        "from privacy_meter import audit_report\n",
        "audit_report.REPORT_FILES_DIR = '../privacy_meter/report_files'"
      ]
    },
    {
      "cell_type": "code",
      "execution_count": 58,
      "id": "8437a41b",
      "metadata": {
        "id": "8437a41b",
        "outputId": "92cfef44-0313-476c-bc15-4b9cced5c8ca",
        "colab": {
          "base_uri": "https://localhost:8080/",
          "height": 507
        }
      },
      "outputs": [
        {
          "output_type": "display_data",
          "data": {
            "text/plain": [
              "<Figure size 640x480 with 1 Axes>"
            ],
            "image/png": "[encoded data removed]"
          },
          "metadata": {}
        },
        {
          "output_type": "stream",
          "name": "stdout",
          "text": [
            "AUC = 0.852\n"
          ]
        },
        {
          "output_type": "display_data",
          "data": {
            "text/plain": [
              "<Figure size 640x480 with 0 Axes>"
            ]
          },
          "metadata": {}
        }
      ],
      "source": [
        "ROCCurveReport.generate_report(\n",
        "    metric_result=audit_results[0],\n",
        "    inference_game_type=InferenceGame.PRIVACY_LOSS_MODEL,\n",
        "    show=True\n",
        ")"
      ]
    },
    {
      "cell_type": "code",
      "execution_count": 59,
      "id": "d153f6bd",
      "metadata": {
        "id": "d153f6bd",
        "outputId": "681bf281-6120-4f84-b0b8-1a17491657b5",
        "colab": {
          "base_uri": "https://localhost:8080/",
          "height": 489
        }
      },
      "outputs": [
        {
          "output_type": "display_data",
          "data": {
            "text/plain": [
              "<Figure size 640x480 with 1 Axes>"
            ],
            "image/png": "[encoded data removed]"
          },
          "metadata": {}
        },
        {
          "output_type": "display_data",
          "data": {
            "text/plain": [
              "<Figure size 640x480 with 0 Axes>"
            ]
          },
          "metadata": {}
        }
      ],
      "source": [
        "SignalHistogramReport.generate_report(\n",
        "    metric_result=audit_results[0][0],\n",
        "    inference_game_type=InferenceGame.PRIVACY_LOSS_MODEL,\n",
        "    show=True\n",
        ")"
      ]
    },
    {
      "cell_type": "code",
      "execution_count": 59,
      "id": "0b584a77",
      "metadata": {
        "id": "0b584a77"
      },
      "outputs": [],
      "source": []
    }
  ],
  "metadata": {
    "kernelspec": {
      "display_name": "Python 3",
      "name": "python3"
    },
    "language_info": {
      "codemirror_mode": {
        "name": "ipython",
        "version": 3
      },
      "file_extension": ".py",
      "mimetype": "text/x-python",
      "name": "python",
      "nbconvert_exporter": "python",
      "pygments_lexer": "ipython3",
      "version": "3.9.16 | packaged by conda-forge | (main, Feb  1 2023, 21:39:03) \n[GCC 11.3.0]"
    },
    "vscode": {
      "interpreter": {
        "hash": "ff5ee332438c92f929e001ac582f4dc65f589c5b69932de359bcb69410618153"
      }
    },
    "colab": {
      "provenance": [],
      "gpuType": "T4"
    },
    "accelerator": "GPU"
  },
  "nbformat": 4,
  "nbformat_minor": 5
}