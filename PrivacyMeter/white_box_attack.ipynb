{
  "cells": [
    {
      "cell_type": "markdown",
      "metadata": {
        "id": "view-in-github",
        "colab_type": "text"
      },
      "source": [
        "<a href=\"https://colab.research.google.com/github/ghosh-sarbajit/AboutNLP/blob/main/PrivacyMeter/white_box_attack.ipynb\" target=\"_parent\"><img src=\"https://colab.research.google.com/assets/colab-badge.svg\" alt=\"Open In Colab\"/></a>"
      ]
    },
    {
      "cell_type": "markdown",
      "metadata": {
        "id": "2NVVmoeiad2g"
      },
      "source": [
        "# Whitebox attack using Privacy Meter"
      ]
    },
    {
      "cell_type": "markdown",
      "metadata": {
        "id": "_Jze29_had2i"
      },
      "source": [
        "## Introduction\n",
        "\n",
        "In this tutorial we will see:\n",
        "\n",
        "- How to use the Privacy Meter to audit model implemented on Pytorch\n",
        "- How to extract the white-box signal (i.e., gradient norm)\n",
        "- How to run membership inference attack based on white-box attack based on the population attack"
      ]
    },
    {
      "cell_type": "markdown",
      "metadata": {
        "id": "oL20LtnNad2k"
      },
      "source": [
        "[Citation](https://github.com/privacytrustlab/ml_privacy_meter/blob/master/advanced/white_box_attack.ipynb)"
      ]
    },
    {
      "cell_type": "markdown",
      "metadata": {
        "id": "g6bLBX3iad2l"
      },
      "source": [
        "# Import"
      ]
    },
    {
      "cell_type": "code",
      "execution_count": 1,
      "metadata": {
        "id": "vnCteXEfad2n"
      },
      "outputs": [],
      "source": [
        "import numpy as np\n",
        "\n",
        "import torch.nn.functional as F\n",
        "from torch import nn\n",
        "import torchvision\n",
        "import os\n",
        "import pickle\n",
        "from ast import List\n",
        "import time\n",
        "import numpy as np\n",
        "import torch\n",
        "import torchvision\n",
        "from torchvision import transforms"
      ]
    },
    {
      "cell_type": "code",
      "source": [
        "!pip install privacy-meter\n",
        "!pip install opacus"
      ],
      "metadata": {
        "id": "j4wQe9w9bFzN",
        "outputId": "59a15894-6ded-43ce-e09b-c779609762b3",
        "colab": {
          "base_uri": "https://localhost:8080/"
        }
      },
      "execution_count": 2,
      "outputs": [
        {
          "output_type": "stream",
          "name": "stdout",
          "text": [
            "Collecting privacy-meter\n",
            "  Downloading Privacy_Meter-1.0.1-py3-none-any.whl.metadata (9.6 kB)\n",
            "Downloading Privacy_Meter-1.0.1-py3-none-any.whl (31 kB)\n",
            "Installing collected packages: privacy-meter\n",
            "Successfully installed privacy-meter-1.0.1\n",
            "Collecting opacus\n",
            "  Downloading opacus-1.5.1-py3-none-any.whl.metadata (7.9 kB)\n",
            "Requirement already satisfied: numpy<2.0,>=1.15 in /usr/local/lib/python3.10/dist-packages (from opacus) (1.26.4)\n",
            "Requirement already satisfied: torch>=2.0 in /usr/local/lib/python3.10/dist-packages (from opacus) (2.3.1+cu121)\n",
            "Requirement already satisfied: scipy>=1.2 in /usr/local/lib/python3.10/dist-packages (from opacus) (1.13.1)\n",
            "Requirement already satisfied: opt-einsum>=3.3.0 in /usr/local/lib/python3.10/dist-packages (from opacus) (3.3.0)\n",
            "Requirement already satisfied: filelock in /usr/local/lib/python3.10/dist-packages (from torch>=2.0->opacus) (3.15.4)\n",
            "Requirement already satisfied: typing-extensions>=4.8.0 in /usr/local/lib/python3.10/dist-packages (from torch>=2.0->opacus) (4.12.2)\n",
            "Requirement already satisfied: sympy in /usr/local/lib/python3.10/dist-packages (from torch>=2.0->opacus) (1.13.1)\n",
            "Requirement already satisfied: networkx in /usr/local/lib/python3.10/dist-packages (from torch>=2.0->opacus) (3.3)\n",
            "Requirement already satisfied: jinja2 in /usr/local/lib/python3.10/dist-packages (from torch>=2.0->opacus) (3.1.4)\n",
            "Requirement already satisfied: fsspec in /usr/local/lib/python3.10/dist-packages (from torch>=2.0->opacus) (2024.6.1)\n",
            "Collecting nvidia-cuda-nvrtc-cu12==12.1.105 (from torch>=2.0->opacus)\n",
            "  Using cached nvidia_cuda_nvrtc_cu12-12.1.105-py3-none-manylinux1_x86_64.whl.metadata (1.5 kB)\n",
            "Collecting nvidia-cuda-runtime-cu12==12.1.105 (from torch>=2.0->opacus)\n",
            "  Using cached nvidia_cuda_runtime_cu12-12.1.105-py3-none-manylinux1_x86_64.whl.metadata (1.5 kB)\n",
            "Collecting nvidia-cuda-cupti-cu12==12.1.105 (from torch>=2.0->opacus)\n",
            "  Using cached nvidia_cuda_cupti_cu12-12.1.105-py3-none-manylinux1_x86_64.whl.metadata (1.6 kB)\n",
            "Collecting nvidia-cudnn-cu12==8.9.2.26 (from torch>=2.0->opacus)\n",
            "  Using cached nvidia_cudnn_cu12-8.9.2.26-py3-none-manylinux1_x86_64.whl.metadata (1.6 kB)\n",
            "Collecting nvidia-cublas-cu12==12.1.3.1 (from torch>=2.0->opacus)\n",
            "  Using cached nvidia_cublas_cu12-12.1.3.1-py3-none-manylinux1_x86_64.whl.metadata (1.5 kB)\n",
            "Collecting nvidia-cufft-cu12==11.0.2.54 (from torch>=2.0->opacus)\n",
            "  Using cached nvidia_cufft_cu12-11.0.2.54-py3-none-manylinux1_x86_64.whl.metadata (1.5 kB)\n",
            "Collecting nvidia-curand-cu12==10.3.2.106 (from torch>=2.0->opacus)\n",
            "  Using cached nvidia_curand_cu12-10.3.2.106-py3-none-manylinux1_x86_64.whl.metadata (1.5 kB)\n",
            "Collecting nvidia-cusolver-cu12==11.4.5.107 (from torch>=2.0->opacus)\n",
            "  Using cached nvidia_cusolver_cu12-11.4.5.107-py3-none-manylinux1_x86_64.whl.metadata (1.6 kB)\n",
            "Collecting nvidia-cusparse-cu12==12.1.0.106 (from torch>=2.0->opacus)\n",
            "  Using cached nvidia_cusparse_cu12-12.1.0.106-py3-none-manylinux1_x86_64.whl.metadata (1.6 kB)\n",
            "Collecting nvidia-nccl-cu12==2.20.5 (from torch>=2.0->opacus)\n",
            "  Using cached nvidia_nccl_cu12-2.20.5-py3-none-manylinux2014_x86_64.whl.metadata (1.8 kB)\n",
            "Collecting nvidia-nvtx-cu12==12.1.105 (from torch>=2.0->opacus)\n",
            "  Using cached nvidia_nvtx_cu12-12.1.105-py3-none-manylinux1_x86_64.whl.metadata (1.7 kB)\n",
            "Requirement already satisfied: triton==2.3.1 in /usr/local/lib/python3.10/dist-packages (from torch>=2.0->opacus) (2.3.1)\n",
            "Collecting nvidia-nvjitlink-cu12 (from nvidia-cusolver-cu12==11.4.5.107->torch>=2.0->opacus)\n",
            "  Downloading nvidia_nvjitlink_cu12-12.5.82-py3-none-manylinux2014_x86_64.whl.metadata (1.5 kB)\n",
            "Requirement already satisfied: MarkupSafe>=2.0 in /usr/local/lib/python3.10/dist-packages (from jinja2->torch>=2.0->opacus) (2.1.5)\n",
            "Requirement already satisfied: mpmath<1.4,>=1.1.0 in /usr/local/lib/python3.10/dist-packages (from sympy->torch>=2.0->opacus) (1.3.0)\n",
            "Downloading opacus-1.5.1-py3-none-any.whl (238 kB)\n",
            "\u001b[2K   \u001b[90m━━━━━━━━━━━━━━━━━━━━━━━━━━━━━━━━━━━━━━━━\u001b[0m \u001b[32m238.7/238.7 kB\u001b[0m \u001b[31m11.8 MB/s\u001b[0m eta \u001b[36m0:00:00\u001b[0m\n",
            "\u001b[?25hUsing cached nvidia_cublas_cu12-12.1.3.1-py3-none-manylinux1_x86_64.whl (410.6 MB)\n",
            "Using cached nvidia_cuda_cupti_cu12-12.1.105-py3-none-manylinux1_x86_64.whl (14.1 MB)\n",
            "Using cached nvidia_cuda_nvrtc_cu12-12.1.105-py3-none-manylinux1_x86_64.whl (23.7 MB)\n",
            "Using cached nvidia_cuda_runtime_cu12-12.1.105-py3-none-manylinux1_x86_64.whl (823 kB)\n",
            "Using cached nvidia_cudnn_cu12-8.9.2.26-py3-none-manylinux1_x86_64.whl (731.7 MB)\n",
            "Using cached nvidia_cufft_cu12-11.0.2.54-py3-none-manylinux1_x86_64.whl (121.6 MB)\n",
            "Using cached nvidia_curand_cu12-10.3.2.106-py3-none-manylinux1_x86_64.whl (56.5 MB)\n",
            "Using cached nvidia_cusolver_cu12-11.4.5.107-py3-none-manylinux1_x86_64.whl (124.2 MB)\n",
            "Using cached nvidia_cusparse_cu12-12.1.0.106-py3-none-manylinux1_x86_64.whl (196.0 MB)\n",
            "Using cached nvidia_nccl_cu12-2.20.5-py3-none-manylinux2014_x86_64.whl (176.2 MB)\n",
            "Using cached nvidia_nvtx_cu12-12.1.105-py3-none-manylinux1_x86_64.whl (99 kB)\n",
            "Downloading nvidia_nvjitlink_cu12-12.5.82-py3-none-manylinux2014_x86_64.whl (21.3 MB)\n",
            "\u001b[2K   \u001b[90m━━━━━━━━━━━━━━━━━━━━━━━━━━━━━━━━━━━━━━━━\u001b[0m \u001b[32m21.3/21.3 MB\u001b[0m \u001b[31m14.1 MB/s\u001b[0m eta \u001b[36m0:00:00\u001b[0m\n",
            "\u001b[?25hInstalling collected packages: nvidia-nvtx-cu12, nvidia-nvjitlink-cu12, nvidia-nccl-cu12, nvidia-curand-cu12, nvidia-cufft-cu12, nvidia-cuda-runtime-cu12, nvidia-cuda-nvrtc-cu12, nvidia-cuda-cupti-cu12, nvidia-cublas-cu12, nvidia-cusparse-cu12, nvidia-cudnn-cu12, nvidia-cusolver-cu12, opacus\n",
            "Successfully installed nvidia-cublas-cu12-12.1.3.1 nvidia-cuda-cupti-cu12-12.1.105 nvidia-cuda-nvrtc-cu12-12.1.105 nvidia-cuda-runtime-cu12-12.1.105 nvidia-cudnn-cu12-8.9.2.26 nvidia-cufft-cu12-11.0.2.54 nvidia-curand-cu12-10.3.2.106 nvidia-cusolver-cu12-11.4.5.107 nvidia-cusparse-cu12-12.1.0.106 nvidia-nccl-cu12-2.20.5 nvidia-nvjitlink-cu12-12.5.82 nvidia-nvtx-cu12-12.1.105 opacus-1.5.1\n"
          ]
        }
      ]
    },
    {
      "cell_type": "code",
      "execution_count": 3,
      "metadata": {
        "id": "0KbQv52nad2o"
      },
      "outputs": [],
      "source": [
        "from privacy_meter.audit import Audit, MetricEnum\n",
        "from privacy_meter.metric import PopulationMetric\n",
        "from privacy_meter.information_source_signal import ModelGradientNorm, ModelGradient, ModelLoss\n",
        "from privacy_meter.hypothesis_test import linear_itp_threshold_func\n",
        "from privacy_meter.audit_report import ROCCurveReport, SignalHistogramReport\n",
        "from privacy_meter.constants import InferenceGame\n",
        "from privacy_meter.dataset import Dataset\n",
        "from privacy_meter.information_source import InformationSource\n",
        "from privacy_meter.model import PytorchModelTensor"
      ]
    },
    {
      "cell_type": "markdown",
      "metadata": {
        "id": "Eb0kkOWsad2p"
      },
      "source": [
        "# Define hyper-parameters"
      ]
    },
    {
      "cell_type": "code",
      "execution_count": 4,
      "metadata": {
        "id": "hBhpEe51ad2q"
      },
      "outputs": [],
      "source": [
        "# for training the target model\n",
        "num_train_points = 5000\n",
        "num_test_points = 5000\n",
        "num_population_points = 10000\n",
        "batch_size=64\n",
        "learning_rate = 0.001\n",
        "epochs=50"
      ]
    },
    {
      "cell_type": "markdown",
      "metadata": {
        "id": "jdhgEoaRad2r"
      },
      "source": [
        "# Define the model"
      ]
    },
    {
      "cell_type": "code",
      "execution_count": 5,
      "metadata": {
        "id": "IxK-Pqt6ad2t"
      },
      "outputs": [],
      "source": [
        "\n",
        "class Net(nn.Module):\n",
        "    \"\"\"Simple CNN for CIFAR10 dataset.\"\"\"\n",
        "\n",
        "    def __init__(self):\n",
        "        super().__init__()\n",
        "        self.conv1 = nn.Conv2d(3, 6, 5)\n",
        "        self.pool = nn.MaxPool2d(2, 2)\n",
        "        self.conv2 = nn.Conv2d(6, 16, 5)\n",
        "        self.fc1 = nn.Linear(16 * 5 * 5, 120)\n",
        "        self.fc2 = nn.Linear(120, 84)\n",
        "        self.fc3 = nn.Linear(84, 10)\n",
        "\n",
        "    def forward(self, inputs):\n",
        "        \"\"\"Forward pass of the model.\"\"\"\n",
        "        inputs = self.pool(F.relu(self.conv1(inputs)))\n",
        "        inputs = self.pool(F.relu(self.conv2(inputs)))\n",
        "        # flatten all dimensions except batch\n",
        "        inputs = inputs.reshape(-1, 16 * 5 * 5)\n",
        "        inputs = F.relu(self.fc1(inputs))\n",
        "        inputs = F.relu(self.fc2(inputs))\n",
        "        outputs = self.fc3(inputs)\n",
        "        return outputs\n"
      ]
    },
    {
      "cell_type": "markdown",
      "metadata": {
        "id": "_UokMDtrad2u"
      },
      "source": [
        "# Create the data"
      ]
    },
    {
      "cell_type": "markdown",
      "metadata": {
        "id": "gS0INg-Fad2v"
      },
      "source": [
        "Load all the data"
      ]
    },
    {
      "cell_type": "code",
      "execution_count": 6,
      "metadata": {
        "id": "Dku02OnXad2w",
        "outputId": "9b5d850d-07b6-4c9e-d9e6-ac827ed30412",
        "colab": {
          "base_uri": "https://localhost:8080/"
        }
      },
      "outputs": [
        {
          "output_type": "stream",
          "name": "stdout",
          "text": [
            "Downloading https://www.cs.toronto.edu/~kriz/cifar-10-python.tar.gz to ./cifar-10-python.tar.gz\n"
          ]
        },
        {
          "output_type": "stream",
          "name": "stderr",
          "text": [
            "100%|██████████| 170498071/170498071 [00:13<00:00, 13084398.14it/s]\n"
          ]
        },
        {
          "output_type": "stream",
          "name": "stdout",
          "text": [
            "Extracting ./cifar-10-python.tar.gz to .\n",
            "Files already downloaded and verified\n"
          ]
        }
      ],
      "source": [
        "transform = transforms.Compose([transforms.ToTensor()])\n",
        "all_data = torchvision.datasets.CIFAR10(\n",
        "    root='.', train=True, download=True, transform=transform\n",
        ")\n",
        "test_data = torchvision.datasets.CIFAR10(\n",
        "    root='.', train=False, download=True, transform=transform\n",
        ")\n",
        "all_features = np.concatenate([all_data.data, test_data.data], axis=0)\n",
        "all_targets = np.concatenate([all_data.targets, test_data.targets], axis=0)\n",
        "\n",
        "all_data.data = all_features\n",
        "all_data.targets = all_targets"
      ]
    },
    {
      "cell_type": "markdown",
      "metadata": {
        "id": "VfHn3I_Cad2x"
      },
      "source": [
        "Split the data into train, test and population"
      ]
    },
    {
      "cell_type": "code",
      "execution_count": 7,
      "metadata": {
        "id": "VAusArq7ad2y"
      },
      "outputs": [],
      "source": [
        "all_index = np.arange(len(all_data))\n",
        "train_index = np.random.choice(all_index, num_train_points, replace=False)\n",
        "test_index = np.random.choice([i for i in all_index if i not in train_index], num_test_points, replace=False)\n",
        "population_index = np.random.choice([i for i in all_index if i not in train_index and i not in test_index], num_population_points, replace=False)"
      ]
    },
    {
      "cell_type": "markdown",
      "metadata": {
        "id": "sRe0Vp_oad2y"
      },
      "source": [
        "Create the data loader for training the target model"
      ]
    },
    {
      "cell_type": "code",
      "execution_count": 8,
      "metadata": {
        "id": "zL-CIqWnad2z",
        "outputId": "c042eab0-91e7-4e79-e272-110a036dfa38",
        "colab": {
          "base_uri": "https://localhost:8080/"
        }
      },
      "outputs": [
        {
          "output_type": "stream",
          "name": "stderr",
          "text": [
            "/usr/local/lib/python3.10/dist-packages/torch/utils/data/dataloader.py:558: UserWarning: This DataLoader will create 4 worker processes in total. Our suggested max number of worker in current system is 2, which is smaller than what this DataLoader is going to create. Please be aware that excessive worker creation might get DataLoader running slow or even freeze, lower the worker number to avoid potential slowness/freeze if necessary.\n",
            "  warnings.warn(_create_warning_msg(\n"
          ]
        }
      ],
      "source": [
        "train_loader = torch.utils.data.DataLoader(\n",
        "            torch.utils.data.Subset(all_data,train_index),\n",
        "            batch_size=batch_size,\n",
        "            shuffle=True,\n",
        "            num_workers=4,\n",
        "            pin_memory=True,\n",
        "            persistent_workers=True,\n",
        "            prefetch_factor=16)\n",
        "test_loader = torch.utils.data.DataLoader(\n",
        "            torch.utils.data.Subset(all_data,test_index),\n",
        "            batch_size=batch_size,\n",
        "            shuffle=True,\n",
        "            num_workers=4,\n",
        "            pin_memory=True,\n",
        "            persistent_workers=True,\n",
        "            prefetch_factor=16)"
      ]
    },
    {
      "cell_type": "markdown",
      "metadata": {
        "id": "ChvWhVwQad2z"
      },
      "source": [
        "# Train the target model"
      ]
    },
    {
      "cell_type": "code",
      "execution_count": 9,
      "metadata": {
        "id": "N8UCbVZ5ad20",
        "outputId": "6167462d-2849-4bc3-ec1d-b5a052de3fa1",
        "colab": {
          "base_uri": "https://localhost:8080/"
        }
      },
      "outputs": [
        {
          "output_type": "stream",
          "name": "stderr",
          "text": [
            "/usr/lib/python3.10/multiprocessing/popen_fork.py:66: RuntimeWarning: os.fork() was called. os.fork() is incompatible with multithreaded code, and JAX is multithreaded, so this will likely lead to a deadlock.\n",
            "  self.pid = os.fork()\n"
          ]
        },
        {
          "output_type": "stream",
          "name": "stdout",
          "text": [
            "Epoch: 1/50 | Loss: 2.22338428\n",
            "Epoch: 2/50 | Loss: 2.01315357\n",
            "Epoch: 3/50 | Loss: 1.90363908\n",
            "Epoch: 4/50 | Loss: 1.79489007\n",
            "Epoch: 5/50 | Loss: 1.77528154\n",
            "Epoch: 6/50 | Loss: 1.70230359\n",
            "Epoch: 7/50 | Loss: 1.67708171\n",
            "Epoch: 8/50 | Loss: 1.61439495\n",
            "Epoch: 9/50 | Loss: 1.59830132\n",
            "Epoch: 10/50 | Loss: 1.57147159\n",
            "Epoch: 11/50 | Loss: 1.56324909\n",
            "Epoch: 12/50 | Loss: 1.52603415\n",
            "Epoch: 13/50 | Loss: 1.50834864\n",
            "Epoch: 14/50 | Loss: 1.49714909\n",
            "Epoch: 15/50 | Loss: 1.44871540\n",
            "Epoch: 16/50 | Loss: 1.43104273\n",
            "Epoch: 17/50 | Loss: 1.39753051\n",
            "Epoch: 18/50 | Loss: 1.37273354\n",
            "Epoch: 19/50 | Loss: 1.35245211\n",
            "Epoch: 20/50 | Loss: 1.33061377\n",
            "Epoch: 21/50 | Loss: 1.31178257\n",
            "Epoch: 22/50 | Loss: 1.29094773\n",
            "Epoch: 23/50 | Loss: 1.26779372\n",
            "Epoch: 24/50 | Loss: 1.21984963\n",
            "Epoch: 25/50 | Loss: 1.19504063\n",
            "Epoch: 26/50 | Loss: 1.18102713\n",
            "Epoch: 27/50 | Loss: 1.15937965\n",
            "Epoch: 28/50 | Loss: 1.12788747\n",
            "Epoch: 29/50 | Loss: 1.08849251\n",
            "Epoch: 30/50 | Loss: 1.06556709\n",
            "Epoch: 31/50 | Loss: 1.04967377\n",
            "Epoch: 32/50 | Loss: 1.02083429\n",
            "Epoch: 33/50 | Loss: 1.00424537\n",
            "Epoch: 34/50 | Loss: 0.97195072\n",
            "Epoch: 35/50 | Loss: 0.99298720\n",
            "Epoch: 36/50 | Loss: 0.93448757\n",
            "Epoch: 37/50 | Loss: 0.89658868\n",
            "Epoch: 38/50 | Loss: 0.87328109\n",
            "Epoch: 39/50 | Loss: 0.85834532\n",
            "Epoch: 40/50 | Loss: 0.87789861\n",
            "Epoch: 41/50 | Loss: 0.79109608\n",
            "Epoch: 42/50 | Loss: 0.78826249\n",
            "Epoch: 43/50 | Loss: 0.74699596\n",
            "Epoch: 44/50 | Loss: 0.71811119\n",
            "Epoch: 45/50 | Loss: 0.69235689\n",
            "Epoch: 46/50 | Loss: 0.68648364\n",
            "Epoch: 47/50 | Loss: 0.67831126\n",
            "Epoch: 48/50 | Loss: 0.64131915\n",
            "Epoch: 49/50 | Loss: 0.61523698\n",
            "Epoch: 50/50 | Loss: 0.57538039\n",
            "training the target model uses:  55.8176794052124\n",
            "Train Loss: 0.5705, Train Accuracy: 79.82%\n",
            "Test Loss: 2.0587, Test Accuracy: 46.44%\n"
          ]
        },
        {
          "output_type": "execute_result",
          "data": {
            "text/plain": [
              "Net(\n",
              "  (conv1): Conv2d(3, 6, kernel_size=(5, 5), stride=(1, 1))\n",
              "  (pool): MaxPool2d(kernel_size=2, stride=2, padding=0, dilation=1, ceil_mode=False)\n",
              "  (conv2): Conv2d(6, 16, kernel_size=(5, 5), stride=(1, 1))\n",
              "  (fc1): Linear(in_features=400, out_features=120, bias=True)\n",
              "  (fc2): Linear(in_features=120, out_features=84, bias=True)\n",
              "  (fc3): Linear(in_features=84, out_features=10, bias=True)\n",
              ")"
            ]
          },
          "metadata": {},
          "execution_count": 9
        }
      ],
      "source": [
        "model = Net()\n",
        "device = 'cuda' # you can change it to 'cuda' if you have GPU\n",
        "# device = 'cpu' # you can change it to 'cuda' if you have GPU\n",
        "model.to(device)\n",
        "model.train()\n",
        "\n",
        "# Set the loss function and optimizer\n",
        "criterion = nn.CrossEntropyLoss()\n",
        "optimizer = torch.optim.Adam(model.parameters(), lr=learning_rate)\n",
        "start_time = time.time()\n",
        "# Loop over each epoch\n",
        "for epoch_idx in range(epochs):\n",
        "    train_loss = 0\n",
        "    # Loop over the training set\n",
        "    for data, target in train_loader:\n",
        "        # Move data to the device\n",
        "        data, target = data.to(device, non_blocking=True), target.to(device,non_blocking=True)\n",
        "        # Cast target to long tensor\n",
        "        target = target.long()\n",
        "\n",
        "        # Set the gradients to zero\n",
        "        optimizer.zero_grad(set_to_none=True)\n",
        "\n",
        "        # Get the model output\n",
        "        output = model(data)\n",
        "\n",
        "        # Calculate the loss\n",
        "        loss = criterion(output, target)\n",
        "\n",
        "        # Perform the backward pass\n",
        "        loss.backward()\n",
        "        # Take a step using optimizer\n",
        "        optimizer.step()\n",
        "\n",
        "        # Add the loss to the total loss\n",
        "        train_loss += loss.item()\n",
        "\n",
        "    # Print the epoch and loss summary\n",
        "    print(f\"Epoch: {epoch_idx+1}/{epochs} |\", end=\" \")\n",
        "    print(f\"Loss: {train_loss/len(train_loader):.8f}\")\n",
        "\n",
        "print(\"training the target model uses: \", time.time() - start_time)\n",
        "\n",
        "# Validate the performance of the model\n",
        "model.eval()\n",
        "# Assigning variables for computing loss and accuracy\n",
        "loss, acc, criterion = 0, 0, nn.CrossEntropyLoss()\n",
        "\n",
        "# Disable gradient calculation to save memory\n",
        "with torch.no_grad():\n",
        "    for data, target in train_loader:\n",
        "        # Moving data and target to the device\n",
        "        data, target = data.to(device), target.to(device)\n",
        "        # Cast target to long tensor\n",
        "        target = target.long()\n",
        "\n",
        "        # Computing output and loss\n",
        "        output = model(data)\n",
        "        loss += criterion(output, target).item()\n",
        "\n",
        "        # Computing accuracy\n",
        "        pred = output.data.max(1, keepdim=True)[1]\n",
        "        acc += pred.eq(target.data.view_as(pred)).sum()\n",
        "\n",
        "    # Averaging the losses\n",
        "    loss /= len(train_loader)\n",
        "\n",
        "    # Calculating accuracy\n",
        "    acc = float(acc) / len(train_loader.dataset)\n",
        "    print(\"Train Loss: {:.4f}, Train Accuracy: {:.2f}%\".format(loss, 100. * acc))\n",
        "\n",
        "    for data, target in test_loader:\n",
        "        # Moving data and target to the device\n",
        "        data, target = data.to(device), target.to(device)\n",
        "        # Cast target to long tensor\n",
        "        target = target.long()\n",
        "\n",
        "        # Computing output and loss\n",
        "        output = model(data)\n",
        "        loss += criterion(output, target).item()\n",
        "\n",
        "        # Computing accuracy\n",
        "        pred = output.data.max(1, keepdim=True)[1]\n",
        "        acc += pred.eq(target.data.view_as(pred)).sum()\n",
        "\n",
        "    # Averaging the losses\n",
        "    loss /= len(test_loader)\n",
        "\n",
        "    # Calculating accuracy\n",
        "    acc = float(acc) / len(test_loader.dataset)\n",
        "    print(\"Test Loss: {:.4f}, Test Accuracy: {:.2f}%\".format(loss, 100. * acc))\n",
        "\n",
        "# Move the model back to the CPU to save memory\n",
        "model.to(\"cpu\")\n",
        "\n",
        "\n"
      ]
    },
    {
      "cell_type": "markdown",
      "metadata": {
        "id": "N5I3f_QJad21"
      },
      "source": [
        "# Wrap the target model and datasets\n",
        "The `batch_size` parameter determines the number of samples used in each iteration when computing the signals. Larger batch sizes can increase computation speed, but they also consume more memory. If you're computing the loss, you can use a larger batch size, but if you're using the GPU to compute gradient information such as gradient norm, using a batch size that is too large may result in an Out Of Memory (OOM) error. This is largely dependent on the size of your model and the memory capacity of your GPU. As a general guideline, we recommend using a batch size of 10 when computing gradient information"
      ]
    },
    {
      "cell_type": "code",
      "execution_count": 10,
      "metadata": {
        "id": "IlxS604Ead21"
      },
      "outputs": [],
      "source": [
        "\n",
        "target_model = PytorchModelTensor(model_obj=model, loss_fn=criterion, device=device,batch_size=10)"
      ]
    },
    {
      "cell_type": "markdown",
      "metadata": {
        "id": "YDZe694jad22"
      },
      "source": [
        "Get the dataset in the tensor formate"
      ]
    },
    {
      "cell_type": "code",
      "execution_count": 11,
      "metadata": {
        "id": "rZxxZ_TYad22"
      },
      "outputs": [],
      "source": [
        "\n",
        "def get_dataset_subset(dataset: torchvision.datasets, index: List(int)):\n",
        "    \"\"\"Get a subset of the dataset.\n",
        "\n",
        "    Args:\n",
        "        dataset (torchvision.datasets): Whole dataset.\n",
        "        index (list): List of index.\n",
        "    \"\"\"\n",
        "    assert max(index) < len(dataset) and min(index) >= 0, \"Index out of range\"\n",
        "    data = (\n",
        "        torch.from_numpy(dataset.data[index]).float().permute(0, 3, 1, 2) / 255\n",
        "    )  # channel first\n",
        "    targets = list(np.array(dataset.targets)[index])\n",
        "    targets = torch.tensor(targets, dtype=torch.long)\n",
        "    return data, targets"
      ]
    },
    {
      "cell_type": "code",
      "execution_count": 12,
      "metadata": {
        "id": "H7IUwPYpad23"
      },
      "outputs": [],
      "source": [
        "train_data, train_targets = get_dataset_subset(all_data, train_index)\n",
        "test_data, test_targets = get_dataset_subset(all_data, test_index)\n",
        "audit_data, audit_targets = get_dataset_subset(all_data, population_index)\n",
        "target_dataset = Dataset(\n",
        "    data_dict={\n",
        "        \"train\": {\"x\": train_data, \"y\": train_targets},\n",
        "        \"test\": {\"x\": test_data, \"y\": test_targets},\n",
        "    },\n",
        "    default_input=\"x\",\n",
        "    default_output=\"y\",\n",
        ")\n",
        "\n",
        "\n",
        "audit_dataset = Dataset(\n",
        "        data_dict={\"train\": {\"x\": audit_data, \"y\": audit_targets}},\n",
        "        default_input=\"x\",\n",
        "        default_output=\"y\",\n",
        "    )\n",
        "\n"
      ]
    },
    {
      "cell_type": "markdown",
      "metadata": {
        "id": "VTkPJbQsad24"
      },
      "source": [
        "# Create Information Sources"
      ]
    },
    {
      "cell_type": "code",
      "execution_count": 13,
      "metadata": {
        "id": "w828EAq3ad25"
      },
      "outputs": [],
      "source": [
        "target_info_source = InformationSource(\n",
        "    models=[target_model],\n",
        "    datasets=[target_dataset]\n",
        ")\n",
        "\n",
        "reference_info_source = InformationSource(\n",
        "    models=[target_model],\n",
        "    datasets=[audit_dataset]\n",
        ")"
      ]
    },
    {
      "cell_type": "markdown",
      "metadata": {
        "id": "MmIaLRfqad25"
      },
      "source": [
        "# Metric and Audit\n",
        "We assess the privacy risk of our trained model using a population attack that is based on both the loss of the target model and the gradient norm of the target model. The results based on the loss indicate the privacy risk of the model in a black-box setting, where the adversary does not have access to the entire model. Conversely, computing the gradient norm per sample requires the adversary to have access to the entire model parameters, which corresponds to a white-box setting."
      ]
    },
    {
      "cell_type": "code",
      "execution_count": 14,
      "metadata": {
        "id": "9hsSJoBkad25",
        "outputId": "91e2de94-23ca-4db9-c5f6-c56904edc881",
        "colab": {
          "base_uri": "https://localhost:8080/"
        }
      },
      "outputs": [
        {
          "output_type": "stream",
          "name": "stdout",
          "text": [
            "Results are stored in: ['/content/log_2024-07-31_12-15-28-000']\n"
          ]
        }
      ],
      "source": [
        "metric = PopulationMetric(\n",
        "            target_info_source=target_info_source,\n",
        "            reference_info_source=reference_info_source,\n",
        "            signals=[ModelLoss()],\n",
        "            hypothesis_test_func=linear_itp_threshold_func,\n",
        "        )\n",
        "audit_obj = Audit(\n",
        "    metrics=metric,\n",
        "    inference_game_type=InferenceGame.PRIVACY_LOSS_MODEL,\n",
        "    target_info_sources=target_info_source,\n",
        "    reference_info_sources=reference_info_source,\n",
        ")\n",
        "audit_obj.prepare()\n",
        "loss_audit_results = audit_obj.run()[0]"
      ]
    },
    {
      "cell_type": "code",
      "execution_count": 15,
      "metadata": {
        "id": "EiTD3XZead26",
        "outputId": "15e0e274-a6ae-4cf8-e05a-eef0e72e1772",
        "colab": {
          "base_uri": "https://localhost:8080/"
        }
      },
      "outputs": [
        {
          "output_type": "stream",
          "name": "stderr",
          "text": [
            "/usr/local/lib/python3.10/dist-packages/torch/nn/modules/module.py:1373: UserWarning: Using a non-full backward hook when the forward contains multiple autograd Nodes is deprecated and will be removed in future versions. This hook will be missing some grad_input. Please use register_full_backward_hook to get the documented behavior.\n",
            "  warnings.warn(\"Using a non-full backward hook when the forward contains multiple autograd Nodes \"\n"
          ]
        },
        {
          "output_type": "stream",
          "name": "stdout",
          "text": [
            "Results are stored in: ['/content/log_2024-07-31_12-15-29-000']\n"
          ]
        }
      ],
      "source": [
        "metric = PopulationMetric(\n",
        "            target_info_source=target_info_source,\n",
        "            reference_info_source=reference_info_source,\n",
        "            signals=[ModelGradientNorm()],\n",
        "            hypothesis_test_func=linear_itp_threshold_func,\n",
        "        )\n",
        "audit_obj = Audit(\n",
        "    metrics=metric,\n",
        "    inference_game_type=InferenceGame.PRIVACY_LOSS_MODEL,\n",
        "    target_info_sources=target_info_source,\n",
        "    reference_info_sources=reference_info_source,\n",
        ")\n",
        "audit_obj.prepare()\n",
        "gradient_norm_audit_results = audit_obj.run()[0]"
      ]
    },
    {
      "cell_type": "markdown",
      "metadata": {
        "id": "4J1F6aANad27"
      },
      "source": [
        "# Compare the results"
      ]
    },
    {
      "cell_type": "code",
      "execution_count": 16,
      "metadata": {
        "id": "Apymq21aad27"
      },
      "outputs": [],
      "source": [
        "# This instruction won't be needed once the tool is on pip\n",
        "from privacy_meter import audit_report\n",
        "audit_report.REPORT_FILES_DIR = '../privacy_meter/report_files'"
      ]
    },
    {
      "cell_type": "code",
      "execution_count": 17,
      "metadata": {
        "id": "GSQD8j-Vad28",
        "outputId": "5c41db9f-4c20-4812-ea8f-194740e580df",
        "colab": {
          "base_uri": "https://localhost:8080/",
          "height": 507
        }
      },
      "outputs": [
        {
          "output_type": "display_data",
          "data": {
            "text/plain": [
              "<Figure size 640x480 with 1 Axes>"
            ],
            "image/png": "[encoded data removed]"
          },
          "metadata": {}
        },
        {
          "output_type": "stream",
          "name": "stdout",
          "text": [
            "AUC = 0.701\n"
          ]
        },
        {
          "output_type": "display_data",
          "data": {
            "text/plain": [
              "<Figure size 640x480 with 0 Axes>"
            ]
          },
          "metadata": {}
        }
      ],
      "source": [
        "ROCCurveReport.generate_report(\n",
        "    metric_result=loss_audit_results[0],\n",
        "    inference_game_type=InferenceGame.PRIVACY_LOSS_MODEL,\n",
        "    show=True\n",
        ")"
      ]
    },
    {
      "cell_type": "code",
      "execution_count": 18,
      "metadata": {
        "id": "bGl20JLjad28",
        "outputId": "f552da46-a411-422f-e9c7-329f306e4769",
        "colab": {
          "base_uri": "https://localhost:8080/",
          "height": 507
        }
      },
      "outputs": [
        {
          "output_type": "display_data",
          "data": {
            "text/plain": [
              "<Figure size 640x480 with 1 Axes>"
            ],
            "image/png": "[encoded data removed]"
          },
          "metadata": {}
        },
        {
          "output_type": "stream",
          "name": "stdout",
          "text": [
            "AUC = 0.684\n"
          ]
        },
        {
          "output_type": "display_data",
          "data": {
            "text/plain": [
              "<Figure size 640x480 with 0 Axes>"
            ]
          },
          "metadata": {}
        }
      ],
      "source": [
        "ROCCurveReport.generate_report(\n",
        "    metric_result=gradient_norm_audit_results[0],\n",
        "    inference_game_type=InferenceGame.PRIVACY_LOSS_MODEL,\n",
        "    show=True\n",
        ")"
      ]
    },
    {
      "cell_type": "code",
      "source": [
        "!pip freeze > require.txt"
      ],
      "metadata": {
        "id": "g20VuTQWdwoN"
      },
      "execution_count": 19,
      "outputs": []
    },
    {
      "cell_type": "code",
      "source": [
        "import sys\n",
        "print(\"Python version\")\n",
        "print(sys.version)\n",
        "print(\"Version info.\")\n",
        "print(sys.version_info)"
      ],
      "metadata": {
        "id": "bZkD9NcOeGF0",
        "outputId": "e8c4d13b-87a0-4fe8-c761-b9b24fb1abf1",
        "colab": {
          "base_uri": "https://localhost:8080/"
        }
      },
      "execution_count": 20,
      "outputs": [
        {
          "output_type": "stream",
          "name": "stdout",
          "text": [
            "Python version\n",
            "3.10.12 (main, Mar 22 2024, 16:50:05) [GCC 11.4.0]\n",
            "Version info.\n",
            "sys.version_info(major=3, minor=10, micro=12, releaselevel='final', serial=0)\n"
          ]
        }
      ]
    }
  ],
  "metadata": {
    "kernelspec": {
      "display_name": "Python 3",
      "name": "python3"
    },
    "language_info": {
      "codemirror_mode": {
        "name": "ipython",
        "version": 3
      },
      "file_extension": ".py",
      "mimetype": "text/x-python",
      "name": "python",
      "nbconvert_exporter": "python",
      "pygments_lexer": "ipython3",
      "version": "3.9.16"
    },
    "orig_nbformat": 4,
    "vscode": {
      "interpreter": {
        "hash": "af48e0a30d2a0b619bf296aea7d7271ba14c9beb98b0928b3e23c82f12ae949a"
      }
    },
    "colab": {
      "provenance": [],
      "gpuType": "T4",
      "include_colab_link": true
    },
    "accelerator": "GPU"
  },
  "nbformat": 4,
  "nbformat_minor": 0
}