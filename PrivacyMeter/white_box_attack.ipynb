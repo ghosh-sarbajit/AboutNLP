{
  "cells": [
    {
      "cell_type": "markdown",
      "metadata": {
        "id": "view-in-github",
        "colab_type": "text"
      },
      "source": [
        "<a href=\"https://colab.research.google.com/github/ghosh-sarbajit/AboutNLP/blob/main/PrivacyMeter/white_box_attack.ipynb\" target=\"_parent\"><img src=\"https://colab.research.google.com/assets/colab-badge.svg\" alt=\"Open In Colab\"/></a>"
      ]
    },
    {
      "cell_type": "markdown",
      "metadata": {
        "id": "2NVVmoeiad2g"
      },
      "source": [
        "# Whitebox attack using Privacy Meter"
      ]
    },
    {
      "cell_type": "markdown",
      "metadata": {
        "id": "_Jze29_had2i"
      },
      "source": [
        "## Introduction\n",
        "\n",
        "In this tutorial we will see:\n",
        "\n",
        "- How to use the Privacy Meter to audit model implemented on Pytorch\n",
        "- How to extract the white-box signal (i.e., gradient norm)\n",
        "- How to run membership inference attack based on white-box attack based on the population attack"
      ]
    },
    {
      "cell_type": "markdown",
      "metadata": {
        "id": "oL20LtnNad2k"
      },
      "source": [
        "[Citation](https://github.com/privacytrustlab/ml_privacy_meter/blob/master/advanced/white_box_attack.ipynb)"
      ]
    },
    {
      "cell_type": "markdown",
      "metadata": {
        "id": "g6bLBX3iad2l"
      },
      "source": [
        "# Import"
      ]
    },
    {
      "cell_type": "code",
      "execution_count": 1,
      "metadata": {
        "id": "vnCteXEfad2n"
      },
      "outputs": [],
      "source": [
        "import numpy as np\n",
        "\n",
        "import torch.nn.functional as F\n",
        "from torch import nn\n",
        "import torchvision\n",
        "import os\n",
        "import pickle\n",
        "from ast import List\n",
        "import time\n",
        "import numpy as np\n",
        "import torch\n",
        "import torchvision\n",
        "from torchvision import transforms"
      ]
    },
    {
      "cell_type": "code",
      "source": [
        "!pip install privacy-meter\n",
        "!pip install opacus\n",
        "from IPython.display import clear_output\n",
        "clear_output()"
      ],
      "metadata": {
        "id": "j4wQe9w9bFzN"
      },
      "execution_count": 2,
      "outputs": []
    },
    {
      "cell_type": "code",
      "execution_count": 3,
      "metadata": {
        "id": "0KbQv52nad2o"
      },
      "outputs": [],
      "source": [
        "from privacy_meter.audit import Audit, MetricEnum\n",
        "from privacy_meter.metric import PopulationMetric\n",
        "from privacy_meter.information_source_signal import ModelGradientNorm, ModelGradient, ModelLoss\n",
        "from privacy_meter.hypothesis_test import linear_itp_threshold_func\n",
        "from privacy_meter.audit_report import ROCCurveReport, SignalHistogramReport\n",
        "from privacy_meter.constants import InferenceGame\n",
        "from privacy_meter.dataset import Dataset\n",
        "from privacy_meter.information_source import InformationSource\n",
        "from privacy_meter.model import PytorchModelTensor"
      ]
    },
    {
      "cell_type": "markdown",
      "metadata": {
        "id": "Eb0kkOWsad2p"
      },
      "source": [
        "# Define hyper-parameters"
      ]
    },
    {
      "cell_type": "code",
      "execution_count": 4,
      "metadata": {
        "id": "hBhpEe51ad2q"
      },
      "outputs": [],
      "source": [
        "# for training the target model\n",
        "num_train_points = 5000\n",
        "num_test_points = 5000\n",
        "num_population_points = 10000\n",
        "batch_size=64\n",
        "learning_rate = 0.001\n",
        "epochs=50"
      ]
    },
    {
      "cell_type": "markdown",
      "metadata": {
        "id": "jdhgEoaRad2r"
      },
      "source": [
        "# Define the model"
      ]
    },
    {
      "cell_type": "code",
      "execution_count": 5,
      "metadata": {
        "id": "IxK-Pqt6ad2t"
      },
      "outputs": [],
      "source": [
        "\n",
        "class Net(nn.Module):\n",
        "    \"\"\"Simple CNN for CIFAR10 dataset.\"\"\"\n",
        "\n",
        "    def __init__(self):\n",
        "        super().__init__()\n",
        "        self.conv1 = nn.Conv2d(3, 6, 5)\n",
        "        self.pool = nn.MaxPool2d(2, 2)\n",
        "        self.conv2 = nn.Conv2d(6, 16, 5)\n",
        "        self.fc1 = nn.Linear(16 * 5 * 5, 120)\n",
        "        self.fc2 = nn.Linear(120, 84)\n",
        "        self.fc3 = nn.Linear(84, 10)\n",
        "\n",
        "    def forward(self, inputs):\n",
        "        \"\"\"Forward pass of the model.\"\"\"\n",
        "        inputs = self.pool(F.relu(self.conv1(inputs)))\n",
        "        inputs = self.pool(F.relu(self.conv2(inputs)))\n",
        "        # flatten all dimensions except batch\n",
        "        inputs = inputs.reshape(-1, 16 * 5 * 5)\n",
        "        inputs = F.relu(self.fc1(inputs))\n",
        "        inputs = F.relu(self.fc2(inputs))\n",
        "        outputs = self.fc3(inputs)\n",
        "        return outputs\n"
      ]
    },
    {
      "cell_type": "markdown",
      "metadata": {
        "id": "_UokMDtrad2u"
      },
      "source": [
        "# Create the data"
      ]
    },
    {
      "cell_type": "markdown",
      "metadata": {
        "id": "gS0INg-Fad2v"
      },
      "source": [
        "Load all the data"
      ]
    },
    {
      "cell_type": "code",
      "execution_count": 6,
      "metadata": {
        "id": "Dku02OnXad2w",
        "outputId": "4445c29b-0676-418c-fa07-141809cc4e13",
        "colab": {
          "base_uri": "https://localhost:8080/"
        }
      },
      "outputs": [
        {
          "output_type": "stream",
          "name": "stdout",
          "text": [
            "Downloading https://www.cs.toronto.edu/~kriz/cifar-10-python.tar.gz to ./cifar-10-python.tar.gz\n"
          ]
        },
        {
          "output_type": "stream",
          "name": "stderr",
          "text": [
            "100%|██████████| 170498071/170498071 [00:09<00:00, 18327133.18it/s]\n"
          ]
        },
        {
          "output_type": "stream",
          "name": "stdout",
          "text": [
            "Extracting ./cifar-10-python.tar.gz to .\n",
            "Files already downloaded and verified\n"
          ]
        }
      ],
      "source": [
        "transform = transforms.Compose([transforms.ToTensor()])\n",
        "all_data = torchvision.datasets.CIFAR10(\n",
        "    root='.', train=True, download=True, transform=transform\n",
        ")\n",
        "test_data = torchvision.datasets.CIFAR10(\n",
        "    root='.', train=False, download=True, transform=transform\n",
        ")\n",
        "all_features = np.concatenate([all_data.data, test_data.data], axis=0)\n",
        "all_targets = np.concatenate([all_data.targets, test_data.targets], axis=0)\n",
        "\n",
        "all_data.data = all_features\n",
        "all_data.targets = all_targets"
      ]
    },
    {
      "cell_type": "markdown",
      "metadata": {
        "id": "VfHn3I_Cad2x"
      },
      "source": [
        "Split the data into train, test and population"
      ]
    },
    {
      "cell_type": "code",
      "execution_count": 7,
      "metadata": {
        "id": "VAusArq7ad2y"
      },
      "outputs": [],
      "source": [
        "all_index = np.arange(len(all_data))\n",
        "train_index = np.random.choice(all_index, num_train_points, replace=False)\n",
        "test_index = np.random.choice([i for i in all_index if i not in train_index], num_test_points, replace=False)\n",
        "population_index = np.random.choice([i for i in all_index if i not in train_index and i not in test_index], num_population_points, replace=False)"
      ]
    },
    {
      "cell_type": "markdown",
      "metadata": {
        "id": "sRe0Vp_oad2y"
      },
      "source": [
        "Create the data loader for training the target model"
      ]
    },
    {
      "cell_type": "code",
      "execution_count": 8,
      "metadata": {
        "id": "zL-CIqWnad2z",
        "outputId": "d5f4300d-0639-4523-a35c-cbe88ad7bb09",
        "colab": {
          "base_uri": "https://localhost:8080/"
        }
      },
      "outputs": [
        {
          "output_type": "stream",
          "name": "stderr",
          "text": [
            "/usr/local/lib/python3.10/dist-packages/torch/utils/data/dataloader.py:558: UserWarning: This DataLoader will create 4 worker processes in total. Our suggested max number of worker in current system is 2, which is smaller than what this DataLoader is going to create. Please be aware that excessive worker creation might get DataLoader running slow or even freeze, lower the worker number to avoid potential slowness/freeze if necessary.\n",
            "  warnings.warn(_create_warning_msg(\n"
          ]
        }
      ],
      "source": [
        "train_loader = torch.utils.data.DataLoader(\n",
        "            torch.utils.data.Subset(all_data,train_index),\n",
        "            batch_size=batch_size,\n",
        "            shuffle=True,\n",
        "            num_workers=4,\n",
        "            pin_memory=True,\n",
        "            persistent_workers=True,\n",
        "            prefetch_factor=16)\n",
        "test_loader = torch.utils.data.DataLoader(\n",
        "            torch.utils.data.Subset(all_data,test_index),\n",
        "            batch_size=batch_size,\n",
        "            shuffle=True,\n",
        "            num_workers=4,\n",
        "            pin_memory=True,\n",
        "            persistent_workers=True,\n",
        "            prefetch_factor=16)"
      ]
    },
    {
      "cell_type": "markdown",
      "metadata": {
        "id": "ChvWhVwQad2z"
      },
      "source": [
        "# Train the target model"
      ]
    },
    {
      "cell_type": "code",
      "execution_count": 9,
      "metadata": {
        "id": "N8UCbVZ5ad20",
        "outputId": "803e5754-26ed-420d-9fee-16569dfd0161",
        "colab": {
          "base_uri": "https://localhost:8080/"
        }
      },
      "outputs": [
        {
          "output_type": "stream",
          "name": "stderr",
          "text": [
            "/usr/lib/python3.10/multiprocessing/popen_fork.py:66: RuntimeWarning: os.fork() was called. os.fork() is incompatible with multithreaded code, and JAX is multithreaded, so this will likely lead to a deadlock.\n",
            "  self.pid = os.fork()\n"
          ]
        },
        {
          "output_type": "stream",
          "name": "stdout",
          "text": [
            "Epoch: 1/50 | Loss: 2.22807206\n",
            "Epoch: 2/50 | Loss: 2.02649991\n",
            "Epoch: 3/50 | Loss: 1.86024183\n",
            "Epoch: 4/50 | Loss: 1.74141032\n",
            "Epoch: 5/50 | Loss: 1.68382251\n",
            "Epoch: 6/50 | Loss: 1.64050700\n",
            "Epoch: 7/50 | Loss: 1.62803943\n",
            "Epoch: 8/50 | Loss: 1.56821890\n",
            "Epoch: 9/50 | Loss: 1.55065225\n",
            "Epoch: 10/50 | Loss: 1.51175050\n",
            "Epoch: 11/50 | Loss: 1.47312059\n",
            "Epoch: 12/50 | Loss: 1.45215886\n",
            "Epoch: 13/50 | Loss: 1.39992220\n",
            "Epoch: 14/50 | Loss: 1.38133147\n",
            "Epoch: 15/50 | Loss: 1.35883553\n",
            "Epoch: 16/50 | Loss: 1.31695510\n",
            "Epoch: 17/50 | Loss: 1.29018850\n",
            "Epoch: 18/50 | Loss: 1.28161607\n",
            "Epoch: 19/50 | Loss: 1.23694018\n",
            "Epoch: 20/50 | Loss: 1.21651633\n",
            "Epoch: 21/50 | Loss: 1.19795290\n",
            "Epoch: 22/50 | Loss: 1.15939884\n",
            "Epoch: 23/50 | Loss: 1.13830857\n",
            "Epoch: 24/50 | Loss: 1.14006045\n",
            "Epoch: 25/50 | Loss: 1.08979088\n",
            "Epoch: 26/50 | Loss: 1.05993120\n",
            "Epoch: 27/50 | Loss: 1.03110518\n",
            "Epoch: 28/50 | Loss: 1.01629766\n",
            "Epoch: 29/50 | Loss: 0.98840453\n",
            "Epoch: 30/50 | Loss: 0.95591237\n",
            "Epoch: 31/50 | Loss: 0.93153841\n",
            "Epoch: 32/50 | Loss: 0.92745672\n",
            "Epoch: 33/50 | Loss: 0.89720388\n",
            "Epoch: 34/50 | Loss: 0.91952472\n",
            "Epoch: 35/50 | Loss: 0.82508900\n",
            "Epoch: 36/50 | Loss: 0.80186639\n",
            "Epoch: 37/50 | Loss: 0.75069049\n",
            "Epoch: 38/50 | Loss: 0.73478725\n",
            "Epoch: 39/50 | Loss: 0.73308898\n",
            "Epoch: 40/50 | Loss: 0.69766721\n",
            "Epoch: 41/50 | Loss: 0.66817450\n",
            "Epoch: 42/50 | Loss: 0.67913906\n",
            "Epoch: 43/50 | Loss: 0.65398238\n",
            "Epoch: 44/50 | Loss: 0.59168493\n",
            "Epoch: 45/50 | Loss: 0.56084367\n",
            "Epoch: 46/50 | Loss: 0.54836980\n",
            "Epoch: 47/50 | Loss: 0.47897176\n",
            "Epoch: 48/50 | Loss: 0.49284985\n",
            "Epoch: 49/50 | Loss: 0.47418386\n",
            "Epoch: 50/50 | Loss: 0.43490170\n",
            "training the target model uses:  55.4449245929718\n",
            "Train Loss: 0.4945, Train Accuracy: 82.56%\n",
            "Test Loss: 2.4284, Test Accuracy: 45.40%\n"
          ]
        },
        {
          "output_type": "execute_result",
          "data": {
            "text/plain": [
              "Net(\n",
              "  (conv1): Conv2d(3, 6, kernel_size=(5, 5), stride=(1, 1))\n",
              "  (pool): MaxPool2d(kernel_size=2, stride=2, padding=0, dilation=1, ceil_mode=False)\n",
              "  (conv2): Conv2d(6, 16, kernel_size=(5, 5), stride=(1, 1))\n",
              "  (fc1): Linear(in_features=400, out_features=120, bias=True)\n",
              "  (fc2): Linear(in_features=120, out_features=84, bias=True)\n",
              "  (fc3): Linear(in_features=84, out_features=10, bias=True)\n",
              ")"
            ]
          },
          "metadata": {},
          "execution_count": 9
        }
      ],
      "source": [
        "model = Net()\n",
        "device = 'cuda' # you can change it to 'cuda' if you have GPU\n",
        "# device = 'cpu' # you can change it to 'cuda' if you have GPU\n",
        "model.to(device)\n",
        "model.train()\n",
        "\n",
        "# Set the loss function and optimizer\n",
        "criterion = nn.CrossEntropyLoss()\n",
        "optimizer = torch.optim.Adam(model.parameters(), lr=learning_rate)\n",
        "start_time = time.time()\n",
        "# Loop over each epoch\n",
        "for epoch_idx in range(epochs):\n",
        "    train_loss = 0\n",
        "    # Loop over the training set\n",
        "    for data, target in train_loader:\n",
        "        # Move data to the device\n",
        "        data, target = data.to(device, non_blocking=True), target.to(device,non_blocking=True)\n",
        "        # Cast target to long tensor\n",
        "        target = target.long()\n",
        "\n",
        "        # Set the gradients to zero\n",
        "        optimizer.zero_grad(set_to_none=True)\n",
        "\n",
        "        # Get the model output\n",
        "        output = model(data)\n",
        "\n",
        "        # Calculate the loss\n",
        "        loss = criterion(output, target)\n",
        "\n",
        "        # Perform the backward pass\n",
        "        loss.backward()\n",
        "        # Take a step using optimizer\n",
        "        optimizer.step()\n",
        "\n",
        "        # Add the loss to the total loss\n",
        "        train_loss += loss.item()\n",
        "\n",
        "    # Print the epoch and loss summary\n",
        "    print(f\"Epoch: {epoch_idx+1}/{epochs} |\", end=\" \")\n",
        "    print(f\"Loss: {train_loss/len(train_loader):.8f}\")\n",
        "\n",
        "print(\"training the target model uses: \", time.time() - start_time)\n",
        "\n",
        "# Validate the performance of the model\n",
        "model.eval()\n",
        "# Assigning variables for computing loss and accuracy\n",
        "loss, acc, criterion = 0, 0, nn.CrossEntropyLoss()\n",
        "\n",
        "# Disable gradient calculation to save memory\n",
        "with torch.no_grad():\n",
        "    for data, target in train_loader:\n",
        "        # Moving data and target to the device\n",
        "        data, target = data.to(device), target.to(device)\n",
        "        # Cast target to long tensor\n",
        "        target = target.long()\n",
        "\n",
        "        # Computing output and loss\n",
        "        output = model(data)\n",
        "        loss += criterion(output, target).item()\n",
        "\n",
        "        # Computing accuracy\n",
        "        pred = output.data.max(1, keepdim=True)[1]\n",
        "        acc += pred.eq(target.data.view_as(pred)).sum()\n",
        "\n",
        "    # Averaging the losses\n",
        "    loss /= len(train_loader)\n",
        "\n",
        "    # Calculating accuracy\n",
        "    acc = float(acc) / len(train_loader.dataset)\n",
        "    print(\"Train Loss: {:.4f}, Train Accuracy: {:.2f}%\".format(loss, 100. * acc))\n",
        "\n",
        "    for data, target in test_loader:\n",
        "        # Moving data and target to the device\n",
        "        data, target = data.to(device), target.to(device)\n",
        "        # Cast target to long tensor\n",
        "        target = target.long()\n",
        "\n",
        "        # Computing output and loss\n",
        "        output = model(data)\n",
        "        loss += criterion(output, target).item()\n",
        "\n",
        "        # Computing accuracy\n",
        "        pred = output.data.max(1, keepdim=True)[1]\n",
        "        acc += pred.eq(target.data.view_as(pred)).sum()\n",
        "\n",
        "    # Averaging the losses\n",
        "    loss /= len(test_loader)\n",
        "\n",
        "    # Calculating accuracy\n",
        "    acc = float(acc) / len(test_loader.dataset)\n",
        "    print(\"Test Loss: {:.4f}, Test Accuracy: {:.2f}%\".format(loss, 100. * acc))\n",
        "\n",
        "# Move the model back to the CPU to save memory\n",
        "model.to(\"cpu\")\n",
        "\n",
        "\n"
      ]
    },
    {
      "cell_type": "markdown",
      "metadata": {
        "id": "N5I3f_QJad21"
      },
      "source": [
        "# Wrap the target model and datasets\n",
        "The `batch_size` parameter determines the number of samples used in each iteration when computing the signals. Larger batch sizes can increase computation speed, but they also consume more memory. If you're computing the loss, you can use a larger batch size, but if you're using the GPU to compute gradient information such as gradient norm, using a batch size that is too large may result in an Out Of Memory (OOM) error. This is largely dependent on the size of your model and the memory capacity of your GPU. As a general guideline, we recommend using a batch size of 10 when computing gradient information"
      ]
    },
    {
      "cell_type": "code",
      "execution_count": 10,
      "metadata": {
        "id": "IlxS604Ead21"
      },
      "outputs": [],
      "source": [
        "\n",
        "target_model = PytorchModelTensor(model_obj=model, loss_fn=criterion, device=device,batch_size=10)"
      ]
    },
    {
      "cell_type": "markdown",
      "metadata": {
        "id": "YDZe694jad22"
      },
      "source": [
        "Get the dataset in the tensor formate"
      ]
    },
    {
      "cell_type": "code",
      "execution_count": 11,
      "metadata": {
        "id": "rZxxZ_TYad22"
      },
      "outputs": [],
      "source": [
        "\n",
        "def get_dataset_subset(dataset: torchvision.datasets, index: List(int)):\n",
        "    \"\"\"Get a subset of the dataset.\n",
        "\n",
        "    Args:\n",
        "        dataset (torchvision.datasets): Whole dataset.\n",
        "        index (list): List of index.\n",
        "    \"\"\"\n",
        "    assert max(index) < len(dataset) and min(index) >= 0, \"Index out of range\"\n",
        "    data = (\n",
        "        torch.from_numpy(dataset.data[index]).float().permute(0, 3, 1, 2) / 255\n",
        "    )  # channel first\n",
        "    targets = list(np.array(dataset.targets)[index])\n",
        "    targets = torch.tensor(targets, dtype=torch.long)\n",
        "    return data, targets"
      ]
    },
    {
      "cell_type": "code",
      "execution_count": 12,
      "metadata": {
        "id": "H7IUwPYpad23"
      },
      "outputs": [],
      "source": [
        "train_data, train_targets = get_dataset_subset(all_data, train_index)\n",
        "test_data, test_targets = get_dataset_subset(all_data, test_index)\n",
        "audit_data, audit_targets = get_dataset_subset(all_data, population_index)\n",
        "target_dataset = Dataset(\n",
        "    data_dict={\n",
        "        \"train\": {\"x\": train_data, \"y\": train_targets},\n",
        "        \"test\": {\"x\": test_data, \"y\": test_targets},\n",
        "    },\n",
        "    default_input=\"x\",\n",
        "    default_output=\"y\",\n",
        ")\n",
        "\n",
        "\n",
        "audit_dataset = Dataset(\n",
        "        data_dict={\"train\": {\"x\": audit_data, \"y\": audit_targets}},\n",
        "        default_input=\"x\",\n",
        "        default_output=\"y\",\n",
        "    )\n",
        "\n"
      ]
    },
    {
      "cell_type": "markdown",
      "metadata": {
        "id": "VTkPJbQsad24"
      },
      "source": [
        "# Create Information Sources"
      ]
    },
    {
      "cell_type": "code",
      "execution_count": 13,
      "metadata": {
        "id": "w828EAq3ad25"
      },
      "outputs": [],
      "source": [
        "target_info_source = InformationSource(\n",
        "    models=[target_model],\n",
        "    datasets=[target_dataset]\n",
        ")\n",
        "\n",
        "reference_info_source = InformationSource(\n",
        "    models=[target_model],\n",
        "    datasets=[audit_dataset]\n",
        ")"
      ]
    },
    {
      "cell_type": "markdown",
      "metadata": {
        "id": "MmIaLRfqad25"
      },
      "source": [
        "# Metric and Audit\n",
        "We assess the privacy risk of our trained model using a population attack that is based on both the loss of the target model and the gradient norm of the target model. The results based on the loss indicate the privacy risk of the model in a black-box setting, where the adversary does not have access to the entire model. Conversely, computing the gradient norm per sample requires the adversary to have access to the entire model parameters, which corresponds to a white-box setting."
      ]
    },
    {
      "cell_type": "code",
      "execution_count": 14,
      "metadata": {
        "id": "9hsSJoBkad25",
        "outputId": "203a88e5-36cd-44f8-ab21-8b3fa7b843b3",
        "colab": {
          "base_uri": "https://localhost:8080/"
        }
      },
      "outputs": [
        {
          "output_type": "stream",
          "name": "stdout",
          "text": [
            "Results are stored in: ['/content/log_2024-08-01_07-39-28-000']\n"
          ]
        }
      ],
      "source": [
        "metric = PopulationMetric(\n",
        "            target_info_source=target_info_source,\n",
        "            reference_info_source=reference_info_source,\n",
        "            signals=[ModelLoss()],\n",
        "            hypothesis_test_func=linear_itp_threshold_func,\n",
        "        )\n",
        "audit_obj = Audit(\n",
        "    metrics=metric,\n",
        "    inference_game_type=InferenceGame.PRIVACY_LOSS_MODEL,\n",
        "    target_info_sources=target_info_source,\n",
        "    reference_info_sources=reference_info_source,\n",
        ")\n",
        "audit_obj.prepare()\n",
        "loss_audit_results = audit_obj.run()[0]"
      ]
    },
    {
      "cell_type": "code",
      "execution_count": 15,
      "metadata": {
        "id": "EiTD3XZead26",
        "outputId": "0057a4ed-0f19-42d6-f3cf-aae4e9de0ce8",
        "colab": {
          "base_uri": "https://localhost:8080/"
        }
      },
      "outputs": [
        {
          "output_type": "stream",
          "name": "stderr",
          "text": [
            "/usr/local/lib/python3.10/dist-packages/torch/nn/modules/module.py:1373: UserWarning: Using a non-full backward hook when the forward contains multiple autograd Nodes is deprecated and will be removed in future versions. This hook will be missing some grad_input. Please use register_full_backward_hook to get the documented behavior.\n",
            "  warnings.warn(\"Using a non-full backward hook when the forward contains multiple autograd Nodes \"\n"
          ]
        },
        {
          "output_type": "stream",
          "name": "stdout",
          "text": [
            "Results are stored in: ['/content/log_2024-08-01_07-39-29-000']\n"
          ]
        }
      ],
      "source": [
        "metric = PopulationMetric(\n",
        "            target_info_source=target_info_source,\n",
        "            reference_info_source=reference_info_source,\n",
        "            signals=[ModelGradientNorm()],\n",
        "            hypothesis_test_func=linear_itp_threshold_func,\n",
        "        )\n",
        "audit_obj = Audit(\n",
        "    metrics=metric,\n",
        "    inference_game_type=InferenceGame.PRIVACY_LOSS_MODEL,\n",
        "    target_info_sources=target_info_source,\n",
        "    reference_info_sources=reference_info_source,\n",
        ")\n",
        "audit_obj.prepare()\n",
        "gradient_norm_audit_results = audit_obj.run()[0]"
      ]
    },
    {
      "cell_type": "markdown",
      "metadata": {
        "id": "4J1F6aANad27"
      },
      "source": [
        "# Compare the results"
      ]
    },
    {
      "cell_type": "code",
      "execution_count": 16,
      "metadata": {
        "id": "Apymq21aad27"
      },
      "outputs": [],
      "source": [
        "# This instruction won't be needed once the tool is on pip\n",
        "from privacy_meter import audit_report\n",
        "audit_report.REPORT_FILES_DIR = '../privacy_meter/report_files'"
      ]
    },
    {
      "cell_type": "code",
      "execution_count": 17,
      "metadata": {
        "id": "GSQD8j-Vad28",
        "outputId": "36c0b7b5-bca1-4967-adb1-f1f495b4652a",
        "colab": {
          "base_uri": "https://localhost:8080/",
          "height": 507
        }
      },
      "outputs": [
        {
          "output_type": "display_data",
          "data": {
            "text/plain": [
              "<Figure size 640x480 with 1 Axes>"
            ],
            "image/png": "[encoded data removed]"
          },
          "metadata": {}
        },
        {
          "output_type": "stream",
          "name": "stdout",
          "text": [
            "AUC = 0.715\n"
          ]
        },
        {
          "output_type": "display_data",
          "data": {
            "text/plain": [
              "<Figure size 640x480 with 0 Axes>"
            ]
          },
          "metadata": {}
        }
      ],
      "source": [
        "ROCCurveReport.generate_report(\n",
        "    metric_result=loss_audit_results[0],\n",
        "    inference_game_type=InferenceGame.PRIVACY_LOSS_MODEL,\n",
        "    show=True\n",
        ")"
      ]
    },
    {
      "cell_type": "code",
      "execution_count": 18,
      "metadata": {
        "id": "bGl20JLjad28",
        "outputId": "4f6da546-c224-45d5-ee70-e02c8df544e2",
        "colab": {
          "base_uri": "https://localhost:8080/",
          "height": 507
        }
      },
      "outputs": [
        {
          "output_type": "display_data",
          "data": {
            "text/plain": [
              "<Figure size 640x480 with 1 Axes>"
            ],
            "image/png": "[encoded data removed]"
          },
          "metadata": {}
        },
        {
          "output_type": "stream",
          "name": "stdout",
          "text": [
            "AUC = 0.696\n"
          ]
        },
        {
          "output_type": "display_data",
          "data": {
            "text/plain": [
              "<Figure size 640x480 with 0 Axes>"
            ]
          },
          "metadata": {}
        }
      ],
      "source": [
        "ROCCurveReport.generate_report(\n",
        "    metric_result=gradient_norm_audit_results[0],\n",
        "    inference_game_type=InferenceGame.PRIVACY_LOSS_MODEL,\n",
        "    show=True\n",
        ")"
      ]
    },
    {
      "cell_type": "code",
      "source": [
        "!pip freeze > require.txt"
      ],
      "metadata": {
        "id": "g20VuTQWdwoN"
      },
      "execution_count": 19,
      "outputs": []
    },
    {
      "cell_type": "code",
      "source": [
        "import sys\n",
        "print(\"Python version\")\n",
        "print(sys.version)\n",
        "print(\"Version info.\")\n",
        "print(sys.version_info)"
      ],
      "metadata": {
        "id": "bZkD9NcOeGF0",
        "outputId": "e8ea2f27-f18f-4e0e-81ac-d4db782d3768",
        "colab": {
          "base_uri": "https://localhost:8080/"
        }
      },
      "execution_count": 20,
      "outputs": [
        {
          "output_type": "stream",
          "name": "stdout",
          "text": [
            "Python version\n",
            "3.10.12 (main, Mar 22 2024, 16:50:05) [GCC 11.4.0]\n",
            "Version info.\n",
            "sys.version_info(major=3, minor=10, micro=12, releaselevel='final', serial=0)\n"
          ]
        }
      ]
    }
  ],
  "metadata": {
    "kernelspec": {
      "display_name": "Python 3",
      "name": "python3"
    },
    "language_info": {
      "codemirror_mode": {
        "name": "ipython",
        "version": 3
      },
      "file_extension": ".py",
      "mimetype": "text/x-python",
      "name": "python",
      "nbconvert_exporter": "python",
      "pygments_lexer": "ipython3",
      "version": "3.9.16"
    },
    "orig_nbformat": 4,
    "vscode": {
      "interpreter": {
        "hash": "af48e0a30d2a0b619bf296aea7d7271ba14c9beb98b0928b3e23c82f12ae949a"
      }
    },
    "colab": {
      "provenance": [],
      "gpuType": "T4",
      "include_colab_link": true
    },
    "accelerator": "GPU"
  },
  "nbformat": 4,
  "nbformat_minor": 0
}