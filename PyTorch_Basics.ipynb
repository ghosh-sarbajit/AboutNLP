{
  "nbformat": 4,
  "nbformat_minor": 0,
  "metadata": {
    "kernelspec": {
      "name": "python3",
      "display_name": "Python 3"
    },
    "colab": {
      "provenance": [],
      "include_colab_link": true
    }
  },
  "cells": [
    {
      "cell_type": "markdown",
      "metadata": {
        "id": "view-in-github",
        "colab_type": "text"
      },
      "source": [
        "<a href=\"https://colab.research.google.com/github/ghosh-sarbajit/AboutNLP/blob/main/PyTorch_Basics.ipynb\" target=\"_parent\"><img src=\"https://colab.research.google.com/assets/colab-badge.svg\" alt=\"Open In Colab\"/></a>"
      ]
    },
    {
      "cell_type": "markdown",
      "source": [
        "**[Citation](https://web.stanford.edu/class/cs224n/)**"
      ],
      "metadata": {
        "id": "7TU9EGFrYJLn"
      }
    },
    {
      "cell_type": "markdown",
      "metadata": {
        "id": "H6oqGiIXvrMl"
      },
      "source": [
        "* [\"Word Window Classification\" tutorial notebook]((https://web.stanford.edu/class/archive/cs/cs224n/cs224n.1204/materials/ww_classifier.ipynb) by Matt Lamm, from Winter 2020 offering of CS224N\n",
        "* Official PyTorch Documentation on [Deep Learning with PyTorch: A 60 Minute Blitz](https://pytorch.org/tutorials/beginner/deep_learning_60min_blitz.html) by Soumith Chintala\n",
        "* PyTorch Tutorial Notebook, [Build Basic Generative Adversarial Networks (GANs) | Coursera](https://www.coursera.org/learn/build-basic-generative-adversarial-networks-gans) by Sharon Zhou, offered on Coursera"
      ]
    },
    {
      "cell_type": "markdown",
      "metadata": {
        "id": "4gk1UKaNvrMv"
      },
      "source": [
        "* [PyTorch](https://pytorch.org/)\n",
        "* [TensorFlow](https://www.tensorflow.org/)\n",
        "* [Installation](https://pytorch.org/)"
      ]
    },
    {
      "cell_type": "code",
      "metadata": {
        "id": "u0ukr7quvrMx"
      },
      "source": [
        "import torch\n",
        "import torch.nn as nn\n",
        "\n",
        "# Import pprint, module we use for making our print statements prettier\n",
        "import pprint\n",
        "pp = pprint.PrettyPrinter()"
      ],
      "execution_count": 1,
      "outputs": []
    },
    {
      "cell_type": "markdown",
      "metadata": {
        "id": "k10ZRdcBwDP3"
      },
      "source": [
        "We are all set to start our tutorial. Let's dive in!"
      ]
    },
    {
      "cell_type": "markdown",
      "metadata": {
        "id": "OLdSN9ZXvrM0"
      },
      "source": [
        "##Part 1: Tensors\n",
        "\n",
        "**Tensors** are PyTorch's most basic building block. Each tensor is a multi-dimensional matrix; for example, a 256x256 square image might be represented by a `3x256x256` tensor, where the first dimension represents color. Here's how to create a tensor:\n"
      ]
    },
    {
      "cell_type": "code",
      "source": [
        "list_of_lists = [\n",
        "  [1, 2, 3],\n",
        "  [4, 5, 6],\n",
        "]\n",
        "print(list_of_lists)"
      ],
      "metadata": {
        "colab": {
          "base_uri": "https://localhost:8080/"
        },
        "id": "hXD7cTLTh4oF",
        "outputId": "9f5813bf-f24f-461e-ae06-ea3c72063228"
      },
      "execution_count": 2,
      "outputs": [
        {
          "output_type": "stream",
          "name": "stdout",
          "text": [
            "[[1, 2, 3], [4, 5, 6]]\n"
          ]
        }
      ]
    },
    {
      "cell_type": "code",
      "source": [
        "data = torch.tensor(list_of_lists)\n",
        "print(data)"
      ],
      "metadata": {
        "colab": {
          "base_uri": "https://localhost:8080/"
        },
        "id": "G2u7NOqWNJ7c",
        "outputId": "dda9b594-1aeb-4208-811c-b3994a85d455"
      },
      "execution_count": 3,
      "outputs": [
        {
          "output_type": "stream",
          "name": "stdout",
          "text": [
            "tensor([[1, 2, 3],\n",
            "        [4, 5, 6]])\n"
          ]
        }
      ]
    },
    {
      "cell_type": "code",
      "source": [
        "# Initializing a tensor\n",
        "data = torch.tensor([\n",
        "                     [0, 1],\n",
        "                     [2, 3],\n",
        "                     [4, 5]\n",
        "                    ])\n",
        "print(data)"
      ],
      "metadata": {
        "colab": {
          "base_uri": "https://localhost:8080/"
        },
        "id": "-VLgHhj0n3LM",
        "outputId": "14098207-1c6b-445c-f196-f32fa525190a"
      },
      "execution_count": 4,
      "outputs": [
        {
          "output_type": "stream",
          "name": "stdout",
          "text": [
            "tensor([[0, 1],\n",
            "        [2, 3],\n",
            "        [4, 5]])\n"
          ]
        }
      ]
    },
    {
      "cell_type": "markdown",
      "source": [
        "Each tensor has a **data type**: the major data types you'll need to worry about are floats (`torch.float32`) and integers (`torch.int`). You can specify the data type explicitly when you create the tensor:"
      ],
      "metadata": {
        "id": "1i7vrR1_oO4I"
      }
    },
    {
      "cell_type": "code",
      "source": [
        "# Initializing a tensor with an explicit data type\n",
        "# Notice the dots after the numbers, which specify that they're floats\n",
        "data = torch.tensor([\n",
        "                     [0, 1],\n",
        "                     [2, 3],\n",
        "                     [4, 5]\n",
        "                    ], dtype=torch.float32)\n",
        "print(data)"
      ],
      "metadata": {
        "colab": {
          "base_uri": "https://localhost:8080/"
        },
        "id": "t7nMdqgMoLOa",
        "outputId": "1ff99d6d-4b02-4791-e7a1-e8818cd93766"
      },
      "execution_count": 5,
      "outputs": [
        {
          "output_type": "stream",
          "name": "stdout",
          "text": [
            "tensor([[0., 1.],\n",
            "        [2., 3.],\n",
            "        [4., 5.]])\n"
          ]
        }
      ]
    },
    {
      "cell_type": "code",
      "source": [
        "# Initializing a tensor with an explicit data type\n",
        "# Notice the dots after the numbers, which specify that they're floats\n",
        "data = torch.tensor([\n",
        "                     [0.11111111, 1],\n",
        "                     [2, 3],\n",
        "                     [4, 5]\n",
        "                    ], dtype=torch.float32)\n",
        "print(data)"
      ],
      "metadata": {
        "colab": {
          "base_uri": "https://localhost:8080/"
        },
        "id": "I4vr6EYbiOEJ",
        "outputId": "5b5f8777-c79b-4d29-8982-08a5cf940bdd"
      },
      "execution_count": 6,
      "outputs": [
        {
          "output_type": "stream",
          "name": "stdout",
          "text": [
            "tensor([[0.1111, 1.0000],\n",
            "        [2.0000, 3.0000],\n",
            "        [4.0000, 5.0000]])\n"
          ]
        }
      ]
    },
    {
      "cell_type": "code",
      "source": [
        "# Initializing a tensor with an explicit data type\n",
        "# Notice the dots after the numbers, which specify that they're floats\n",
        "data = torch.tensor([\n",
        "                     [0.11111111, 1],\n",
        "                     [2, 3],\n",
        "                     [4, 5]\n",
        "                    ])\n",
        "print(data)"
      ],
      "metadata": {
        "colab": {
          "base_uri": "https://localhost:8080/"
        },
        "id": "jnB8J23WiUTi",
        "outputId": "157f4442-2181-4afb-efcb-0f4a734a33d2"
      },
      "execution_count": 7,
      "outputs": [
        {
          "output_type": "stream",
          "name": "stdout",
          "text": [
            "tensor([[0.1111, 1.0000],\n",
            "        [2.0000, 3.0000],\n",
            "        [4.0000, 5.0000]])\n"
          ]
        }
      ]
    },
    {
      "cell_type": "markdown",
      "source": [
        "Utility functions also exist to create tensors with given shapes and contents:"
      ],
      "metadata": {
        "id": "aiGCmTsrpkP-"
      }
    },
    {
      "cell_type": "code",
      "source": [
        "zeros = torch.zeros(2, 5)  # a tensor of all zeros\n",
        "print(zeros)"
      ],
      "metadata": {
        "colab": {
          "base_uri": "https://localhost:8080/"
        },
        "id": "0tn-N-z_qYj0",
        "outputId": "dde71416-c8c7-443c-a5a6-123cb62078d2"
      },
      "execution_count": 8,
      "outputs": [
        {
          "output_type": "stream",
          "name": "stdout",
          "text": [
            "tensor([[0., 0., 0., 0., 0.],\n",
            "        [0., 0., 0., 0., 0.]])\n"
          ]
        }
      ]
    },
    {
      "cell_type": "code",
      "source": [
        "ones = torch.ones(3, 4)   # a tensor of all ones\n",
        "print(ones)"
      ],
      "metadata": {
        "colab": {
          "base_uri": "https://localhost:8080/"
        },
        "id": "ue26M5Npqoe3",
        "outputId": "4ab0347b-a070-485d-b685-f7051e0b615c"
      },
      "execution_count": 9,
      "outputs": [
        {
          "output_type": "stream",
          "name": "stdout",
          "text": [
            "tensor([[1., 1., 1., 1.],\n",
            "        [1., 1., 1., 1.],\n",
            "        [1., 1., 1., 1.]])\n"
          ]
        }
      ]
    },
    {
      "cell_type": "code",
      "source": [
        "rr = torch.arange(1, 7.8)\n",
        "print(rr)"
      ],
      "metadata": {
        "colab": {
          "base_uri": "https://localhost:8080/"
        },
        "id": "hdvaujtvqokI",
        "outputId": "dfff32aa-4825-4cf3-8818-d6d806b2eab9"
      },
      "execution_count": 10,
      "outputs": [
        {
          "output_type": "stream",
          "name": "stdout",
          "text": [
            "tensor([1., 2., 3., 4., 5., 6., 7.])\n"
          ]
        }
      ]
    },
    {
      "cell_type": "code",
      "source": [
        "print(rr + 2)\n",
        "print(rr * 2)\n",
        "print(rr ** 0.5)\n",
        "print(rr * rr)\n",
        "print(rr ** rr)"
      ],
      "metadata": {
        "colab": {
          "base_uri": "https://localhost:8080/"
        },
        "id": "lK3q3LRHipHB",
        "outputId": "80b6fc5d-0a7e-4efc-f016-42f8e0cdbf43"
      },
      "execution_count": 11,
      "outputs": [
        {
          "output_type": "stream",
          "name": "stdout",
          "text": [
            "tensor([3., 4., 5., 6., 7., 8., 9.])\n",
            "tensor([ 2.,  4.,  6.,  8., 10., 12., 14.])\n",
            "tensor([1.0000, 1.4142, 1.7321, 2.0000, 2.2361, 2.4495, 2.6458])\n",
            "tensor([ 1.,  4.,  9., 16., 25., 36., 49.])\n",
            "tensor([1.0000e+00, 4.0000e+00, 2.7000e+01, 2.5600e+02, 3.1250e+03, 4.6656e+04,\n",
            "        8.2354e+05])\n"
          ]
        }
      ]
    },
    {
      "cell_type": "code",
      "source": [
        "a = torch.tensor([[1, 2], [2, 3], [4, 5]])      # (3, 2)\n",
        "b = torch.tensor([[1, 2, 3, 4], [5, 6, 7, 8]])  # (2, 4)\n",
        "\n",
        "print(\"A is\", a)\n",
        "print(\"B is\", b)\n",
        "print(\"The product is\", a.matmul(b)) #(3, 4)\n",
        "print(\"The other product is\", a @ b) # +, -, *, @"
      ],
      "metadata": {
        "id": "OFcjwshvi3pC",
        "colab": {
          "base_uri": "https://localhost:8080/"
        },
        "outputId": "f84aac1c-b448-4e3e-e1b0-d4b9b95a4716"
      },
      "execution_count": 12,
      "outputs": [
        {
          "output_type": "stream",
          "name": "stdout",
          "text": [
            "A is tensor([[1, 2],\n",
            "        [2, 3],\n",
            "        [4, 5]])\n",
            "B is tensor([[1, 2, 3, 4],\n",
            "        [5, 6, 7, 8]])\n",
            "The product is tensor([[11, 14, 17, 20],\n",
            "        [17, 22, 27, 32],\n",
            "        [29, 38, 47, 56]])\n",
            "The other product is tensor([[11, 14, 17, 20],\n",
            "        [17, 22, 27, 32],\n",
            "        [29, 38, 47, 56]])\n"
          ]
        }
      ]
    },
    {
      "cell_type": "code",
      "source": [
        "bbb = torch.tensor([[[1, 2, 3, 4], [5, 6, 7, 8]], [[1, 2, 67, 4], [5, 6, -7, -8.5]]])\n",
        "print(\"BBB is\", bbb)\n",
        "print(bbb.shape)"
      ],
      "metadata": {
        "id": "OpVpblj_W3oR",
        "outputId": "585f4d81-acc4-4719-f507-ffd23d75bf73",
        "colab": {
          "base_uri": "https://localhost:8080/"
        }
      },
      "execution_count": 13,
      "outputs": [
        {
          "output_type": "stream",
          "name": "stdout",
          "text": [
            "BBB is tensor([[[ 1.0000,  2.0000,  3.0000,  4.0000],\n",
            "         [ 5.0000,  6.0000,  7.0000,  8.0000]],\n",
            "\n",
            "        [[ 1.0000,  2.0000, 67.0000,  4.0000],\n",
            "         [ 5.0000,  6.0000, -7.0000, -8.5000]]])\n",
            "torch.Size([2, 2, 4])\n"
          ]
        }
      ]
    },
    {
      "cell_type": "code",
      "source": [
        "ccc = torch.tensor([[[1, 2], [3, 4], [5, 6], [7, 8]], [[1, 2], [67, 4], [5, 6], [-7, -8.5]]])  # (2,4,2)\n",
        "print(\"CCC is\", ccc)\n",
        "print(ccc.shape)\n",
        "\n"
      ],
      "metadata": {
        "colab": {
          "base_uri": "https://localhost:8080/"
        },
        "id": "2Ms86qVHeRkM",
        "outputId": "c3c1e195-63ba-40cb-d22c-090c35ff3b62"
      },
      "execution_count": 14,
      "outputs": [
        {
          "output_type": "stream",
          "name": "stdout",
          "text": [
            "CCC is tensor([[[ 1.0000,  2.0000],\n",
            "         [ 3.0000,  4.0000],\n",
            "         [ 5.0000,  6.0000],\n",
            "         [ 7.0000,  8.0000]],\n",
            "\n",
            "        [[ 1.0000,  2.0000],\n",
            "         [67.0000,  4.0000],\n",
            "         [ 5.0000,  6.0000],\n",
            "         [-7.0000, -8.5000]]])\n",
            "torch.Size([2, 4, 2])\n"
          ]
        }
      ]
    },
    {
      "cell_type": "markdown",
      "source": [
        "**Reshaping** tensors can be used to make batch operations easier (more on that later), but be careful that the data is reshaped in the order you expect:"
      ],
      "metadata": {
        "id": "7wKqP85rrF-P"
      }
    },
    {
      "cell_type": "code",
      "source": [
        "print(\"The contents are currently\", bbb)\n",
        "print(\"The shape is currently\", bbb.shape)\n",
        "print()\n",
        "\n",
        "bbb = bbb.view(2, 4, 2)\n",
        "\n",
        "print(\"The contents are currently\", bbb)\n",
        "print(\"After reshaping, the shape is currently\", bbb.shape)"
      ],
      "metadata": {
        "id": "HmUcqHYUrMu1",
        "colab": {
          "base_uri": "https://localhost:8080/"
        },
        "outputId": "85ac7c0a-a9dd-4437-fd61-84108accc944"
      },
      "execution_count": 15,
      "outputs": [
        {
          "output_type": "stream",
          "name": "stdout",
          "text": [
            "The contents are currently tensor([[[ 1.0000,  2.0000,  3.0000,  4.0000],\n",
            "         [ 5.0000,  6.0000,  7.0000,  8.0000]],\n",
            "\n",
            "        [[ 1.0000,  2.0000, 67.0000,  4.0000],\n",
            "         [ 5.0000,  6.0000, -7.0000, -8.5000]]])\n",
            "The shape is currently torch.Size([2, 2, 4])\n",
            "\n",
            "The contents are currently tensor([[[ 1.0000,  2.0000],\n",
            "         [ 3.0000,  4.0000],\n",
            "         [ 5.0000,  6.0000],\n",
            "         [ 7.0000,  8.0000]],\n",
            "\n",
            "        [[ 1.0000,  2.0000],\n",
            "         [67.0000,  4.0000],\n",
            "         [ 5.0000,  6.0000],\n",
            "         [-7.0000, -8.5000]]])\n",
            "After reshaping, the shape is currently torch.Size([2, 4, 2])\n"
          ]
        }
      ]
    },
    {
      "cell_type": "markdown",
      "source": [
        "**NumPy arrays <=> PyTorch Tensors**\n",
        "\n",
        "\n"
      ],
      "metadata": {
        "id": "GaykBuhoou3M"
      }
    },
    {
      "cell_type": "code",
      "source": [
        "import numpy as np\n",
        "\n",
        "# numpy.ndarray --> torch.Tensor:\n",
        "arr = np.array([[1, 0, 5]])\n",
        "data = torch.tensor(arr)\n",
        "print(\"This is a torch.tensor\", data)\n",
        "\n",
        "# torch.Tensor --> numpy.ndarray:\n",
        "new_arr = data.numpy()\n",
        "print(\"This is a np.ndarray\", new_arr)"
      ],
      "metadata": {
        "id": "ppYiPnlko1Ci",
        "colab": {
          "base_uri": "https://localhost:8080/"
        },
        "outputId": "0ffebb20-6a03-4836-9642-4fb131248f47"
      },
      "execution_count": 16,
      "outputs": [
        {
          "output_type": "stream",
          "name": "stdout",
          "text": [
            "This is a torch.tensor tensor([[1, 0, 5]])\n",
            "This is a np.ndarray [[1 0 5]]\n"
          ]
        }
      ]
    },
    {
      "cell_type": "markdown",
      "source": [
        "One of the reasons why we use **tensors** is *vectorized operations*: operations that be conducted in parallel over a particular dimension of a tensor."
      ],
      "metadata": {
        "id": "hyv1l431q9yA"
      }
    },
    {
      "cell_type": "code",
      "source": [
        "data = torch.arange(1, 36, dtype=torch.float32).reshape(5, 7)\n",
        "print(\"Data is:\", data)\n",
        "\n",
        "# We can perform operations like *sum* over each row...\n",
        "print(\"Taking the sum over rows:\")\n",
        "print(data.sum(dim=1)) #(5,)\n",
        "\n",
        "# or over each column.\n",
        "print(\"Taking thep sum over columns:\")\n",
        "print(data.sum(dim=0)) #(7,)\n",
        "\n",
        "# Other operations are available:\n",
        "print(\"Taking the stdev over rows:\")\n",
        "print(data.std(dim=1))"
      ],
      "metadata": {
        "colab": {
          "base_uri": "https://localhost:8080/"
        },
        "id": "Kas2MEFDsJWk",
        "outputId": "ba8a48e2-5179-4426-cb53-b032d2d9cf44"
      },
      "execution_count": 17,
      "outputs": [
        {
          "output_type": "stream",
          "name": "stdout",
          "text": [
            "Data is: tensor([[ 1.,  2.,  3.,  4.,  5.,  6.,  7.],\n",
            "        [ 8.,  9., 10., 11., 12., 13., 14.],\n",
            "        [15., 16., 17., 18., 19., 20., 21.],\n",
            "        [22., 23., 24., 25., 26., 27., 28.],\n",
            "        [29., 30., 31., 32., 33., 34., 35.]])\n",
            "Taking the sum over rows:\n",
            "tensor([ 28.,  77., 126., 175., 224.])\n",
            "Taking thep sum over columns:\n",
            "tensor([ 75.,  80.,  85.,  90.,  95., 100., 105.])\n",
            "Taking the stdev over rows:\n",
            "tensor([2.1602, 2.1602, 2.1602, 2.1602, 2.1602])\n"
          ]
        }
      ]
    },
    {
      "cell_type": "code",
      "source": [
        "# dir(data)"
      ],
      "metadata": {
        "id": "l6duqNb38KmM"
      },
      "execution_count": 18,
      "outputs": []
    },
    {
      "cell_type": "code",
      "source": [
        "data = torch.arange(1, 13, dtype=torch.float32).reshape(2, 2, 3)\n",
        "print(data)\n",
        "print(data.sum(dim=0))\n",
        "print(data.sum(dim=0).shape)\n",
        "print(data.sum(dim=0).sum(dim=0))\n",
        "print(data.sum(dim=0).sum(dim=0).shape)"
      ],
      "metadata": {
        "colab": {
          "base_uri": "https://localhost:8080/"
        },
        "id": "g1ByKJL_WYWv",
        "outputId": "44bc3bf0-6337-405a-f9b8-a3c4eba950a4"
      },
      "execution_count": 19,
      "outputs": [
        {
          "output_type": "stream",
          "name": "stdout",
          "text": [
            "tensor([[[ 1.,  2.,  3.],\n",
            "         [ 4.,  5.,  6.]],\n",
            "\n",
            "        [[ 7.,  8.,  9.],\n",
            "         [10., 11., 12.]]])\n",
            "tensor([[ 8., 10., 12.],\n",
            "        [14., 16., 18.]])\n",
            "torch.Size([2, 3])\n",
            "tensor([22., 26., 30.])\n",
            "torch.Size([3])\n"
          ]
        }
      ]
    },
    {
      "cell_type": "code",
      "source": [
        "data.sum()"
      ],
      "metadata": {
        "id": "NPRy-xtuk2tK",
        "colab": {
          "base_uri": "https://localhost:8080/"
        },
        "outputId": "68f0705f-14b3-4127-bb90-81930d15c5c6"
      },
      "execution_count": 20,
      "outputs": [
        {
          "output_type": "execute_result",
          "data": {
            "text/plain": [
              "tensor(78.)"
            ]
          },
          "metadata": {},
          "execution_count": 20
        }
      ]
    },
    {
      "cell_type": "markdown",
      "source": [
        "### Quiz\n",
        "\n",
        "Write code that creates a `torch.tensor` with the following contents:\n",
        "$\\begin{bmatrix} 1 & 2.2 & 9.6 \\\\ 4 & -7.2 & 6.3 \\end{bmatrix}$\n",
        "\n",
        "Now compute the average of each row (`.mean()`) and each column.\n",
        "\n",
        "What's the shape of the results?\n",
        "\n"
      ],
      "metadata": {
        "id": "IJ8MjWEMxOVk"
      }
    },
    {
      "cell_type": "code",
      "source": [
        "data = torch.tensor([1, 2.2, 9.6, 4, -7.2, 6.3]).reshape(2,3)\n",
        "print(data)\n",
        "print(data.sum(dim=0))\n",
        "print(data.sum(dim=0).shape)"
      ],
      "metadata": {
        "id": "BK0YInGkn3Xy",
        "colab": {
          "base_uri": "https://localhost:8080/"
        },
        "outputId": "2e170ea5-9cf5-4919-f322-8d1a3b8de8d8"
      },
      "execution_count": 21,
      "outputs": [
        {
          "output_type": "stream",
          "name": "stdout",
          "text": [
            "tensor([[ 1.0000,  2.2000,  9.6000],\n",
            "        [ 4.0000, -7.2000,  6.3000]])\n",
            "tensor([ 5.0000, -5.0000, 15.9000])\n",
            "torch.Size([3])\n"
          ]
        }
      ]
    },
    {
      "cell_type": "markdown",
      "metadata": {
        "id": "V7BMktFFAkRA"
      },
      "source": [
        "**Indexing**\n",
        "\n",
        "You can access arbitrary elements of a tensor using the `[]` operator."
      ]
    },
    {
      "cell_type": "code",
      "metadata": {
        "id": "fRJN7ovWDsKV",
        "colab": {
          "base_uri": "https://localhost:8080/"
        },
        "outputId": "a8ff2de4-2f2f-490d-afa4-bfe0458a5ae0"
      },
      "source": [
        "# Initialize an example tensor\n",
        "x = torch.Tensor([\n",
        "                  [[1, 2], [3, 4]],\n",
        "                  [[5, 6], [7, 8]],\n",
        "                  [[9, 10], [11, 12]]\n",
        "                 ])\n",
        "print(x)\n",
        "print(x.shape)"
      ],
      "execution_count": 22,
      "outputs": [
        {
          "output_type": "stream",
          "name": "stdout",
          "text": [
            "tensor([[[ 1.,  2.],\n",
            "         [ 3.,  4.]],\n",
            "\n",
            "        [[ 5.,  6.],\n",
            "         [ 7.,  8.]],\n",
            "\n",
            "        [[ 9., 10.],\n",
            "         [11., 12.]]])\n",
            "torch.Size([3, 2, 2])\n"
          ]
        }
      ]
    },
    {
      "cell_type": "code",
      "metadata": {
        "id": "guXKE7m8AX1K",
        "colab": {
          "base_uri": "https://localhost:8080/"
        },
        "outputId": "ccefbe2b-2308-4355-fdce-ae97340eb4f1"
      },
      "source": [
        "# Access the 0th element, which is the first row\n",
        "print(x[0]) # Equivalent to x[0, :] # colon mane sob kota; 0er sobkota\n",
        "print(x[0, :])\n",
        "print(x[0, 0])\n",
        "print(x[0, 0, 0])"
      ],
      "execution_count": 23,
      "outputs": [
        {
          "output_type": "stream",
          "name": "stdout",
          "text": [
            "tensor([[1., 2.],\n",
            "        [3., 4.]])\n",
            "tensor([[1., 2.],\n",
            "        [3., 4.]])\n",
            "tensor([1., 2.])\n",
            "tensor(1.)\n"
          ]
        }
      ]
    },
    {
      "cell_type": "code",
      "source": [
        "x[:, 0] # Sobkotar 0th element"
      ],
      "metadata": {
        "id": "zn4pW2rkmXuj",
        "colab": {
          "base_uri": "https://localhost:8080/"
        },
        "outputId": "5a7912b7-b784-4e5d-eddb-f726c5b58b1a"
      },
      "execution_count": 24,
      "outputs": [
        {
          "output_type": "execute_result",
          "data": {
            "text/plain": [
              "tensor([[ 1.,  2.],\n",
              "        [ 5.,  6.],\n",
              "        [ 9., 10.]])"
            ]
          },
          "metadata": {},
          "execution_count": 24
        }
      ]
    },
    {
      "cell_type": "markdown",
      "metadata": {
        "id": "g8m8EyVvES4-"
      },
      "source": [
        "We can also index into multiple dimensions with `:`."
      ]
    },
    {
      "cell_type": "code",
      "metadata": {
        "id": "2Z6GFUcuEL85",
        "colab": {
          "base_uri": "https://localhost:8080/"
        },
        "outputId": "4c030f76-0fd9-4f1a-b20d-fd58e9d2e7db"
      },
      "source": [
        "# Get the top left element of each element in our tensor\n",
        "x[:, 0, 0] # Sobkotar 0-0th element"
      ],
      "execution_count": 25,
      "outputs": [
        {
          "output_type": "execute_result",
          "data": {
            "text/plain": [
              "tensor([1., 5., 9.])"
            ]
          },
          "metadata": {},
          "execution_count": 25
        }
      ]
    },
    {
      "cell_type": "code",
      "source": [
        "x[:, :, :] # alll"
      ],
      "metadata": {
        "id": "TRkMhiJNnWAt",
        "colab": {
          "base_uri": "https://localhost:8080/"
        },
        "outputId": "bfc1e4f3-3193-49b0-c03d-4e1fae673c27"
      },
      "execution_count": 26,
      "outputs": [
        {
          "output_type": "execute_result",
          "data": {
            "text/plain": [
              "tensor([[[ 1.,  2.],\n",
              "         [ 3.,  4.]],\n",
              "\n",
              "        [[ 5.,  6.],\n",
              "         [ 7.,  8.]],\n",
              "\n",
              "        [[ 9., 10.],\n",
              "         [11., 12.]]])"
            ]
          },
          "metadata": {},
          "execution_count": 26
        }
      ]
    },
    {
      "cell_type": "markdown",
      "metadata": {
        "id": "Rm8vc3nuXaEw"
      },
      "source": [
        "We can also access arbitrary elements in each dimension."
      ]
    },
    {
      "cell_type": "code",
      "metadata": {
        "id": "R4xl6CW3RrEw",
        "colab": {
          "base_uri": "https://localhost:8080/"
        },
        "outputId": "ebd4024c-8a60-4518-f923-5e2590f79fa1"
      },
      "source": [
        "# Let's access the 0th and 1st elements, each twice\n",
        "# same as stacking x[0], x[0], x[1], x[1], x[2]\n",
        "i = torch.tensor([0, 0, 1, 1, 2])\n",
        "x[i]"
      ],
      "execution_count": 27,
      "outputs": [
        {
          "output_type": "execute_result",
          "data": {
            "text/plain": [
              "tensor([[[ 1.,  2.],\n",
              "         [ 3.,  4.]],\n",
              "\n",
              "        [[ 1.,  2.],\n",
              "         [ 3.,  4.]],\n",
              "\n",
              "        [[ 5.,  6.],\n",
              "         [ 7.,  8.]],\n",
              "\n",
              "        [[ 5.,  6.],\n",
              "         [ 7.,  8.]],\n",
              "\n",
              "        [[ 9., 10.],\n",
              "         [11., 12.]]])"
            ]
          },
          "metadata": {},
          "execution_count": 27
        }
      ]
    },
    {
      "cell_type": "code",
      "metadata": {
        "id": "A3QYZ8k7Wvqp",
        "colab": {
          "base_uri": "https://localhost:8080/"
        },
        "outputId": "aaa31ad9-18bb-4a36-b834-5e55bae8abb0"
      },
      "source": [
        "# Let's access the 0th elements of the 1st and 2nd elements\n",
        "\n",
        "i = torch.tensor([1, 2])\n",
        "j = torch.tensor([0])\n",
        "x[i, j]"
      ],
      "execution_count": 28,
      "outputs": [
        {
          "output_type": "execute_result",
          "data": {
            "text/plain": [
              "tensor([[ 5.,  6.],\n",
              "        [ 9., 10.]])"
            ]
          },
          "metadata": {},
          "execution_count": 28
        }
      ]
    },
    {
      "cell_type": "markdown",
      "metadata": {
        "id": "WAELXC--IHS7"
      },
      "source": [
        "We can get a `Python` scalar value from a tensor with `item()`."
      ]
    },
    {
      "cell_type": "code",
      "metadata": {
        "id": "BM-ZujN2IGaQ",
        "colab": {
          "base_uri": "https://localhost:8080/"
        },
        "outputId": "5aed857a-2ead-425e-c9f9-f1f20754db1d"
      },
      "source": [
        "x[0, 0, 0]"
      ],
      "execution_count": 29,
      "outputs": [
        {
          "output_type": "execute_result",
          "data": {
            "text/plain": [
              "tensor(1.)"
            ]
          },
          "metadata": {},
          "execution_count": 29
        }
      ]
    },
    {
      "cell_type": "code",
      "metadata": {
        "id": "6NwxK7d_Ycgs",
        "colab": {
          "base_uri": "https://localhost:8080/"
        },
        "outputId": "544b8ea0-3372-4030-c20c-7c3cfa4b4589"
      },
      "source": [
        "x[0, 0, 0].item()"
      ],
      "execution_count": 30,
      "outputs": [
        {
          "output_type": "execute_result",
          "data": {
            "text/plain": [
              "1.0"
            ]
          },
          "metadata": {},
          "execution_count": 30
        }
      ]
    },
    {
      "cell_type": "markdown",
      "source": [
        "### Exercise:\n",
        "\n",
        "Write code that creates a `torch.tensor` with the following contents:\n",
        "$\\begin{bmatrix} 1 & 2.2 & 9.6 \\\\ 4 & -7.2 & 6.3 \\end{bmatrix}$\n",
        "\n",
        "How do you get the first column? The first row?\n",
        "\n"
      ],
      "metadata": {
        "id": "bGod5kHa6OOF"
      }
    },
    {
      "cell_type": "code",
      "source": [
        "TinTin = torch.Tensor([1,2.2,9.6,4,-7.2,6.3]).view(2,3)\n",
        "print(TinTin)\n",
        "TinTin[0]\n",
        "TinTin[:, 0]"
      ],
      "metadata": {
        "id": "HaQ0T_yqSECT",
        "outputId": "23954ef9-98ea-4b15-f245-9b854b3b770b",
        "colab": {
          "base_uri": "https://localhost:8080/"
        }
      },
      "execution_count": 31,
      "outputs": [
        {
          "output_type": "stream",
          "name": "stdout",
          "text": [
            "tensor([[ 1.0000,  2.2000,  9.6000],\n",
            "        [ 4.0000, -7.2000,  6.3000]])\n"
          ]
        },
        {
          "output_type": "execute_result",
          "data": {
            "text/plain": [
              "tensor([1., 4.])"
            ]
          },
          "metadata": {},
          "execution_count": 31
        }
      ]
    },
    {
      "cell_type": "markdown",
      "metadata": {
        "id": "Re8xiL37eAja"
      },
      "source": [
        "## Autograd\n",
        "Pytorch is well-known for its automatic differentiation feature. We can call the `backward()` method to ask `PyTorch` to calculate the gradients, which are then stored in the `grad` attribute."
      ]
    },
    {
      "cell_type": "code",
      "source": [],
      "metadata": {
        "id": "eHMUXIduPfY9"
      },
      "execution_count": 31,
      "outputs": []
    },
    {
      "cell_type": "code",
      "metadata": {
        "id": "-oEvBJHWfn8H",
        "colab": {
          "base_uri": "https://localhost:8080/"
        },
        "outputId": "e5179bc6-868f-4494-ebe3-ecd2fbcc6318"
      },
      "source": [
        "# Create an example tensor\n",
        "# requires_grad parameter tells PyTorch to store gradients\n",
        "x = torch.tensor([4.5], requires_grad=True)\n",
        "\n",
        "# Print the gradient if it is calculated\n",
        "# Currently None since x is a scalar\n",
        "pp.pprint(x.grad)\n",
        "print(x.grad)"
      ],
      "execution_count": 32,
      "outputs": [
        {
          "output_type": "stream",
          "name": "stdout",
          "text": [
            "None\n",
            "None\n"
          ]
        }
      ]
    },
    {
      "cell_type": "code",
      "metadata": {
        "id": "DTJazZXkgthP",
        "colab": {
          "base_uri": "https://localhost:8080/"
        },
        "outputId": "8faf963e-e5df-4162-9d84-dc41d0e69ccd"
      },
      "source": [
        "# Calculating the gradient of y with respect to x\n",
        "y = x * x * 3 # 3x^2\n",
        "print(x.grad)\n",
        "y.backward()\n",
        "pp.pprint(x.grad) # d(y)/d(x) = d(3x^2)/d(x) = 6 * 4.5\n",
        "print(x.grad) # If"
      ],
      "execution_count": 33,
      "outputs": [
        {
          "output_type": "stream",
          "name": "stdout",
          "text": [
            "None\n",
            "tensor([27.])\n",
            "tensor([27.])\n"
          ]
        }
      ]
    },
    {
      "cell_type": "markdown",
      "metadata": {
        "id": "3Hqc2oM3iV6a"
      },
      "source": [
        "Let's run backprop from a different tensor again to see what happens."
      ]
    },
    {
      "cell_type": "code",
      "metadata": {
        "id": "K--Az0Xiic_z",
        "colab": {
          "base_uri": "https://localhost:8080/"
        },
        "outputId": "781f330f-d209-4fee-bc35-9d927a83b04e"
      },
      "source": [
        "z = x * x * 3 # 3x^2\n",
        "z.backward()\n",
        "pp.pprint(x.grad)"
      ],
      "execution_count": 34,
      "outputs": [
        {
          "output_type": "stream",
          "name": "stdout",
          "text": [
            "tensor([54.])\n"
          ]
        }
      ]
    },
    {
      "cell_type": "code",
      "source": [
        "x.grad = None\n",
        "z = x * x * 3 # 3x^2\n",
        "z.backward()\n",
        "# y = x * x * 3\n",
        "pp.pprint(x.grad)"
      ],
      "metadata": {
        "id": "4tIa4dw6Tmar",
        "colab": {
          "base_uri": "https://localhost:8080/"
        },
        "outputId": "e392efdf-09af-47cc-dfae-18cd38aac6a6"
      },
      "execution_count": 35,
      "outputs": [
        {
          "output_type": "stream",
          "name": "stdout",
          "text": [
            "tensor([27.])\n"
          ]
        }
      ]
    },
    {
      "cell_type": "code",
      "source": [
        "z = x * x * 3 # 3x^2\n",
        "z.backward()\n",
        "# y = x * x * 3\n",
        "pp.pprint(x.grad)"
      ],
      "metadata": {
        "colab": {
          "base_uri": "https://localhost:8080/"
        },
        "id": "pbyr-P4rdJ9b",
        "outputId": "dc58be14-08ab-4bf3-acec-48f5c927bf45"
      },
      "execution_count": 36,
      "outputs": [
        {
          "output_type": "stream",
          "name": "stdout",
          "text": [
            "tensor([54.])\n"
          ]
        }
      ]
    },
    {
      "cell_type": "code",
      "source": [
        "for i in range(1,10000):\n",
        "  z = x * x * 3 # 3x^2\n",
        "  z.backward()\n",
        "# y = x * x * 3\n",
        "pp.pprint(x.grad)"
      ],
      "metadata": {
        "colab": {
          "base_uri": "https://localhost:8080/"
        },
        "id": "WpvRq_wUdM5y",
        "outputId": "95edeb28-7f58-43b8-82cd-413cea4e78c4"
      },
      "execution_count": 37,
      "outputs": [
        {
          "output_type": "stream",
          "name": "stdout",
          "text": [
            "tensor([270027.])\n"
          ]
        }
      ]
    },
    {
      "cell_type": "markdown",
      "metadata": {
        "id": "HhjPkiE6i7ja"
      },
      "source": [
        "We can see that the `x.grad` is updated to be the sum of the gradients calculated so far. When we run backprop in a neural network, we sum up all the gradients for a particular neuron before making an update. This is exactly what is happening here! This is also the reason why we need to run `zero_grad()` in every training iteration (more on this later). Otherwise our gradients would keep building up from one training iteration to the other, which would cause our updates to be wrong."
      ]
    },
    {
      "cell_type": "markdown",
      "source": [
        "## Customized Backward Function\n",
        "In some rare cases, you might want to design your own operators, or calculate higher order gradients that are not supported by Pytorch. In these cases you can define your own function with customized forward & backward computation. However, keep in mind that always check if something is already implemented by Pytorch (which is very likely) before customizing your own forward & backward computation. See more at https://pytorch.org/docs/stable/notes/extending.html."
      ],
      "metadata": {
        "id": "w-9I0zZOKtXr"
      }
    },
    {
      "cell_type": "markdown",
      "metadata": {
        "id": "pYLWqKIoaOyd"
      },
      "source": [
        "## Neural Network Module\n",
        "\n",
        "So far we have looked into the tensors, their properties and basic operations on tensors. These are especially useful to get familiar with if we are building the layers of our network from scratch. We will utilize these in Assignment 2, but moving forward, we will use predefined blocks in the `torch.nn` module of `PyTorch`. We will then put together these blocks to create complex networks. Let's start by importing this module with an alias so that we don't have to type `torch` every time we use it."
      ]
    },
    {
      "cell_type": "code",
      "metadata": {
        "id": "qUmrDpbhV4Tn"
      },
      "source": [
        "import torch.nn as nn"
      ],
      "execution_count": 38,
      "outputs": []
    },
    {
      "cell_type": "markdown",
      "metadata": {
        "id": "joGvRWjEbak0"
      },
      "source": [
        "### **Linear Layer**\n",
        "We can use `nn.Linear(H_in, H_out)` to create a a linear layer. This will take a matrix of `(N, *, H_in)` dimensions and output a matrix of `(N, *, H_out)`. The `*` denotes that there could be arbitrary number of dimensions in between. The linear layer performs the operation `Ax+b`, where `A` and `b` are initialized randomly. If we don't want the linear layer to learn the bias parameters, we can initialize our layer with `bias=False`."
      ]
    },
    {
      "cell_type": "code",
      "metadata": {
        "id": "6XfnKI4-a5j9",
        "colab": {
          "base_uri": "https://localhost:8080/"
        },
        "outputId": "bad938f3-353e-4a57-b5d1-4ad623c476a8"
      },
      "source": [
        "# Create the inputs\n",
        "input = torch.ones(2,3,4)\n",
        "# N* H_in -> N*H_out\n",
        "# pp.pprint(input)\n",
        "print(input)\n",
        "\n",
        "# Make a linear layers transforming N,*,H_in dimensinal inputs to N,*,H_out\n",
        "# dimensional outputs\n",
        "linear = nn.Linear(4, 2)\n",
        "print(linear)\n",
        "linear_output = linear(input)\n",
        "linear_output"
      ],
      "execution_count": 39,
      "outputs": [
        {
          "output_type": "stream",
          "name": "stdout",
          "text": [
            "tensor([[[1., 1., 1., 1.],\n",
            "         [1., 1., 1., 1.],\n",
            "         [1., 1., 1., 1.]],\n",
            "\n",
            "        [[1., 1., 1., 1.],\n",
            "         [1., 1., 1., 1.],\n",
            "         [1., 1., 1., 1.]]])\n",
            "Linear(in_features=4, out_features=2, bias=True)\n"
          ]
        },
        {
          "output_type": "execute_result",
          "data": {
            "text/plain": [
              "tensor([[[ 0.7799, -0.0081],\n",
              "         [ 0.7799, -0.0081],\n",
              "         [ 0.7799, -0.0081]],\n",
              "\n",
              "        [[ 0.7799, -0.0081],\n",
              "         [ 0.7799, -0.0081],\n",
              "         [ 0.7799, -0.0081]]], grad_fn=<ViewBackward0>)"
            ]
          },
          "metadata": {},
          "execution_count": 39
        }
      ]
    },
    {
      "cell_type": "code",
      "source": [
        "linear_output.shape"
      ],
      "metadata": {
        "colab": {
          "base_uri": "https://localhost:8080/"
        },
        "id": "ao4XddjxeBVJ",
        "outputId": "f5686331-976e-4c99-8376-b6b1f4ccdafc"
      },
      "execution_count": 40,
      "outputs": [
        {
          "output_type": "execute_result",
          "data": {
            "text/plain": [
              "torch.Size([2, 3, 2])"
            ]
          },
          "metadata": {},
          "execution_count": 40
        }
      ]
    },
    {
      "cell_type": "code",
      "metadata": {
        "id": "0_9XKtAFYpdI",
        "colab": {
          "base_uri": "https://localhost:8080/"
        },
        "outputId": "a7670e7d-1474-4d03-904c-cdb5b5718f43"
      },
      "source": [
        "list(linear.parameters()) # Ax + b"
      ],
      "execution_count": 41,
      "outputs": [
        {
          "output_type": "execute_result",
          "data": {
            "text/plain": [
              "[Parameter containing:\n",
              " tensor([[-0.0711,  0.2351, -0.2161,  0.4626],\n",
              "         [-0.0505, -0.3060, -0.3395,  0.3823]], requires_grad=True),\n",
              " Parameter containing:\n",
              " tensor([0.3694, 0.3056], requires_grad=True)]"
            ]
          },
          "metadata": {},
          "execution_count": 41
        }
      ]
    },
    {
      "cell_type": "code",
      "source": [
        "# Data of shape [batch_size, feature_dim] # 4\n",
        "# [batch_size, output_dim] # 2\n",
        "\n",
        "# linear layer of shape (feature_dim, output_dim)"
      ],
      "metadata": {
        "id": "FsyBaqzZppS8"
      },
      "execution_count": 42,
      "outputs": []
    },
    {
      "cell_type": "markdown",
      "metadata": {
        "id": "jAXCCu9keUlW"
      },
      "source": [
        "### **Other Module Layers**\n",
        "There are several other preconfigured layers in the `nn` module. Some commonly used examples are `nn.Conv2d`, `nn.ConvTranspose2d`, `nn.BatchNorm1d`, `nn.BatchNorm2d`, `nn.Upsample` and `nn.MaxPool2d` among many others. We will learn more about these as we progress in the course. For now, the only important thing to remember is that we can treat each of these layers as plug and play components: we will be providing the required dimensions and `PyTorch` will take care of setting them up."
      ]
    },
    {
      "cell_type": "markdown",
      "metadata": {
        "id": "yslDOK66fYWn"
      },
      "source": [
        "### **Activation Function Layer**\n",
        "We can also use the `nn` module to apply activations functions to our tensors. Activation functions are used to add non-linearity to our network. Some examples of activations functions are `nn.ReLU()`, `nn.Sigmoid()` and `nn.LeakyReLU()`. Activation functions operate on each element seperately, so the shape of the tensors we get as an output are the same as the ones we pass in."
      ]
    },
    {
      "cell_type": "code",
      "metadata": {
        "id": "IrJP5CveeOON",
        "colab": {
          "base_uri": "https://localhost:8080/"
        },
        "outputId": "5383e76a-d467-4c02-caa8-dbef623f4dc0"
      },
      "source": [
        "linear_output"
      ],
      "execution_count": 43,
      "outputs": [
        {
          "output_type": "execute_result",
          "data": {
            "text/plain": [
              "tensor([[[ 0.7799, -0.0081],\n",
              "         [ 0.7799, -0.0081],\n",
              "         [ 0.7799, -0.0081]],\n",
              "\n",
              "        [[ 0.7799, -0.0081],\n",
              "         [ 0.7799, -0.0081],\n",
              "         [ 0.7799, -0.0081]]], grad_fn=<ViewBackward0>)"
            ]
          },
          "metadata": {},
          "execution_count": 43
        }
      ]
    },
    {
      "cell_type": "code",
      "metadata": {
        "id": "W9v5FjQtd4Ck",
        "colab": {
          "base_uri": "https://localhost:8080/"
        },
        "outputId": "a6035673-3eac-486c-cc69-be71e88d370d"
      },
      "source": [
        "sigmoid = nn.Sigmoid()\n",
        "output = sigmoid(linear_output)\n",
        "output"
      ],
      "execution_count": 44,
      "outputs": [
        {
          "output_type": "execute_result",
          "data": {
            "text/plain": [
              "tensor([[[0.6857, 0.4980],\n",
              "         [0.6857, 0.4980],\n",
              "         [0.6857, 0.4980]],\n",
              "\n",
              "        [[0.6857, 0.4980],\n",
              "         [0.6857, 0.4980],\n",
              "         [0.6857, 0.4980]]], grad_fn=<SigmoidBackward0>)"
            ]
          },
          "metadata": {},
          "execution_count": 44
        }
      ]
    },
    {
      "cell_type": "markdown",
      "metadata": {
        "id": "RiYTthJwhEYT"
      },
      "source": [
        "### **Putting the Layers Together**\n",
        "So far we have seen that we can create layers and pass the output of one as the input of the next. Instead of creating intermediate tensors and passing them around, we can use `nn.Sequentual`, which does exactly that."
      ]
    },
    {
      "cell_type": "code",
      "metadata": {
        "id": "xtJeOqLxhBLY",
        "colab": {
          "base_uri": "https://localhost:8080/"
        },
        "outputId": "fb1e3cc7-2e3a-41f1-b89d-65fcd33c3d21"
      },
      "source": [
        "block = nn.Sequential(\n",
        "    nn.Linear(4, 2),\n",
        "    nn.Linear(2,7),\n",
        "    nn.Sigmoid()\n",
        ")\n",
        "\n",
        "input = torch.ones(2,3,4)\n",
        "output = block(input)\n",
        "output"
      ],
      "execution_count": 45,
      "outputs": [
        {
          "output_type": "execute_result",
          "data": {
            "text/plain": [
              "tensor([[[0.5264, 0.5942, 0.3834, 0.5682, 0.5030, 0.3200, 0.7493],\n",
              "         [0.5264, 0.5942, 0.3834, 0.5682, 0.5030, 0.3200, 0.7493],\n",
              "         [0.5264, 0.5942, 0.3834, 0.5682, 0.5030, 0.3200, 0.7493]],\n",
              "\n",
              "        [[0.5264, 0.5942, 0.3834, 0.5682, 0.5030, 0.3200, 0.7493],\n",
              "         [0.5264, 0.5942, 0.3834, 0.5682, 0.5030, 0.3200, 0.7493],\n",
              "         [0.5264, 0.5942, 0.3834, 0.5682, 0.5030, 0.3200, 0.7493]]],\n",
              "       grad_fn=<SigmoidBackward0>)"
            ]
          },
          "metadata": {},
          "execution_count": 45
        }
      ]
    },
    {
      "cell_type": "markdown",
      "metadata": {
        "id": "GkJ81p3GUVPM"
      },
      "source": [
        "### Custom Modules\n",
        "\n",
        "Instead of using the predefined modules, we can also build our own by extending the `nn.Module` class. For example, we can build a the `nn.Linear` (which also extends `nn.Module`) on our own using the tensor introduced earlier! We can also build new, more complex modules, such as a custom neural network. You will be practicing these in the later assignment.\n",
        "\n",
        "To create a custom module, the first thing we have to do is to extend the `nn.Module`. We can then initialize our parameters in the `__init__` function, starting with a call to the `__init__` function of the super class. All the class attributes we define which are `nn` module objects are treated as parameters, which can be learned during the training. Tensors are not parameters, but they can be turned into parameters if they are wrapped in `nn.Parameter` class.\n",
        "\n",
        "All classes extending `nn.Module` are also expected to implement a `forward(x)` function, where `x` is a tensor. This is the function that is called when a parameter is passed to our module, such as in `model(x)`."
      ]
    },
    {
      "cell_type": "code",
      "metadata": {
        "id": "J2P7eZiMj32_"
      },
      "source": [
        "### Example of forward pass\n",
        "class MultilayerPerceptron(nn.Module):\n",
        "\n",
        "  def __init__(self, input_size, hidden_size):\n",
        "    # Call to the __init__ function of the super class\n",
        "    super(MultilayerPerceptron, self).__init__()\n",
        "\n",
        "    # Bookkeeping: Saving the initialization parameters\n",
        "    self.input_size = input_size\n",
        "    self.hidden_size = hidden_size\n",
        "\n",
        "    # Defining of our model\n",
        "    # There isn't anything specific about the naming of `self.model`. It could\n",
        "    # be something arbitrary.\n",
        "    self.model = nn.Sequential(\n",
        "        nn.Linear(self.input_size, self.hidden_size),\n",
        "        nn.ReLU(),\n",
        "        nn.Linear(self.hidden_size, self.input_size),\n",
        "        nn.Sigmoid()\n",
        "    )\n",
        "\n",
        "  def forward(self, x):\n",
        "    output = self.model(x)\n",
        "    return output"
      ],
      "execution_count": 46,
      "outputs": []
    },
    {
      "cell_type": "markdown",
      "metadata": {
        "id": "b2DrfLiBVjNT"
      },
      "source": [
        "### Example of forward pass\n",
        "Here is an alternative way to define the same class. You can see that we can replace `nn.Sequential` by defining the individual layers in the `__init__` method and connecting the in the `forward` method."
      ]
    },
    {
      "cell_type": "code",
      "metadata": {
        "id": "9-lqhsqwViIk"
      },
      "source": [
        "### Example of forward pass\n",
        "class MultilayerPerceptron(nn.Module):\n",
        "\n",
        "  def __init__(self, input_size, hidden_size):\n",
        "    # Call to the __init__ function of the super class\n",
        "    super(MultilayerPerceptron, self).__init__()\n",
        "\n",
        "    # Bookkeeping: Saving the initialization parameters\n",
        "    self.input_size = input_size\n",
        "    self.hidden_size = hidden_size\n",
        "\n",
        "    # Defining of our layers\n",
        "    self.linear = nn.Linear(self.input_size, self.hidden_size)\n",
        "    self.relu = nn.ReLU()\n",
        "    self.linear2 = nn.Linear(self.hidden_size, self.input_size)\n",
        "    self.sigmoid = nn.Sigmoid()\n",
        "\n",
        "  def forward(self, x):\n",
        "    linear = self.linear(x)\n",
        "    relu = self.relu(linear)\n",
        "    linear2 = self.linear2(relu)\n",
        "    output = self.sigmoid(linear2)\n",
        "    return output"
      ],
      "execution_count": 47,
      "outputs": []
    },
    {
      "cell_type": "markdown",
      "metadata": {
        "id": "YQelcFo5bXgU"
      },
      "source": [
        "Now that we have defined our class, we can instantiate it and see what it does."
      ]
    },
    {
      "cell_type": "code",
      "metadata": {
        "id": "cXi0T0FZbV0y",
        "colab": {
          "base_uri": "https://localhost:8080/"
        },
        "outputId": "5d401824-74b5-4766-d870-899c75dd5aaa"
      },
      "source": [
        "# Make a sample input\n",
        "input = torch.randn(2, 5)\n",
        "\n",
        "# Create our model\n",
        "model = MultilayerPerceptron(5, 3)\n",
        "\n",
        "# Pass our input through our model\n",
        "model(input)"
      ],
      "execution_count": 48,
      "outputs": [
        {
          "output_type": "execute_result",
          "data": {
            "text/plain": [
              "tensor([[0.3853, 0.5148, 0.4639, 0.4465, 0.3754],\n",
              "        [0.3777, 0.4729, 0.4834, 0.2929, 0.2092]], grad_fn=<SigmoidBackward0>)"
            ]
          },
          "metadata": {},
          "execution_count": 48
        }
      ]
    },
    {
      "cell_type": "markdown",
      "metadata": {
        "id": "tCCbjc-Fb2-B"
      },
      "source": [
        "We can inspect the parameters of our model with `named_parameters()` and `parameters()` methods."
      ]
    },
    {
      "cell_type": "code",
      "metadata": {
        "id": "7d23soYIb2WZ",
        "colab": {
          "base_uri": "https://localhost:8080/"
        },
        "outputId": "311b9bde-e077-4422-969e-db803d22892b"
      },
      "source": [
        "list(model.named_parameters())"
      ],
      "execution_count": 49,
      "outputs": [
        {
          "output_type": "execute_result",
          "data": {
            "text/plain": [
              "[('linear.weight',\n",
              "  Parameter containing:\n",
              "  tensor([[-0.0446,  0.3195, -0.1821, -0.4436, -0.1131],\n",
              "          [-0.1610,  0.3435, -0.1371,  0.0550, -0.3720],\n",
              "          [-0.0769,  0.2940, -0.4174,  0.0028, -0.2198]], requires_grad=True)),\n",
              " ('linear.bias',\n",
              "  Parameter containing:\n",
              "  tensor([ 0.0373,  0.0286, -0.0959], requires_grad=True)),\n",
              " ('linear2.weight',\n",
              "  Parameter containing:\n",
              "  tensor([[-0.2851, -0.1155,  0.3669],\n",
              "          [ 0.4419, -0.2325, -0.5146],\n",
              "          [ 0.0986, -0.4081,  0.3419],\n",
              "          [-0.2126, -0.2866, -0.4208],\n",
              "          [-0.4111, -0.2108, -0.4741]], requires_grad=True)),\n",
              " ('linear2.bias',\n",
              "  Parameter containing:\n",
              "  tensor([-0.2796, -0.2304, -0.2089, -0.0748, -0.2390], requires_grad=True))]"
            ]
          },
          "metadata": {},
          "execution_count": 49
        }
      ]
    },
    {
      "cell_type": "markdown",
      "metadata": {
        "id": "x5JegycOdMFy"
      },
      "source": [
        "## Optimization\n",
        "We have showed how gradients are calculated with the `backward()` function. Having the gradients isn't enought for our models to learn. We also need to know how to update the parameters of our models. This is where the optimizers comes in. `torch.optim` module contains several optimizers that we can use. Some popular examples are `optim.SGD` and `optim.Adam`. When initializing optimizers, we pass our model parameters, which can be accessed with `model.parameters()`, telling the optimizers which values it will be optimizing. Optimizers also has a learning rate (`lr`) parameter, which determines how big of an update will be made in every step. Different optimizers have different hyperparameters as well."
      ]
    },
    {
      "cell_type": "code",
      "metadata": {
        "id": "W0F-TvV0kk-I"
      },
      "source": [
        "import torch.optim as optim"
      ],
      "execution_count": 50,
      "outputs": []
    },
    {
      "cell_type": "markdown",
      "metadata": {
        "id": "wgak6o5dlQWF"
      },
      "source": [
        "After we have our optimization function, we can define a `loss` that we want to optimize for. We can either define the loss ourselves, or use one of the predefined loss function in `PyTorch`, such as `nn.BCELoss()`. Let's put everything together now! We will start by creating some dummy data."
      ]
    },
    {
      "cell_type": "code",
      "metadata": {
        "id": "dGYFiaT_vXBn",
        "colab": {
          "base_uri": "https://localhost:8080/"
        },
        "outputId": "f20514f7-eea3-4093-8cd1-26c0454613d8"
      },
      "source": [
        "# Create the y data\n",
        "y = torch.ones(10, 5)\n",
        "print(y)\n",
        "\n",
        "# Add some noise to our goal y to generate our x\n",
        "# We want out model to predict our original data, albeit the noise\n",
        "x = y + torch.randn_like(y)\n",
        "x"
      ],
      "execution_count": 51,
      "outputs": [
        {
          "output_type": "stream",
          "name": "stdout",
          "text": [
            "tensor([[1., 1., 1., 1., 1.],\n",
            "        [1., 1., 1., 1., 1.],\n",
            "        [1., 1., 1., 1., 1.],\n",
            "        [1., 1., 1., 1., 1.],\n",
            "        [1., 1., 1., 1., 1.],\n",
            "        [1., 1., 1., 1., 1.],\n",
            "        [1., 1., 1., 1., 1.],\n",
            "        [1., 1., 1., 1., 1.],\n",
            "        [1., 1., 1., 1., 1.],\n",
            "        [1., 1., 1., 1., 1.]])\n"
          ]
        },
        {
          "output_type": "execute_result",
          "data": {
            "text/plain": [
              "tensor([[ 1.0412,  2.2705,  1.6414,  0.7512,  0.0655],\n",
              "        [ 2.9883,  1.8945,  2.6924, -0.9054,  0.5136],\n",
              "        [ 1.8401,  1.3686,  0.6085,  0.0281, -0.6048],\n",
              "        [ 4.3853,  1.6926,  0.3667,  1.4280,  0.8431],\n",
              "        [-0.3794, -0.2600,  0.6125,  1.0247,  1.5648],\n",
              "        [ 0.4138,  1.2145, -0.5930,  0.8820,  0.5320],\n",
              "        [ 1.6000,  0.4891, -0.1347,  0.2678,  1.3012],\n",
              "        [-0.5371,  0.8943,  1.2525, -0.9386,  0.3276],\n",
              "        [ 0.2964, -0.2624,  0.3229,  0.8905,  2.0200],\n",
              "        [ 1.0100,  1.9155,  2.2732,  1.6054,  1.3713]])"
            ]
          },
          "metadata": {},
          "execution_count": 51
        }
      ]
    },
    {
      "cell_type": "markdown",
      "metadata": {
        "id": "BEsiOdpWvfLj"
      },
      "source": [
        "Now, we can define our model, optimizer and the loss function."
      ]
    },
    {
      "cell_type": "code",
      "metadata": {
        "id": "2oA2XsdsbN8p",
        "colab": {
          "base_uri": "https://localhost:8080/"
        },
        "outputId": "b37682d1-2357-4f6f-d78d-6106f2cfbfea"
      },
      "source": [
        "# Instantiate the model\n",
        "model = MultilayerPerceptron(5, 3)\n",
        "\n",
        "# Define the optimizer\n",
        "adam = optim.Adam(model.parameters(), lr=1e-1)\n",
        "\n",
        "# Define loss using a predefined loss function\n",
        "loss_function = nn.MSELoss()\n",
        "\n",
        "# Calculate how our model is doing now\n",
        "y_pred = model(x)\n",
        "loss_function(y_pred, y).item()"
      ],
      "execution_count": 52,
      "outputs": [
        {
          "output_type": "execute_result",
          "data": {
            "text/plain": [
              "0.24618326127529144"
            ]
          },
          "metadata": {},
          "execution_count": 52
        }
      ]
    },
    {
      "cell_type": "markdown",
      "metadata": {
        "id": "gtxU7Y8ZufSR"
      },
      "source": [
        "Let's see if we can have our model achieve a smaller loss. Now that we have everything we need, we can setup our training loop."
      ]
    },
    {
      "cell_type": "code",
      "metadata": {
        "id": "ogl6-Ctmuek6",
        "colab": {
          "base_uri": "https://localhost:8080/"
        },
        "outputId": "424e665c-64ee-4fac-fd6a-0d1fe7443675"
      },
      "source": [
        "# Set the number of epoch, which determines the number of training iterations\n",
        "n_epoch = 10\n",
        "\n",
        "for epoch in range(n_epoch):\n",
        "  # Set the gradients to 0\n",
        "  adam.zero_grad()\n",
        "\n",
        "  # Get the model predictions\n",
        "  y_pred = model(x)\n",
        "\n",
        "  # Get the loss\n",
        "  loss = loss_function(y_pred, y)\n",
        "\n",
        "  # Print stats\n",
        "  print(f\"Epoch {epoch}: traing loss: {loss}\")\n",
        "\n",
        "  # Compute the gradients\n",
        "  loss.backward()\n",
        "\n",
        "  # Take a step to optimize the weights\n",
        "  adam.step()\n"
      ],
      "execution_count": 53,
      "outputs": [
        {
          "output_type": "stream",
          "name": "stdout",
          "text": [
            "Epoch 0: traing loss: 0.24618326127529144\n",
            "Epoch 1: traing loss: 0.173100084066391\n",
            "Epoch 2: traing loss: 0.10047462582588196\n",
            "Epoch 3: traing loss: 0.04709331691265106\n",
            "Epoch 4: traing loss: 0.019043250009417534\n",
            "Epoch 5: traing loss: 0.007086555939167738\n",
            "Epoch 6: traing loss: 0.0025579065550118685\n",
            "Epoch 7: traing loss: 0.0009255156037397683\n",
            "Epoch 8: traing loss: 0.00034311332274228334\n",
            "Epoch 9: traing loss: 0.00013215299986768514\n"
          ]
        }
      ]
    },
    {
      "cell_type": "code",
      "metadata": {
        "id": "ZrMJ8AmqeCY-",
        "colab": {
          "base_uri": "https://localhost:8080/"
        },
        "outputId": "c627720e-5a53-4be3-996d-35eb016f9869"
      },
      "source": [
        "list(model.parameters())"
      ],
      "execution_count": 54,
      "outputs": [
        {
          "output_type": "execute_result",
          "data": {
            "text/plain": [
              "[Parameter containing:\n",
              " tensor([[ 0.3404,  0.8005,  0.7072,  0.0162,  0.6135],\n",
              "         [-0.1561, -0.1808, -0.1609, -0.0185, -0.2742],\n",
              "         [ 1.0227,  0.3773,  0.9399,  1.0651,  0.4687]], requires_grad=True),\n",
              " Parameter containing:\n",
              " tensor([ 0.7758, -0.4118,  1.1178], requires_grad=True),\n",
              " Parameter containing:\n",
              " tensor([[ 6.4115e-01,  5.7499e-01,  9.0681e-01],\n",
              "         [ 1.1792e+00,  1.0627e-03,  1.2370e+00],\n",
              "         [ 1.1179e+00,  1.7886e-01,  1.1132e+00],\n",
              "         [ 4.4773e-01, -3.9161e-01,  1.0938e+00],\n",
              "         [ 1.2278e+00,  2.6855e-02,  9.4678e-01]], requires_grad=True),\n",
              " Parameter containing:\n",
              " tensor([0.7362, 0.1805, 0.4095, 1.1114, 1.0123], requires_grad=True)]"
            ]
          },
          "metadata": {},
          "execution_count": 54
        }
      ]
    },
    {
      "cell_type": "markdown",
      "metadata": {
        "id": "4nXApd82wlsF"
      },
      "source": [
        "You can see that our loss is decreasing. Let's check the predictions of our model now and see if they are close to our original `y`, which was all `1s`."
      ]
    },
    {
      "cell_type": "code",
      "metadata": {
        "id": "gRqE7P9EtvuS",
        "colab": {
          "base_uri": "https://localhost:8080/"
        },
        "outputId": "aa8d6e89-1820-4c66-ba4d-3de0b5f400f6"
      },
      "source": [
        "# See how our model performs on the training data\n",
        "y_pred = model(x)\n",
        "y_pred"
      ],
      "execution_count": 55,
      "outputs": [
        {
          "output_type": "execute_result",
          "data": {
            "text/plain": [
              "tensor([[0.9998, 1.0000, 1.0000, 0.9999, 1.0000],\n",
              "        [1.0000, 1.0000, 1.0000, 1.0000, 1.0000],\n",
              "        [0.9971, 0.9996, 0.9995, 0.9984, 0.9996],\n",
              "        [1.0000, 1.0000, 1.0000, 1.0000, 1.0000],\n",
              "        [0.9907, 0.9978, 0.9971, 0.9948, 0.9979],\n",
              "        [0.9864, 0.9962, 0.9953, 0.9918, 0.9967],\n",
              "        [0.9965, 0.9995, 0.9993, 0.9981, 0.9994],\n",
              "        [0.9672, 0.9892, 0.9884, 0.9715, 0.9940],\n",
              "        [0.9951, 0.9992, 0.9988, 0.9973, 0.9991],\n",
              "        [1.0000, 1.0000, 1.0000, 1.0000, 1.0000]], grad_fn=<SigmoidBackward0>)"
            ]
          },
          "metadata": {},
          "execution_count": 55
        }
      ]
    },
    {
      "cell_type": "code",
      "metadata": {
        "id": "IJng31_Pi2R6",
        "colab": {
          "base_uri": "https://localhost:8080/"
        },
        "outputId": "fd4267f3-d597-418a-e995-b2c0858b44c9"
      },
      "source": [
        "# Create test data and check how our model performs on it\n",
        "x2 = y + torch.randn_like(y)\n",
        "y_pred = model(x2)\n",
        "y_pred"
      ],
      "execution_count": 56,
      "outputs": [
        {
          "output_type": "execute_result",
          "data": {
            "text/plain": [
              "tensor([[0.9990, 0.9999, 0.9999, 0.9994, 0.9999],\n",
              "        [0.9995, 1.0000, 1.0000, 0.9997, 1.0000],\n",
              "        [0.9996, 1.0000, 1.0000, 0.9998, 1.0000],\n",
              "        [0.9828, 0.9950, 0.9940, 0.9887, 0.9961],\n",
              "        [0.9535, 0.9762, 0.9751, 0.9683, 0.9847],\n",
              "        [1.0000, 1.0000, 1.0000, 1.0000, 1.0000],\n",
              "        [0.9072, 0.9199, 0.9222, 0.9432, 0.9482],\n",
              "        [0.9999, 1.0000, 1.0000, 1.0000, 1.0000],\n",
              "        [0.9882, 0.9958, 0.9947, 0.9949, 0.9953],\n",
              "        [0.9996, 1.0000, 1.0000, 0.9997, 1.0000]], grad_fn=<SigmoidBackward0>)"
            ]
          },
          "metadata": {},
          "execution_count": 56
        }
      ]
    },
    {
      "cell_type": "markdown",
      "metadata": {
        "id": "8WNk6oIZw2xo"
      },
      "source": [
        "Great! Looks like our model almost perfectly learned to filter out the noise from the `x` that we passed in!"
      ]
    },
    {
      "cell_type": "markdown",
      "metadata": {
        "id": "P8rUNk_1xG1v"
      },
      "source": [
        "## Demo: Word Window Classification\n",
        "\n",
        "Until this part of the notebook, we have learned the fundamentals of PyTorch and built a basic network solving a toy task. Now we will attempt to solve an example NLP task. Here are the things we will learn:\n",
        "\n",
        "1. Data: Creating a Dataset of Batched Tensors\n",
        "2. Modeling\n",
        "3. Training\n",
        "4. Prediction\n",
        "\n",
        "In this section, our goal will be to train a model that will find the words in a sentence corresponding to a `LOCATION`, which will be always of span `1` (meaning that `San Fransisco` won't be recognized as a `LOCATION`). Our task is called `Word Window Classification` for a reason. Instead of letting our model to only take a look at one word in each forward pass, we would like it to be able to consider the context of the word in question. That is, for each word, we want our model to be aware of the surrounding words. Let's dive in!"
      ]
    },
    {
      "cell_type": "markdown",
      "metadata": {
        "id": "_amzuUx8BJXI"
      },
      "source": [
        "### Data\n",
        "\n",
        "The very first task of any machine learning project is to set up our training set. Usually, there will be a training corpus we will be utilizing. In NLP tasks, the corpus would generally be a `.txt` or `.csv` file where each row corresponds to a sentence or a tabular datapoint. In our toy task, we will assume that we have already read our data and the corresponding labels into a `Python` list."
      ]
    },
    {
      "cell_type": "code",
      "metadata": {
        "id": "mDiI1PLMw10z"
      },
      "source": [
        "# Our raw data, which consists of sentences\n",
        "corpus = [\n",
        "          \"We always come to Paris\",\n",
        "          \"The professor is from Australia\",\n",
        "          \"I live in Stanford\",\n",
        "          \"He comes from Taiwan\",\n",
        "          \"The capital of Turkey is Ankara or Paris\"\n",
        "         ]"
      ],
      "execution_count": 57,
      "outputs": []
    },
    {
      "cell_type": "code",
      "source": [
        "print(\"We always come to Paris\".lower())\n",
        "print(\"We always come to Paris\".lower().split())"
      ],
      "metadata": {
        "colab": {
          "base_uri": "https://localhost:8080/"
        },
        "id": "HvL397a0aTxq",
        "outputId": "ffe67941-9749-4d32-e877-2663e2ae3c29"
      },
      "execution_count": 58,
      "outputs": [
        {
          "output_type": "stream",
          "name": "stdout",
          "text": [
            "we always come to paris\n",
            "['we', 'always', 'come', 'to', 'paris']\n"
          ]
        }
      ]
    },
    {
      "cell_type": "markdown",
      "metadata": {
        "id": "t33Uke9AE22s"
      },
      "source": [
        "#### Preprocessing\n",
        "\n",
        "To make it easier for our models to learn, we usually apply a few preprocessing steps to our data. This is especially important when dealing with text data. Here are some examples of text preprocessing:\n",
        "* **Tokenization**: Tokenizing the sentences into words.\n",
        "* **Lowercasing**: Changing all the letters to be lowercase.\n",
        "* **Noise removal:** Removing special characters (such as punctuations).\n",
        "* **Stop words removal**: Removing commonly used words.\n",
        "\n",
        "Which preprocessing steps are necessary is determined by the task at hand. For example, although it is useful to remove special characters in some tasks, for others they may be important (for example, if we are dealing with multiple languages). For our task, we will lowercase our words and tokenize.\n"
      ]
    },
    {
      "cell_type": "code",
      "metadata": {
        "id": "fTGn8ANTzZXT",
        "colab": {
          "base_uri": "https://localhost:8080/"
        },
        "outputId": "c2d62ff3-a2d4-48d0-aeca-784861aaa845"
      },
      "source": [
        "# The preprocessing function we will use to generate our training examples\n",
        "# Our function is a simple one, we lowercase the letters\n",
        "# and then tokenize the words.\n",
        "def preprocess_sentence(sentence):\n",
        "  return sentence.lower().split()\n",
        "\n",
        "# Create our training set\n",
        "train_sentences = [preprocess_sentence(sent) for sent in corpus]\n",
        "train_sentences"
      ],
      "execution_count": 59,
      "outputs": [
        {
          "output_type": "execute_result",
          "data": {
            "text/plain": [
              "[['we', 'always', 'come', 'to', 'paris'],\n",
              " ['the', 'professor', 'is', 'from', 'australia'],\n",
              " ['i', 'live', 'in', 'stanford'],\n",
              " ['he', 'comes', 'from', 'taiwan'],\n",
              " ['the', 'capital', 'of', 'turkey', 'is', 'ankara', 'or', 'paris']]"
            ]
          },
          "metadata": {},
          "execution_count": 59
        }
      ]
    },
    {
      "cell_type": "markdown",
      "metadata": {
        "id": "k4jzo5tp0Hza"
      },
      "source": [
        "For each training example we have, we should also have a corresponding label. Recall that the goal of our model was to determine which words correspond to a `LOCATION`. That is, we want our model to output `0` for all the words that are not `LOCATION`s and `1` for the ones that are `LOCATION`s."
      ]
    },
    {
      "cell_type": "code",
      "metadata": {
        "id": "3wo1kcMAHFw7",
        "colab": {
          "base_uri": "https://localhost:8080/"
        },
        "outputId": "d7cedcf1-507a-4055-f5d0-850757cb85d9"
      },
      "source": [
        "# Set of locations that appear in our corpus\n",
        "locations = set([\"australia\", \"ankara\", \"paris\", \"stanford\", \"taiwan\", \"turkey\"])\n",
        "\n",
        "# Our train labels\n",
        "train_labels = [[1 if word in locations else 0 for word in sent] for sent in train_sentences]\n",
        "train_labels"
      ],
      "execution_count": 60,
      "outputs": [
        {
          "output_type": "execute_result",
          "data": {
            "text/plain": [
              "[[0, 0, 0, 0, 1],\n",
              " [0, 0, 0, 0, 1],\n",
              " [0, 0, 0, 1],\n",
              " [0, 0, 0, 1],\n",
              " [0, 0, 0, 1, 0, 1, 0, 1]]"
            ]
          },
          "metadata": {},
          "execution_count": 60
        }
      ]
    },
    {
      "cell_type": "markdown",
      "metadata": {
        "id": "qgVKH9M3RtPx"
      },
      "source": [
        "#### Converting Words to Embeddings\n",
        "\n",
        "Let's look at our training data a little more closely. Each datapoint we have is a sequence of words. On the other hand, we know that machine learning models work with numbers in vectors. How are we going to turn words into numbers? You may be thinking embeddings and you are right!\n",
        "\n",
        "Imagine that we have an embedding lookup table `E`, where each row corresponds to an embedding. That is, each word in our vocabulary would have a corresponding embedding row `i` in this table. Whenever we want to find an embedding for a word, we will follow these steps:\n",
        "1. Find the corresponding index `i` of the word in the embedding table: `word->index`.\n",
        "2. Index into the embedding table and get the embedding: `index->embedding`.\n",
        "\n",
        "Let's look at the first step. We should assign all the words in our vocabulary to a corresponding index. We can do it as follows:\n",
        "1. Find all the unique words in our corpus.\n",
        "2. Assign an index to each."
      ]
    },
    {
      "cell_type": "code",
      "metadata": {
        "id": "SjTDlfPyVp5z",
        "colab": {
          "base_uri": "https://localhost:8080/"
        },
        "outputId": "383e8a20-f4bf-44c7-ec99-ebf72270100f"
      },
      "source": [
        "# Find all the unique words in our corpus\n",
        "vocabulary = set(w for s in train_sentences for w in s)\n",
        "vocabulary"
      ],
      "execution_count": 61,
      "outputs": [
        {
          "output_type": "execute_result",
          "data": {
            "text/plain": [
              "{'always',\n",
              " 'ankara',\n",
              " 'australia',\n",
              " 'capital',\n",
              " 'come',\n",
              " 'comes',\n",
              " 'from',\n",
              " 'he',\n",
              " 'i',\n",
              " 'in',\n",
              " 'is',\n",
              " 'live',\n",
              " 'of',\n",
              " 'or',\n",
              " 'paris',\n",
              " 'professor',\n",
              " 'stanford',\n",
              " 'taiwan',\n",
              " 'the',\n",
              " 'to',\n",
              " 'turkey',\n",
              " 'we'}"
            ]
          },
          "metadata": {},
          "execution_count": 61
        }
      ]
    },
    {
      "cell_type": "markdown",
      "metadata": {
        "id": "IOxnKznOWXSC"
      },
      "source": [
        "`vocabulary` now contains all the words in our corpus. On the other hand, during the test time, we can see words that are not contained in our vocabulary. If we can figure out a way to represent the unknown words, our model can still reason about whether they are a `LOCATION` or not, since we are also looking at the neighboring words for each prediction.\n",
        "\n",
        "We introduce a special token, `<unk>`, to tackle the words that are out of vocabulary. We could pick another string for our unknown token if we wanted. The only requirement here is that our token should be unique: we should only be using this token for unknown words. We will also add this special token to our vocabulary."
      ]
    },
    {
      "cell_type": "code",
      "metadata": {
        "id": "ygxYuE1DYeR3",
        "colab": {
          "base_uri": "https://localhost:8080/"
        },
        "outputId": "74a7ed8c-8225-477b-e93f-2d37fa9e773a"
      },
      "source": [
        "# Add the unknown token to our vocabulary\n",
        "vocabulary.add(\"<unk>\")\n",
        "vocabulary"
      ],
      "execution_count": 62,
      "outputs": [
        {
          "output_type": "execute_result",
          "data": {
            "text/plain": [
              "{'<unk>',\n",
              " 'always',\n",
              " 'ankara',\n",
              " 'australia',\n",
              " 'capital',\n",
              " 'come',\n",
              " 'comes',\n",
              " 'from',\n",
              " 'he',\n",
              " 'i',\n",
              " 'in',\n",
              " 'is',\n",
              " 'live',\n",
              " 'of',\n",
              " 'or',\n",
              " 'paris',\n",
              " 'professor',\n",
              " 'stanford',\n",
              " 'taiwan',\n",
              " 'the',\n",
              " 'to',\n",
              " 'turkey',\n",
              " 'we'}"
            ]
          },
          "metadata": {},
          "execution_count": 62
        }
      ]
    },
    {
      "cell_type": "markdown",
      "metadata": {
        "id": "Bsf4haL94AFu"
      },
      "source": [
        "Earlier we mentioned that our task was called `Word Window Classification` because our model is looking at the surroundings words in addition to the given word when it needs to make a prediction.\n",
        "\n",
        "For example, let's take the sentence \"We always come to Paris\". The corresponding training label for this sentence is `0, 0, 0, 0, 1` since only Paris, the last word, is a `LOCATION`. In one pass (meaning a call to `forward()`), our model will try to generate the correct label for one word. Let's say our model is trying to generate the correct label `1` for `Paris`. If we only allow our model to see `Paris`, but nothing else, we will miss out on the important information that the word `to` often times appears with `LOCATION`s.\n",
        "\n",
        "Word windows allow our model to consider the surrounding `+N` or `-N` words of each word when making a prediction. In our earlier example for `Paris`, if we have a window size of 1, that means our model will look at the words that come immediately before and after `Paris`, which are `to`, and, well, nothing. Now, this raises another issue. `Paris` is at the end of our sentence, so there isn't another word following it. Remember that we define the input dimensions of our `PyTorch` models when we are initializing them. If we set the window size to be `1`, it means that our model will be accepting `3` words in every pass. We cannot have our model expect `2` words from time to time.\n",
        "\n",
        "The solution is to introduce a special token, such as `<pad>`, that will be added to our sentences to make sure that every word has a valid window around them. Similar to `<unk>` token, we could pick another string for our pad token if we wanted, as long as we make sure it is used for a unique purpose."
      ]
    },
    {
      "cell_type": "code",
      "metadata": {
        "id": "ZVQsjYi6ZegI",
        "colab": {
          "base_uri": "https://localhost:8080/"
        },
        "outputId": "b9c80d55-52b8-45de-ddd0-b61581903b1e"
      },
      "source": [
        "# Add the <pad> token to our vocabulary\n",
        "vocabulary.add(\"<pad>\")\n",
        "\n",
        "# Function that pads the given sentence\n",
        "# We are introducing this function here as an example\n",
        "# We will be utilizing it later in the tutorial\n",
        "def pad_window(sentence, window_size, pad_token=\"<pad>\"):\n",
        "  window = [pad_token] * window_size\n",
        "  return window + sentence + window\n",
        "\n",
        "# Show padding example\n",
        "window_size = 2\n",
        "pad_window(train_sentences[0], window_size=window_size)"
      ],
      "execution_count": 63,
      "outputs": [
        {
          "output_type": "execute_result",
          "data": {
            "text/plain": [
              "['<pad>', '<pad>', 'we', 'always', 'come', 'to', 'paris', '<pad>', '<pad>']"
            ]
          },
          "metadata": {},
          "execution_count": 63
        }
      ]
    },
    {
      "cell_type": "code",
      "source": [
        "print(vocabulary)\n",
        "print(len(vocabulary))\n",
        "print(sorted(list(vocabulary)))"
      ],
      "metadata": {
        "colab": {
          "base_uri": "https://localhost:8080/"
        },
        "id": "jD1w772YXGAf",
        "outputId": "53500035-8ea6-4285-e4cc-b10f76575f8f"
      },
      "execution_count": 64,
      "outputs": [
        {
          "output_type": "stream",
          "name": "stdout",
          "text": [
            "{'professor', '<pad>', 'the', 'we', 'i', 'australia', 'of', 'he', 'turkey', 'always', 'live', 'taiwan', 'capital', 'paris', 'ankara', 'in', 'come', '<unk>', 'comes', 'to', 'stanford', 'or', 'is', 'from'}\n",
            "24\n",
            "['<pad>', '<unk>', 'always', 'ankara', 'australia', 'capital', 'come', 'comes', 'from', 'he', 'i', 'in', 'is', 'live', 'of', 'or', 'paris', 'professor', 'stanford', 'taiwan', 'the', 'to', 'turkey', 'we']\n"
          ]
        }
      ]
    },
    {
      "cell_type": "markdown",
      "metadata": {
        "id": "cqvgWKwSNpAd"
      },
      "source": [
        "Now that our vocabularly is ready, let's assign an index to each of our words."
      ]
    },
    {
      "cell_type": "code",
      "metadata": {
        "id": "BNCTQnKDa4oh",
        "colab": {
          "base_uri": "https://localhost:8080/"
        },
        "outputId": "199d80e3-0f75-41bc-ba74-aba45ddc1def"
      },
      "source": [
        "# We are just converting our vocabularly to a list to be able to index into it\n",
        "# Sorting is not necessary, we sort to show an ordered word_to_ind dictionary\n",
        "# That being said, we will see that having the index for the padding token\n",
        "# be 0 is convenient as some PyTorch functions use it as a default value\n",
        "# such as nn.utils.rnn.pad_sequence, which we will cover in a bit\n",
        "ix_to_word = sorted(list(vocabulary))\n",
        "\n",
        "# Creating a dictionary to find the index of a given word\n",
        "word_to_ix = {word: ind for ind, word in enumerate(ix_to_word)}\n",
        "print(type(word_to_ix))\n",
        "print(word_to_ix.keys())\n",
        "print(word_to_ix)"
      ],
      "execution_count": 65,
      "outputs": [
        {
          "output_type": "stream",
          "name": "stdout",
          "text": [
            "<class 'dict'>\n",
            "dict_keys(['<pad>', '<unk>', 'always', 'ankara', 'australia', 'capital', 'come', 'comes', 'from', 'he', 'i', 'in', 'is', 'live', 'of', 'or', 'paris', 'professor', 'stanford', 'taiwan', 'the', 'to', 'turkey', 'we'])\n",
            "{'<pad>': 0, '<unk>': 1, 'always': 2, 'ankara': 3, 'australia': 4, 'capital': 5, 'come': 6, 'comes': 7, 'from': 8, 'he': 9, 'i': 10, 'in': 11, 'is': 12, 'live': 13, 'of': 14, 'or': 15, 'paris': 16, 'professor': 17, 'stanford': 18, 'taiwan': 19, 'the': 20, 'to': 21, 'turkey': 22, 'we': 23}\n"
          ]
        }
      ]
    },
    {
      "cell_type": "code",
      "metadata": {
        "id": "pt-0SK67hMVo",
        "colab": {
          "base_uri": "https://localhost:8080/",
          "height": 35
        },
        "outputId": "046da351-8925-4ba7-a588-e7b2a4bdf009"
      },
      "source": [
        "ix_to_word[1]"
      ],
      "execution_count": 66,
      "outputs": [
        {
          "output_type": "execute_result",
          "data": {
            "text/plain": [
              "'<unk>'"
            ],
            "application/vnd.google.colaboratory.intrinsic+json": {
              "type": "string"
            }
          },
          "metadata": {},
          "execution_count": 66
        }
      ]
    },
    {
      "cell_type": "markdown",
      "metadata": {
        "id": "ELZuteqbdWd1"
      },
      "source": [
        "Great! We are ready to convert our training sentences into a sequence of indices corresponding to each token."
      ]
    },
    {
      "cell_type": "code",
      "metadata": {
        "id": "ZNOxip15bMfH",
        "colab": {
          "base_uri": "https://localhost:8080/"
        },
        "outputId": "0af9184c-14fd-4962-a907-6d79a95392f8"
      },
      "source": [
        "# Given a sentence of tokens, return the corresponding indices\n",
        "def convert_token_to_indices(sentence, word_to_ix):\n",
        "  indices = []\n",
        "  for token in sentence:\n",
        "    # Check if the token is in our vocabularly. If it is, get it's index.\n",
        "    # If not, get the index for the unknown token.\n",
        "    if token in word_to_ix:\n",
        "      index = word_to_ix[token]\n",
        "    else:\n",
        "      index = word_to_ix[\"<unk>\"]\n",
        "    indices.append(index)\n",
        "  return indices\n",
        "\n",
        "# More compact version of the same function\n",
        "def _convert_token_to_indices(sentence, word_to_ix):\n",
        "  return [word_to_ind.get(token, word_to_ix[\"<unk>\"]) for token in sentence]\n",
        "\n",
        "# Show an example\n",
        "example_sentence = [\"we\", \"always\", \"come\", \"to\", \"kuwait\"]\n",
        "example_indices = convert_token_to_indices(example_sentence, word_to_ix)\n",
        "restored_example = [ix_to_word[ind] for ind in example_indices]\n",
        "\n",
        "print(f\"Original sentence is: {example_sentence}\")\n",
        "print(f\"Going from words to indices: {example_indices}\")\n",
        "print(f\"Going from indices to words: {restored_example}\")"
      ],
      "execution_count": 67,
      "outputs": [
        {
          "output_type": "stream",
          "name": "stdout",
          "text": [
            "Original sentence is: ['we', 'always', 'come', 'to', 'kuwait']\n",
            "Going from words to indices: [23, 2, 6, 21, 1]\n",
            "Going from indices to words: ['we', 'always', 'come', 'to', '<unk>']\n"
          ]
        }
      ]
    },
    {
      "cell_type": "markdown",
      "metadata": {
        "id": "_jsXw8cB1xpH"
      },
      "source": [
        "In the example above, `kuwait` shows up as `<unk>`, because it is not included in our vocabulary. Let's convert our `train_sentences` to `example_padded_indices`."
      ]
    },
    {
      "cell_type": "code",
      "metadata": {
        "id": "JRaKQwSJH-1d",
        "colab": {
          "base_uri": "https://localhost:8080/"
        },
        "outputId": "c98c0ec7-86cb-40df-e5f5-6e43ecfe7b6d"
      },
      "source": [
        "# Converting our sentences to indices\n",
        "example_padded_indices = [convert_token_to_indices(s, word_to_ix) for s in train_sentences]\n",
        "example_padded_indices"
      ],
      "execution_count": 68,
      "outputs": [
        {
          "output_type": "execute_result",
          "data": {
            "text/plain": [
              "[[23, 2, 6, 21, 16],\n",
              " [20, 17, 12, 8, 4],\n",
              " [10, 13, 11, 18],\n",
              " [9, 7, 8, 19],\n",
              " [20, 5, 14, 22, 12, 3, 15, 16]]"
            ]
          },
          "metadata": {},
          "execution_count": 68
        }
      ]
    },
    {
      "cell_type": "markdown",
      "metadata": {
        "id": "JZULjHBjHsEK"
      },
      "source": [
        "Now that we have an index for each word in our vocabularly, we can create an embedding table with `nn.Embedding` class in `PyTorch`. It is called as follows `nn.Embedding(num_words, embedding_dimension)` where `num_words` is the number of words in our vocabulary and the `embedding_dimension` is the dimension of the embeddings we want to have. There is nothing fancy about `nn.Embedding`: it is just a wrapper class around a trainabe `NxE` dimensional tensor, where `N` is the number of words in our vocabulary and `E` is the number of embedding dimensions. This table is initially random, but it will change over time. As we train our network, the gradients will be backpropagated all the way to the embedding layer, and hence our word embeddings would be updated. We will initiliaze the embedding layer we will use for our model in our model, but we are showing an example here."
      ]
    },
    {
      "cell_type": "code",
      "metadata": {
        "id": "F4AgHzv91VXx",
        "colab": {
          "base_uri": "https://localhost:8080/"
        },
        "outputId": "008be461-0fba-4549-c329-e13347e8e4db"
      },
      "source": [
        "# Creating an embedding table for our words\n",
        "embedding_dim = 15\n",
        "print(len(vocabulary))\n",
        "embeds = nn.Embedding(len(vocabulary), embedding_dim) # generates random embeddings\n",
        "print(type(embeds))\n",
        "# Printing the parameters in our embedding table\n",
        "list(embeds.parameters())"
      ],
      "execution_count": 69,
      "outputs": [
        {
          "output_type": "stream",
          "name": "stdout",
          "text": [
            "24\n",
            "<class 'torch.nn.modules.sparse.Embedding'>\n"
          ]
        },
        {
          "output_type": "execute_result",
          "data": {
            "text/plain": [
              "[Parameter containing:\n",
              " tensor([[ 5.7372e-01, -5.0863e-01,  3.4534e-01,  6.8050e-01, -1.1990e-01,\n",
              "           1.6342e+00, -4.1725e-01, -2.6821e-01,  1.4481e+00, -3.1309e-01,\n",
              "          -4.9567e-01,  2.8691e+00,  1.8591e-01,  2.0779e-01,  5.7883e-01],\n",
              "         [ 1.1690e-02,  6.2730e-01,  4.7455e-01,  6.7412e-02,  1.1043e+00,\n",
              "          -2.7165e-02,  1.5854e+00, -4.2947e-01,  1.2259e+00, -6.8299e-01,\n",
              "          -1.0573e-01, -2.6455e+00,  3.7899e-01,  8.9298e-01,  9.5284e-01],\n",
              "         [ 4.7370e-01, -2.3908e-01, -3.6097e-01, -2.6078e+00,  4.1395e-01,\n",
              "          -3.9389e-01,  1.7119e-02,  2.3319e+00, -1.9589e-01,  4.5049e-01,\n",
              "           1.1731e-01,  1.8291e+00,  3.0539e-01, -6.7235e-01,  9.5326e-01],\n",
              "         [-1.4196e+00, -3.3002e-01, -1.5817e+00,  9.1027e-01, -5.6515e-01,\n",
              "           4.9819e-01, -4.5242e-01,  1.0966e+00, -7.3492e-01, -1.1821e+00,\n",
              "           1.2972e+00,  1.5166e-01, -1.2116e+00,  1.4621e+00, -6.6075e-01],\n",
              "         [-1.0623e+00,  1.1744e+00,  6.2060e-01, -9.5762e-01,  2.7912e+00,\n",
              "           2.4931e-01, -3.3903e-01, -1.7303e-01,  2.2943e-01,  1.0565e-02,\n",
              "          -7.5903e-04,  4.3463e-01,  3.0419e-01, -1.3458e+00,  3.6868e-01],\n",
              "         [-6.3761e-01,  6.3380e-02, -5.6769e-02, -1.6971e+00, -4.9663e-01,\n",
              "           3.0967e-01, -1.8329e-01,  6.5747e-01,  3.4200e-02, -4.3093e-01,\n",
              "           2.7624e-01,  1.7846e-01,  3.5386e-01, -7.0820e-01,  1.1084e-01],\n",
              "         [ 7.6304e-01, -4.1574e-02, -8.2326e-01,  2.9983e+00,  6.6509e-01,\n",
              "          -5.9829e-01, -2.5673e-01,  3.5847e-01, -9.1120e-01, -4.0872e-01,\n",
              "          -2.1709e+00, -2.1323e+00, -8.9560e-01,  4.7324e-01, -4.9361e-01],\n",
              "         [ 7.0169e-01,  7.4219e-01,  6.0410e-01, -7.0260e-01,  2.2298e+00,\n",
              "          -1.5357e+00,  2.5443e-01, -2.3746e-01, -2.8220e-01, -2.0558e+00,\n",
              "          -9.9461e-01,  9.9988e-01, -1.7957e-01, -2.5863e-01,  7.5479e-01],\n",
              "         [ 9.8473e-02, -1.8358e+00, -1.1526e+00,  5.2297e-01, -2.6067e-01,\n",
              "          -1.8265e-01,  2.0103e+00,  8.2417e-01,  9.9122e-01, -2.0076e+00,\n",
              "          -1.3041e-01,  1.7056e+00,  9.7478e-02,  8.5097e-01, -1.9406e-01],\n",
              "         [ 3.9162e-01,  1.2810e+00, -8.2323e-01,  8.8558e-01, -1.4832e+00,\n",
              "           2.7011e-01, -2.1391e-03, -3.7016e-01, -1.5795e+00,  8.5077e-01,\n",
              "          -1.3484e+00,  1.3970e+00,  3.6246e-01,  1.0877e+00, -9.6580e-01],\n",
              "         [-3.6185e-01, -2.2408e+00,  8.0481e-01, -1.0987e+00, -2.2936e-01,\n",
              "          -1.0442e+00,  6.4990e-01, -3.3547e-01, -1.2929e+00, -9.4985e-02,\n",
              "           1.9065e+00,  6.5965e-01,  1.1443e+00, -1.5307e+00, -2.3049e-01],\n",
              "         [ 4.9047e-01, -7.6083e-01,  1.1935e-01,  3.3859e-01,  6.1414e-01,\n",
              "          -1.3491e-01,  1.5586e+00, -5.1968e-02,  1.8834e+00,  4.8512e-01,\n",
              "           8.6421e-01,  7.0465e-01, -2.4945e-01,  1.3470e+00, -1.3358e-01],\n",
              "         [-3.9262e-01, -1.6714e-01,  1.6761e-01,  5.8843e-01, -4.2444e-01,\n",
              "          -7.5477e-02,  1.0103e+00,  1.2568e+00,  2.1856e-01,  3.1293e-01,\n",
              "          -6.4862e-01, -1.7613e+00, -2.9540e-01, -1.8472e+00,  2.5915e+00],\n",
              "         [ 1.1702e+00, -9.8752e-01,  1.5854e+00,  1.0569e+00, -2.7347e-01,\n",
              "          -9.9085e-01,  1.4440e+00,  2.3709e+00,  4.2113e-01,  4.8041e-01,\n",
              "           2.9375e-01, -1.3725e+00, -1.2346e+00, -2.0066e-01, -5.7001e-01],\n",
              "         [-1.2343e+00, -7.3948e-01, -8.1205e-01,  3.1393e-02,  2.8417e-01,\n",
              "          -1.8327e+00, -9.3409e-01, -8.3653e-01,  4.5339e-01, -1.3540e+00,\n",
              "           2.1889e-01,  1.0872e+00, -3.1123e-01,  1.3854e+00,  1.1078e+00],\n",
              "         [-1.4615e+00, -7.4489e-01, -1.3235e+00,  2.0185e+00,  5.4147e-01,\n",
              "           1.7145e-01, -6.1973e-01,  5.9015e-01, -8.0855e-01, -2.3144e-01,\n",
              "           1.5452e+00, -5.2718e-01,  5.9477e-02,  5.7091e-01,  6.4705e-01],\n",
              "         [-1.3061e+00,  2.9144e-01,  1.8259e-01,  1.0339e+00,  1.2004e-01,\n",
              "           8.4277e-01, -2.1251e+00, -1.6152e+00,  1.3778e-02, -6.9809e-01,\n",
              "          -1.6082e-01,  6.0943e-02,  9.7074e-01, -3.5096e-01,  4.1994e-01],\n",
              "         [ 6.4507e-01, -3.1409e-01,  1.5720e-01, -1.0098e-01, -8.3888e-01,\n",
              "          -3.1733e-01,  2.9838e-02, -1.9180e-01, -3.6963e-01,  1.4200e-01,\n",
              "           1.0068e-01,  4.1893e-01,  5.7331e-01, -6.2996e-01,  1.1394e-01],\n",
              "         [-6.7652e-01, -1.4316e+00,  4.8125e-01, -2.9027e-01,  8.1433e-01,\n",
              "          -6.0062e-01, -4.7716e-01,  1.0100e+00, -1.5371e-01,  6.0727e-01,\n",
              "           3.4615e-02,  1.0524e+00,  5.1442e-01,  7.0873e-01,  8.0885e-01],\n",
              "         [ 3.5521e-01, -6.7884e-02,  4.2690e-01,  1.7859e-01, -3.3665e-01,\n",
              "           1.4819e+00,  4.2594e-01, -1.6611e+00, -4.8695e-01,  1.2017e+00,\n",
              "           1.7070e+00, -8.4144e-01,  5.0972e-01, -9.2509e-01,  2.1863e+00],\n",
              "         [-1.7160e+00, -1.2427e-01,  1.2752e+00, -7.8848e-01, -7.9596e-01,\n",
              "           6.3538e-01, -1.7572e-01,  1.6362e+00,  7.3826e-01, -1.2643e+00,\n",
              "          -2.5579e+00,  4.6981e-01,  7.0549e-01, -1.3576e-01, -2.1010e-01],\n",
              "         [ 8.6929e-02,  7.0709e-01, -7.7301e-01,  6.0830e-01,  2.0499e+00,\n",
              "          -1.2556e-01, -7.9340e-02, -1.8082e-01, -6.3324e-01,  8.1291e-02,\n",
              "           6.8410e-01,  1.8022e+00,  2.1286e-01, -2.4334e+00,  4.0444e-01],\n",
              "         [ 1.5767e-01,  2.3361e-01, -1.1519e+00,  6.1377e-01, -1.1339e+00,\n",
              "          -7.2179e-02,  2.5567e-01, -4.8111e-01, -2.1251e-01,  6.7039e-01,\n",
              "           7.1485e-02,  1.6011e+00,  2.6225e-01,  1.6575e+00, -1.8464e+00],\n",
              "         [ 9.6655e-01, -1.4290e+00, -4.9467e-01, -3.6405e-01,  4.7897e-01,\n",
              "          -6.0430e-01,  2.8547e+00,  9.7507e-01,  6.2629e-01, -5.1426e-01,\n",
              "           4.7372e-01, -7.0494e-01, -4.8297e-01, -2.2606e-01, -9.2706e-01]],\n",
              "        requires_grad=True)]"
            ]
          },
          "metadata": {},
          "execution_count": 69
        }
      ]
    },
    {
      "cell_type": "markdown",
      "metadata": {
        "id": "wI7ZTt4OkpPp"
      },
      "source": [
        "To get the word embedding for a word in our vocabulary, all we need to do is to create a lookup tensor. The lookup tensor is just a tensor containing the index we want to look up `nn.Embedding` class expects an index tensor that is of type Long Tensor, so we should create our tensor accordingly."
      ]
    },
    {
      "cell_type": "code",
      "metadata": {
        "id": "nkldmcepjfh_",
        "colab": {
          "base_uri": "https://localhost:8080/"
        },
        "outputId": "5a19cf5f-e458-4219-e847-26eec19f9c86"
      },
      "source": [
        "# Get the embedding for the word Paris\n",
        "index = word_to_ix[\"paris\"]\n",
        "index_tensor = torch.tensor(index, dtype=torch.long)\n",
        "paris_embed = embeds(index_tensor)\n",
        "paris_embed"
      ],
      "execution_count": 70,
      "outputs": [
        {
          "output_type": "execute_result",
          "data": {
            "text/plain": [
              "tensor([-1.3061,  0.2914,  0.1826,  1.0339,  0.1200,  0.8428, -2.1251, -1.6152,\n",
              "         0.0138, -0.6981, -0.1608,  0.0609,  0.9707, -0.3510,  0.4199],\n",
              "       grad_fn=<EmbeddingBackward0>)"
            ]
          },
          "metadata": {},
          "execution_count": 70
        }
      ]
    },
    {
      "cell_type": "code",
      "metadata": {
        "id": "mUsdwBOxm6B4",
        "colab": {
          "base_uri": "https://localhost:8080/"
        },
        "outputId": "a1ac0e74-a6a7-4339-fede-bdb0b0ed09ec"
      },
      "source": [
        "# We can also get multiple embeddings at once\n",
        "index_paris = word_to_ix[\"paris\"]\n",
        "index_ankara = word_to_ix[\"ankara\"]\n",
        "indices = [index_paris, index_ankara]\n",
        "print(indices)\n",
        "indices_tensor = torch.tensor(indices, dtype=torch.long)\n",
        "print(indices_tensor, \";\", type(indices_tensor))\n",
        "embeddings = embeds(indices_tensor)\n",
        "embeddings"
      ],
      "execution_count": 71,
      "outputs": [
        {
          "output_type": "stream",
          "name": "stdout",
          "text": [
            "[16, 3]\n",
            "tensor([16,  3]) ; <class 'torch.Tensor'>\n"
          ]
        },
        {
          "output_type": "execute_result",
          "data": {
            "text/plain": [
              "tensor([[-1.3061,  0.2914,  0.1826,  1.0339,  0.1200,  0.8428, -2.1251, -1.6152,\n",
              "          0.0138, -0.6981, -0.1608,  0.0609,  0.9707, -0.3510,  0.4199],\n",
              "        [-1.4196, -0.3300, -1.5817,  0.9103, -0.5651,  0.4982, -0.4524,  1.0966,\n",
              "         -0.7349, -1.1821,  1.2972,  0.1517, -1.2116,  1.4621, -0.6607]],\n",
              "       grad_fn=<EmbeddingBackward0>)"
            ]
          },
          "metadata": {},
          "execution_count": 71
        }
      ]
    },
    {
      "cell_type": "markdown",
      "metadata": {
        "id": "2bgSW3LPltkF"
      },
      "source": [
        "Usually, we define the embedding layer as part of our model, which you will see in the later sections of our notebook."
      ]
    },
    {
      "cell_type": "markdown",
      "metadata": {
        "id": "DHCXeQOamHU1"
      },
      "source": [
        "#### Batching Sentences\n",
        "\n",
        "We have learned about batches in class. Waiting our whole training corpus to be processed before making an update is constly. On the other hand, updating the parameters after every training example causes the loss to be less stable between updates. To combat these issues, we instead update our parameters after training on a batch of data. This allows us to get a better estimate of the gradient of the global loss. In this section, we will learn how to structure our data into batches using the `torch.util.data.DataLoader` class.\n",
        "\n",
        "We will be calling the `DataLoader` class as follows: `DataLoader(data, batch_size=batch_size, shuffle=True, collate_fn=collate_fn)`.  The `batch_size` parameter determines the number of examples per batch. In every epoch, we will be iterating over all the batches using the `DataLoader`. The order of batches is deterministic by default, but we can ask `DataLoader` to shuffle the batches by setting the `shuffle` parameter to `True`. This way we ensure that we don't encounter a bad batch multiple times.\n",
        "\n",
        "If provided, `DataLoader` passes the batches it prepares to the `collate_fn`. We can write a custom function to pass to the `collate_fn` parameter in order to print stats about our batch or perform extra processing. In our case, we will use the `collate_fn` to:\n",
        "1. Window pad our train sentences.\n",
        "2. Convert the words in the training examples to indices.\n",
        "3. Pad the training examples so that all the sentences and labels have the same length. Similarly, we also need to pad the labels. This creates an issue because when calculating the loss, we need to know the actual number of words in a given example. We will also keep track of this number in the function we pass to the `collate_fn` parameter.\n",
        "\n",
        "Because our version of the `collate_fn` function will need to access to our `word_to_ix` dictionary (so that it can turn words into indices), we will make use of the `partial` function in `Python`, which passes the parameters we give to the function we pass it."
      ]
    },
    {
      "cell_type": "code",
      "metadata": {
        "id": "OkvvVlo4jgFm"
      },
      "source": [
        "from torch.utils.data import DataLoader\n",
        "from functools import partial # Je kono function er structure niye onyo kaje babohar kore (fol mix er kaj thakle sobji mix kora jai)\n",
        "\n",
        "def custom_collate_fn(batch, window_size, word_to_ix):\n",
        "  # Break our batch into the training examples (x) and labels (y)\n",
        "  # We are turning our x and y into tensors because nn.utils.rnn.pad_sequence\n",
        "  # method expects tensors. This is also useful since our model will be\n",
        "  # expecting tensor inputs.\n",
        "  x, y = zip(*batch)\n",
        "\n",
        "  # Now we need to window pad our training examples. We have already defined a\n",
        "  # function to handle window padding. We are including it here again so that\n",
        "  # everything is in one place.\n",
        "  def pad_window(sentence, window_size, pad_token=\"<pad>\"):\n",
        "    window = [pad_token] * window_size\n",
        "    return window + sentence + window\n",
        "\n",
        "  # Pad the train examples.\n",
        "  x = [pad_window(s, window_size=window_size) for s in x]\n",
        "\n",
        "  # Now we need to turn words in our training examples to indices. We are\n",
        "  # copying the function defined earlier for the same reason as above.\n",
        "  def convert_tokens_to_indices(sentence, word_to_ix):\n",
        "    return [word_to_ix.get(token, word_to_ix[\"<unk>\"]) for token in sentence]\n",
        "\n",
        "  # Convert the train examples into indices.\n",
        "  x = [convert_tokens_to_indices(s, word_to_ix) for s in x]\n",
        "\n",
        "  # We will now pad the examples so that the lengths of all the example in\n",
        "  # one batch are the same, making it possible to do matrix operations.\n",
        "  # We set the batch_first parameter to True so that the returned matrix has\n",
        "  # the batch as the first dimension.\n",
        "  pad_token_ix = word_to_ix[\"<pad>\"]\n",
        "\n",
        "  # pad_sequence function expects the input to be a tensor, so we turn x into one\n",
        "  x = [torch.LongTensor(x_i) for x_i in x]\n",
        "  x_padded = nn.utils.rnn.pad_sequence(x, batch_first=True, padding_value=pad_token_ix)\n",
        "\n",
        "  # We will also pad the labels. Before doing so, we will record the number\n",
        "  # of labels so that we know how many words existed in each example.\n",
        "  lengths = [len(label) for label in y]\n",
        "  lenghts = torch.LongTensor(lengths)\n",
        "\n",
        "  y = [torch.LongTensor(y_i) for y_i in y]\n",
        "  y_padded = nn.utils.rnn.pad_sequence(y, batch_first=True, padding_value=0)\n",
        "\n",
        "  # We are now ready to return our variables. The order we return our variables\n",
        "  # here will match the order we read them in our training loop.\n",
        "  return x_padded, y_padded, lenghts"
      ],
      "execution_count": 83,
      "outputs": []
    },
    {
      "cell_type": "markdown",
      "metadata": {
        "id": "1Q0gXea-bCsz"
      },
      "source": [
        "This function seems long, but it really doesn't have to be. Check out the alternative version below where we remove the extra function declarations and comments."
      ]
    },
    {
      "cell_type": "code",
      "metadata": {
        "id": "dZfcmAJXbLcq"
      },
      "source": [
        "def _custom_collate_fn(batch, window_size, word_to_ix):\n",
        "  # Prepare the datapoints\n",
        "  x, y = zip(*batch)\n",
        "  x = [pad_window(s, window_size=window_size) for s in x]\n",
        "  x = [convert_tokens_to_indices(s, word_to_ix) for s in x]\n",
        "\n",
        "  # Pad x so that all the examples in the batch have the same size\n",
        "  pad_token_ix = word_to_ix[\"<pad>\"]\n",
        "  x = [torch.LongTensor(x_i) for x_i in x]\n",
        "  x_padded = nn.utils.rnn.pad_sequence(x, batch_first=True, padding_value=pad_token_ix)\n",
        "\n",
        "  # Pad y and record the length\n",
        "  lengths = [len(label) for label in y]\n",
        "  lenghts = torch.LongTensor(lengths)\n",
        "  y = [torch.LongTensor(y_i) for y_i in y]\n",
        "  y_padded = nn.utils.rnn.pad_sequence(y, batch_first=True, padding_value=0)\n",
        "\n",
        "  return x_padded, y_padded, lenghts"
      ],
      "execution_count": 73,
      "outputs": []
    },
    {
      "cell_type": "markdown",
      "metadata": {
        "id": "dS1WuQO0Khxx"
      },
      "source": [
        "Now, we can see the `DataLoader` in action."
      ]
    },
    {
      "cell_type": "code",
      "metadata": {
        "id": "RfB0JKL2vZ6p",
        "colab": {
          "base_uri": "https://localhost:8080/"
        },
        "outputId": "c3a2e7e5-9bb1-4348-d385-5aacd3f7327d"
      },
      "source": [
        "# Parameters to be passed to the DataLoader\n",
        "data = list(zip(train_sentences, train_labels))\n",
        "batch_size = 2\n",
        "shuffle = True\n",
        "window_size = 2\n",
        "collate_fn = partial(custom_collate_fn, window_size=window_size, word_to_ix=word_to_ix)\n",
        "\n",
        "# Instantiate the DataLoader\n",
        "loader = DataLoader(data, batch_size=batch_size, shuffle=shuffle, collate_fn=collate_fn)\n",
        "\n",
        "# Go through one loop\n",
        "counter = 0\n",
        "for batched_x, batched_y, batched_lengths in loader:\n",
        "  print(f\"Iteration {counter}\")\n",
        "  print(\"Batched Input:\")\n",
        "  print(batched_x)\n",
        "  print(\"Batched Labels:\")\n",
        "  print(batched_y)\n",
        "  print(\"Batched Lengths:\")\n",
        "  print(batched_lengths)\n",
        "  print(\"\")\n",
        "  counter += 1"
      ],
      "execution_count": 74,
      "outputs": [
        {
          "output_type": "stream",
          "name": "stdout",
          "text": [
            "Iteration 0\n",
            "Batched Input:\n",
            "tensor([[ 0,  0, 10, 13, 11, 18,  0,  0,  0],\n",
            "        [ 0,  0, 23,  2,  6, 21, 16,  0,  0]])\n",
            "Batched Labels:\n",
            "tensor([[0, 0, 0, 1, 0],\n",
            "        [0, 0, 0, 0, 1]])\n",
            "Batched Lengths:\n",
            "tensor([4, 5])\n",
            "\n",
            "Iteration 1\n",
            "Batched Input:\n",
            "tensor([[ 0,  0, 20, 17, 12,  8,  4,  0,  0],\n",
            "        [ 0,  0,  9,  7,  8, 19,  0,  0,  0]])\n",
            "Batched Labels:\n",
            "tensor([[0, 0, 0, 0, 1],\n",
            "        [0, 0, 0, 1, 0]])\n",
            "Batched Lengths:\n",
            "tensor([5, 4])\n",
            "\n",
            "Iteration 2\n",
            "Batched Input:\n",
            "tensor([[ 0,  0, 20,  5, 14, 22, 12,  3, 15, 16,  0,  0]])\n",
            "Batched Labels:\n",
            "tensor([[0, 0, 0, 1, 0, 1, 0, 1]])\n",
            "Batched Lengths:\n",
            "tensor([8])\n",
            "\n"
          ]
        }
      ]
    },
    {
      "cell_type": "markdown",
      "metadata": {
        "id": "93QOZSsMTFNF"
      },
      "source": [
        "The batched input tensors you see above will be passed into our model. On the other hand, we started off saying that our model will be a window classifier. The way our input tensors are currently formatted, we have all the words in a sentence in one datapoint. When we pass this input to our model, it needs to create the windows for each word, make a prediction as to whether the center word is a `LOCATION` or not for each window, put the predictions together and return.\n",
        "\n",
        "We could avoid this problem if we formatted our data by breaking it into windows beforehand. In this example, we will instead how our model take care of the formatting.\n",
        "\n",
        "Given that our `window_size` is `N` we want our model to make a prediction on every `2N+1` tokens. That is, if we have an input with `9` tokens, and a `window_size` of `2`, we want our model to return `5` predictions. This makes sense because before we padded it with `2` tokens on each side, our input also had `5` tokens in it!\n",
        "\n",
        "We can create these windows by using for loops, but there is a faster `PyTorch` alternative, which is the `unfold(dimension, size, step)` method. We can create the windows we need using this method as follows:"
      ]
    },
    {
      "cell_type": "code",
      "metadata": {
        "id": "RMZu-pxLVxHQ",
        "colab": {
          "base_uri": "https://localhost:8080/"
        },
        "outputId": "3c029a10-a7c6-4b54-e690-cae05546d6b6"
      },
      "source": [
        "# Print the original tensor\n",
        "print(f\"Original Tensor: \")\n",
        "print(batched_x)\n",
        "print(\"\")\n",
        "\n",
        "# Create the 2 * 2 + 1 chunks\n",
        "chunk = batched_x.unfold(1, window_size*2 + 1, 1)\n",
        "print(f\"Windows: \")\n",
        "print(chunk)"
      ],
      "execution_count": 75,
      "outputs": [
        {
          "output_type": "stream",
          "name": "stdout",
          "text": [
            "Original Tensor: \n",
            "tensor([[ 0,  0, 20,  5, 14, 22, 12,  3, 15, 16,  0,  0]])\n",
            "\n",
            "Windows: \n",
            "tensor([[[ 0,  0, 20,  5, 14],\n",
            "         [ 0, 20,  5, 14, 22],\n",
            "         [20,  5, 14, 22, 12],\n",
            "         [ 5, 14, 22, 12,  3],\n",
            "         [14, 22, 12,  3, 15],\n",
            "         [22, 12,  3, 15, 16],\n",
            "         [12,  3, 15, 16,  0],\n",
            "         [ 3, 15, 16,  0,  0]]])\n"
          ]
        }
      ]
    },
    {
      "cell_type": "markdown",
      "metadata": {
        "id": "XlDbOpeoSKxd"
      },
      "source": [
        "### Model\n",
        "\n",
        "Now that we have prepared our data, we are ready to build our model. We have learned how to write custom `nn.Module` classes. We will do the same here and put everything we have learned so far together."
      ]
    },
    {
      "cell_type": "code",
      "metadata": {
        "id": "JLTU4h76NLYm"
      },
      "source": [
        "class WordWindowClassifier(nn.Module):\n",
        "\n",
        "  def __init__(self, hyperparameters, vocab_size, pad_ix=0):\n",
        "    super(WordWindowClassifier, self).__init__()\n",
        "\n",
        "    \"\"\" Instance variables \"\"\"\n",
        "    self.window_size = hyperparameters[\"window_size\"]\n",
        "    self.embed_dim = hyperparameters[\"embed_dim\"]\n",
        "    self.hidden_dim = hyperparameters[\"hidden_dim\"]\n",
        "    self.freeze_embeddings = hyperparameters[\"freeze_embeddings\"]\n",
        "\n",
        "    \"\"\" Embedding Layer\n",
        "    Takes in a tensor containing embedding indices, and returns the\n",
        "    corresponding embeddings. The output is of dim\n",
        "    (number_of_indices * embedding_dim).\n",
        "\n",
        "    If freeze_embeddings is True, set the embedding layer parameters to be\n",
        "    non-trainable. This is useful if we only want the parameters other than the\n",
        "    embeddings parameters to change.\n",
        "\n",
        "    \"\"\"\n",
        "    self.embeds = nn.Embedding(vocab_size, self.embed_dim, padding_idx=pad_ix)\n",
        "    if self.freeze_embeddings:\n",
        "      self.embed_layer.weight.requires_grad = False\n",
        "\n",
        "    \"\"\" Hidden Layer\n",
        "    \"\"\"\n",
        "    full_window_size = 2 * window_size + 1\n",
        "    self.hidden_layer = nn.Sequential(\n",
        "      nn.Linear(full_window_size * self.embed_dim, self.hidden_dim),\n",
        "      nn.Tanh()\n",
        "    )\n",
        "\n",
        "    \"\"\" Output Layer\n",
        "    \"\"\"\n",
        "    self.output_layer = nn.Linear(self.hidden_dim, 1)\n",
        "\n",
        "    \"\"\" Probabilities\n",
        "    \"\"\"\n",
        "    self.probabilities = nn.Sigmoid()\n",
        "\n",
        "  def forward(self, inputs):\n",
        "    \"\"\"\n",
        "    Let B:= batch_size\n",
        "        L:= window-padded sentence length\n",
        "        D:= self.embed_dim\n",
        "        S:= self.window_size\n",
        "        H:= self.hidden_dim\n",
        "\n",
        "    inputs: a (B, L) tensor of token indices\n",
        "    \"\"\"\n",
        "    B, L = inputs.size()\n",
        "\n",
        "    \"\"\"\n",
        "    Reshaping.\n",
        "    Takes in a (B, L) LongTensor\n",
        "    Outputs a (B, L~, S) LongTensor\n",
        "    \"\"\"\n",
        "    # Fist, get our word windows for each word in our input.\n",
        "    token_windows = inputs.unfold(1, 2 * self.window_size + 1, 1)\n",
        "    _, adjusted_length, _ = token_windows.size()\n",
        "\n",
        "    # Good idea to do internal tensor-size sanity checks, at the least in comments!\n",
        "    assert token_windows.size() == (B, adjusted_length, 2 * self.window_size + 1)\n",
        "\n",
        "    \"\"\"\n",
        "    Embedding.\n",
        "    Takes in a torch.LongTensor of size (B, L~, S)\n",
        "    Outputs a (B, L~, S, D) FloatTensor.\n",
        "    \"\"\"\n",
        "    embedded_windows = self.embeds(token_windows)\n",
        "\n",
        "    \"\"\"\n",
        "    Reshaping.\n",
        "    Takes in a (B, L~, S, D) FloatTensor.\n",
        "    Resizes it into a (B, L~, S*D) FloatTensor.\n",
        "    -1 argument \"infers\" what the last dimension should be based on leftover axes.\n",
        "    \"\"\"\n",
        "    embedded_windows = embedded_windows.view(B, adjusted_length, -1)\n",
        "\n",
        "    \"\"\"\n",
        "    Layer 1.\n",
        "    Takes in a (B, L~, S*D) FloatTensor.\n",
        "    Resizes it into a (B, L~, H) FloatTensor\n",
        "    \"\"\"\n",
        "    layer_1 = self.hidden_layer(embedded_windows)\n",
        "\n",
        "    \"\"\"\n",
        "    Layer 2\n",
        "    Takes in a (B, L~, H) FloatTensor.\n",
        "    Resizes it into a (B, L~, 1) FloatTensor.\n",
        "    \"\"\"\n",
        "    output = self.output_layer(layer_1)\n",
        "\n",
        "    \"\"\"\n",
        "    Softmax.\n",
        "    Takes in a (B, L~, 1) FloatTensor of unnormalized class scores.\n",
        "    Outputs a (B, L~, 1) FloatTensor of (log-)normalized class scores.\n",
        "    \"\"\"\n",
        "    output = self.probabilities(output)\n",
        "    output = output.view(B, -1)\n",
        "\n",
        "    return output"
      ],
      "execution_count": 76,
      "outputs": []
    },
    {
      "cell_type": "markdown",
      "metadata": {
        "id": "Avy1fnyAvEcd"
      },
      "source": [
        "### Training\n",
        "\n",
        "We are now ready to put everything together. Let's start with preparing our data and intializing our model. We can then intialize our optimizer and define our loss function. This time, instead of using one of the predefined loss function as we did before, we will define our own loss function."
      ]
    },
    {
      "cell_type": "code",
      "metadata": {
        "id": "bInu1VqjHsfj"
      },
      "source": [
        "# Prepare the data\n",
        "data = list(zip(train_sentences, train_labels))\n",
        "batch_size = 2\n",
        "shuffle = True\n",
        "window_size = 2\n",
        "collate_fn = partial(custom_collate_fn, window_size=window_size, word_to_ix=word_to_ix)\n",
        "\n",
        "# Instantiate a DataLoader\n",
        "loader = DataLoader(data, batch_size=batch_size, shuffle=shuffle, collate_fn=collate_fn)\n",
        "\n",
        "# Initialize a model\n",
        "# It is useful to put all the model hyperparameters in a dictionary\n",
        "model_hyperparameters = {\n",
        "    \"batch_size\": 4,\n",
        "    \"window_size\": 2,\n",
        "    \"embed_dim\": 25,\n",
        "    \"hidden_dim\": 25,\n",
        "    \"freeze_embeddings\": False,\n",
        "}\n",
        "\n",
        "vocab_size = len(word_to_ix)\n",
        "model = WordWindowClassifier(model_hyperparameters, vocab_size)\n",
        "\n",
        "# Define an optimizer\n",
        "learning_rate = 0.01\n",
        "optimizer = torch.optim.SGD(model.parameters(), lr=learning_rate)\n",
        "\n",
        "# Define a loss function, which computes to binary cross entropy loss\n",
        "def loss_function(batch_outputs, batch_labels, batch_lengths):\n",
        "    # Calculate the loss for the whole batch\n",
        "    bceloss = nn.BCELoss()\n",
        "    loss = bceloss(batch_outputs, batch_labels.float())\n",
        "\n",
        "    # Rescale the loss. Remember that we have used lengths to store the\n",
        "    # number of words in each training example\n",
        "    loss = loss / batch_lengths.sum().float()\n",
        "\n",
        "    return loss"
      ],
      "execution_count": 77,
      "outputs": []
    },
    {
      "cell_type": "markdown",
      "metadata": {
        "id": "pHxpxDkFHfQE"
      },
      "source": [
        "Unlike our earlier example, this time instead of passing all of our training data to the model at once in each epoch, we will be utilizing batches. Hence, in each training epoch iteration, we also iterate over the batches."
      ]
    },
    {
      "cell_type": "code",
      "metadata": {
        "id": "QL9IDgIOvHca"
      },
      "source": [
        "# Function that will be called in every epoch\n",
        "def train_epoch(loss_function, optimizer, model, loader):\n",
        "\n",
        "  # Keep track of the total loss for the batch\n",
        "  total_loss = 0\n",
        "  for batch_inputs, batch_labels, batch_lengths in loader:\n",
        "    # Clear the gradients\n",
        "    optimizer.zero_grad()\n",
        "    # Run a forward pass\n",
        "    outputs = model.forward(batch_inputs)\n",
        "    # Compute the batch loss\n",
        "    loss = loss_function(outputs, batch_labels, batch_lengths)\n",
        "    # Calculate the gradients\n",
        "    loss.backward()\n",
        "    # Update the parameteres\n",
        "    optimizer.step()\n",
        "    total_loss += loss.item()\n",
        "\n",
        "  return total_loss\n",
        "\n",
        "\n",
        "# Function containing our main training loop\n",
        "def train(loss_function, optimizer, model, loader, num_epochs=10000):\n",
        "\n",
        "  # Iterate through each epoch and call our train_epoch function\n",
        "  for epoch in range(num_epochs):\n",
        "    epoch_loss = train_epoch(loss_function, optimizer, model, loader)\n",
        "    if epoch % 100 == 0: print(epoch_loss)"
      ],
      "execution_count": 78,
      "outputs": []
    },
    {
      "cell_type": "markdown",
      "metadata": {
        "id": "cjf75cnzJ4n6"
      },
      "source": [
        "Let's start training!"
      ]
    },
    {
      "cell_type": "code",
      "metadata": {
        "id": "Kav8kwVBJ6XW",
        "colab": {
          "base_uri": "https://localhost:8080/"
        },
        "outputId": "16eb8dc7-4fc2-4375-9422-bdce76f83e60"
      },
      "source": [
        "num_epochs = 1000\n",
        "train(loss_function, optimizer, model, loader, num_epochs=num_epochs)"
      ],
      "execution_count": 79,
      "outputs": [
        {
          "output_type": "stream",
          "name": "stdout",
          "text": [
            "0.2241360992193222\n",
            "0.19938517734408379\n",
            "0.16621140018105507\n",
            "0.12584109231829643\n",
            "0.09746862389147282\n",
            "0.07698454335331917\n",
            "0.06057432293891907\n",
            "0.05082003492861986\n",
            "0.038824290968477726\n",
            "0.03947737347334623\n"
          ]
        }
      ]
    },
    {
      "cell_type": "markdown",
      "metadata": {
        "id": "T-k7Pav4LdQJ"
      },
      "source": [
        "### Prediction\n",
        "\n",
        "Let's see how well our model is at making predictions. We can start by creating our test data."
      ]
    },
    {
      "cell_type": "code",
      "metadata": {
        "id": "-v5X69a2Lkbm"
      },
      "source": [
        "# Create test sentences\n",
        "test_corpus = [\"She comes from Paris\"]\n",
        "test_sentences = [s.lower().split() for s in test_corpus]\n",
        "test_labels = [[0, 0, 0, 1]]\n",
        "\n",
        "# Create a test loader\n",
        "test_data = list(zip(test_sentences, test_labels))\n",
        "batch_size = 1\n",
        "shuffle = False\n",
        "window_size = 2\n",
        "collate_fn = partial(custom_collate_fn, window_size=2, word_to_ix=word_to_ix)\n",
        "test_loader = torch.utils.data.DataLoader(test_data,\n",
        "                                           batch_size=1,\n",
        "                                           shuffle=False,\n",
        "                                           collate_fn=collate_fn)"
      ],
      "execution_count": 80,
      "outputs": []
    },
    {
      "cell_type": "markdown",
      "metadata": {
        "id": "HlBa8xaNMZgv"
      },
      "source": [
        "Let's loop over our test examples to see how well we are doing."
      ]
    },
    {
      "cell_type": "code",
      "metadata": {
        "id": "dGYn8CAoMTjX",
        "colab": {
          "base_uri": "https://localhost:8080/"
        },
        "outputId": "8fe131cb-da9e-4b31-8539-fb2158a6c4a8"
      },
      "source": [
        "for test_instance, labels, _ in test_loader:\n",
        "  outputs = model.forward(test_instance)\n",
        "  print(labels)\n",
        "  print(outputs)"
      ],
      "execution_count": 81,
      "outputs": [
        {
          "output_type": "stream",
          "name": "stdout",
          "text": [
            "tensor([[0, 0, 0, 1]])\n",
            "tensor([[0.1376, 0.4367, 0.1125, 0.9288]], grad_fn=<ViewBackward0>)\n"
          ]
        }
      ]
    },
    {
      "cell_type": "code",
      "source": [],
      "metadata": {
        "id": "iebrU4ZibVIR"
      },
      "execution_count": 81,
      "outputs": []
    },
    {
      "cell_type": "code",
      "source": [],
      "metadata": {
        "id": "u7-fpyy7Tn7R"
      },
      "execution_count": 81,
      "outputs": []
    },
    {
      "cell_type": "code",
      "source": [],
      "metadata": {
        "id": "qztS9rz-ToBv"
      },
      "execution_count": 81,
      "outputs": []
    },
    {
      "cell_type": "code",
      "source": [],
      "metadata": {
        "id": "p_m1cLtDToGb"
      },
      "execution_count": 81,
      "outputs": []
    },
    {
      "cell_type": "markdown",
      "source": [
        "### Some roughwork"
      ],
      "metadata": {
        "id": "VinmSh4wTsuw"
      }
    },
    {
      "cell_type": "code",
      "source": [
        "import numpy as np\n",
        "# 2 4 1\n",
        "# 1 3 0\n",
        "# 5 2 1\n",
        "# 0 0 7\n",
        "# 3 3 3\n",
        "#Creating a matrix A\n",
        "A = np.array([[2,4,1],[1,3,0],[5,2,1],[0,0,7],[3,3,3]])\n",
        "\n",
        "#Performing SVD\n",
        "U, D, VT = np.linalg.svd(A)\n",
        "print(U,\"\\n\", D, \"\\n\", VT, \"\\n\")\n",
        "\n",
        "# Create diagonal matrix from singular values\n",
        "S_diag = np.zeros_like(A, dtype=float)\n",
        "# print(S_diag)\n",
        "S_diag[:min(A.shape), :min(A.shape)] = np.diag(D)\n",
        "# print(S_diag)\n",
        "\n",
        "print(U,\"\\n\", S_diag, \"\\n\", VT, \"\\n\")\n",
        "\n",
        "#Checking if we can remake the original matrix using U,D,VT\n",
        "A_remake = (U @ S_diag @ VT)\n",
        "print(A_remake)\n",
        "\n",
        "# Transformed data T=AV=US_diag\n",
        "T1 = A @ np.transpose(VT)\n",
        "print(\"\\n\", T1)\n",
        "T2 = U @ S_diag\n",
        "print(\"\\n\", T2)\n"
      ],
      "metadata": {
        "id": "N6byCIa3ToKi",
        "outputId": "9059a426-6839-41bc-ca4d-7ac729ad5990",
        "colab": {
          "base_uri": "https://localhost:8080/"
        }
      },
      "execution_count": 82,
      "outputs": [
        {
          "output_type": "stream",
          "name": "stdout",
          "text": [
            "[[-0.41846119 -0.29931902 -0.49518857 -0.4135469  -0.56485892]\n",
            " [-0.23284706 -0.27946425 -0.48914476  0.77082566  0.18505994]\n",
            " [-0.48114536 -0.36510077  0.71718769  0.23818584 -0.25319932]\n",
            " [-0.47864202  0.83394327 -0.02896125  0.18714602 -0.19894233]\n",
            " [-0.55684238 -0.05956431 -0.01813141 -0.37822035  0.73688484]] \n",
            " [9.30523808 6.47479984 2.91367657] \n",
            " [[-0.55302436 -0.537891   -0.63626828]\n",
            " [-0.44515647 -0.45477287  0.77137368]\n",
            " [ 0.70427251 -0.70982738 -0.01205481]] \n",
            "\n",
            "[[-0.41846119 -0.29931902 -0.49518857 -0.4135469  -0.56485892]\n",
            " [-0.23284706 -0.27946425 -0.48914476  0.77082566  0.18505994]\n",
            " [-0.48114536 -0.36510077  0.71718769  0.23818584 -0.25319932]\n",
            " [-0.47864202  0.83394327 -0.02896125  0.18714602 -0.19894233]\n",
            " [-0.55684238 -0.05956431 -0.01813141 -0.37822035  0.73688484]] \n",
            " [[9.30523808 0.         0.        ]\n",
            " [0.         6.47479984 0.        ]\n",
            " [0.         0.         2.91367657]\n",
            " [0.         0.         0.        ]\n",
            " [0.         0.         0.        ]] \n",
            " [[-0.55302436 -0.537891   -0.63626828]\n",
            " [-0.44515647 -0.45477287  0.77137368]\n",
            " [ 0.70427251 -0.70982738 -0.01205481]] \n",
            "\n",
            "[[ 2.00000000e+00  4.00000000e+00  1.00000000e+00]\n",
            " [ 1.00000000e+00  3.00000000e+00 -1.12822782e-17]\n",
            " [ 5.00000000e+00  2.00000000e+00  1.00000000e+00]\n",
            " [ 8.08198639e-16 -1.42259336e-16  7.00000000e+00]\n",
            " [ 3.00000000e+00  3.00000000e+00  3.00000000e+00]]\n",
            "\n",
            " [[-3.89388101 -1.93803073 -1.44281933]\n",
            " [-2.16669736 -1.80947507 -1.42520964]\n",
            " [-4.4771721  -2.36395441  2.08965297]\n",
            " [-4.45387797  5.39961577 -0.0843837 ]\n",
            " [-5.18155093 -0.38566697 -0.05282907]]\n",
            "\n",
            " [[-3.89388101 -1.93803073 -1.44281933]\n",
            " [-2.16669736 -1.80947507 -1.42520964]\n",
            " [-4.4771721  -2.36395441  2.08965297]\n",
            " [-4.45387797  5.39961577 -0.0843837 ]\n",
            " [-5.18155093 -0.38566697 -0.05282907]]\n"
          ]
        }
      ]
    }
  ]
}